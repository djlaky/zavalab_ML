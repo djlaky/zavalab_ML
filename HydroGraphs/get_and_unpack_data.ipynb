{
 "cells": [
  {
   "cell_type": "code",
   "execution_count": null,
   "metadata": {},
   "outputs": [],
   "source": [
    "import wget\n",
    "import os\n",
    "import zipfile\n",
    "import py7zr\n",
    "import shutil"
   ]
  },
  {
   "cell_type": "code",
   "execution_count": null,
   "metadata": {},
   "outputs": [],
   "source": [
    "# Download agricultural land data\n",
    "\n",
    "agland_url = \"https://data.nal.usda.gov/system/files/WI_ACPFfields2019.zip\"\n",
    "path = os.getcwd()\n",
    "wget.download(agland_url, out = path)"
   ]
  },
  {
   "cell_type": "code",
   "execution_count": null,
   "metadata": {},
   "outputs": [],
   "source": [
    "# Unpack data and remove zip file\n",
    "\n",
    "agland_path = path + \"/graph_construction/agland\"\n",
    "\n",
    "with zipfile.ZipFile(\"WI_ACPFfields2019.zip\", 'r') as zipObj:\n",
    "    zipObj.extract(\"WisconsinFieldBoundaries2019.cpg\", path = agland_path)\n",
    "    zipObj.extract(\"WisconsinFieldBoundaries2019.dbf\", path = agland_path)\n",
    "    zipObj.extract(\"WisconsinFieldBoundaries2019.prj\", path = agland_path)\n",
    "    zipObj.extract(\"WisconsinFieldBoundaries2019.sbn\", path = agland_path)\n",
    "    zipObj.extract(\"WisconsinFieldBoundaries2019.sbx\", path = agland_path)\n",
    "    zipObj.extract(\"WisconsinFieldBoundaries2019.shp\", path = agland_path)\n",
    "    zipObj.extract(\"WisconsinFieldBoundaries2019.shp.xml\", path = agland_path)\n",
    "    zipObj.extract(\"WisconsinFieldBoundaries2019.shx\", path = agland_path)    \n",
    "\n",
    "os.remove(path + \"/WI_ACPFfields2019.zip\")"
   ]
  },
  {
   "cell_type": "code",
   "execution_count": null,
   "metadata": {
    "scrolled": true
   },
   "outputs": [],
   "source": [
    "# Download HUC04 NHDPlusV2 data\n",
    "\n",
    "watershed4_url = \"https://edap-ow-data-commons.s3.amazonaws.com/NHDPlusV21/Data/NHDPlusGL/NHDPlusV21_GL_04_NHDSnapshot_08.7z\"\n",
    "wget.download(watershed4_url, out = path)"
   ]
  },
  {
   "cell_type": "code",
   "execution_count": null,
   "metadata": {},
   "outputs": [],
   "source": [
    "# Extract data from .7z file\n",
    "\n",
    "watershed4_path = path + \"/graph_construction/lakes_rivers/Watershed4/\"\n",
    "with py7zr.SevenZipFile(\"NHDPlusV21_GL_04_NHDSnapshot_08.7z\", 'r') as z:\n",
    "    z.extractall(path)\n",
    "\n",
    "# Move data to proper folder, and then delete the unnecessary unpacked data and the .7z file\n",
    "\n",
    "NHDPlus4_path = path + \"/NHDPlusGL/NHDPlus04/NHDSnapshot/Hydrography/\"\n",
    "\n",
    "shutil.move(NHDPlus4_path + \"NHDFlowline.shp\", watershed4_path)\n",
    "shutil.move(NHDPlus4_path + \"NHDFlowline.shp.xml\", watershed4_path)\n",
    "shutil.move(NHDPlus4_path + \"NHDFlowline.dbf\", watershed4_path)\n",
    "shutil.move(NHDPlus4_path + \"NHDFlowline.prj\", watershed4_path)\n",
    "shutil.move(NHDPlus4_path + \"NHDFlowline.shx\", watershed4_path)\n",
    "shutil.move(NHDPlus4_path + \"NHDWaterbody.shp\", watershed4_path)\n",
    "shutil.move(NHDPlus4_path + \"NHDWaterbody.dbf\", watershed4_path)\n",
    "shutil.move(NHDPlus4_path + \"NHDWaterbody.prj\", watershed4_path)\n",
    "shutil.move(NHDPlus4_path + \"NHDWaterbody.shx\", watershed4_path)\n",
    "\n",
    "shutil.rmtree(path + \"/NHDPlusGL\")\n",
    "os.remove(path + \"/NHDPlusV21_GL_04_NHDSnapshot_08.7z\")"
   ]
  },
  {
   "cell_type": "code",
   "execution_count": null,
   "metadata": {},
   "outputs": [],
   "source": [
    "# Download HUC07 NHDPlusV2 data\n",
    "\n",
    "watershed7_url = \"https://edap-ow-data-commons.s3.amazonaws.com/NHDPlusV21/Data/NHDPlusMS/NHDPlus07/NHDPlusV21_MS_07_NHDSnapshot_08.7z\"\n",
    "wget.download(watershed7_url, out = path)"
   ]
  },
  {
   "cell_type": "code",
   "execution_count": null,
   "metadata": {
    "scrolled": true
   },
   "outputs": [],
   "source": [
    "# Extract data from .7z file\n",
    "\n",
    "watershed7_path = path + \"/graph_construction/lakes_rivers/Watershed7/\"\n",
    "with py7zr.SevenZipFile(\"NHDPlusV21_MS_07_NHDSnapshot_08.7z\", 'r') as z:\n",
    "    z.extractall(path)\n",
    "    \n",
    "# Move data to proper folder, and then delete the unnecessary unpacked data and the .7z file\n",
    "    \n",
    "NHDPlus7_path = path + \"/NHDPlusMS/NHDPlus07/NHDSnapshot/Hydrography/\"\n",
    "\n",
    "shutil.move(NHDPlus7_path + \"NHDFlowline.shp\", watershed7_path)\n",
    "shutil.move(NHDPlus7_path + \"NHDFlowline.dbf\", watershed7_path)\n",
    "shutil.move(NHDPlus7_path + \"NHDFlowline.prj\", watershed7_path)\n",
    "shutil.move(NHDPlus7_path + \"NHDFlowline.shx\", watershed7_path)\n",
    "shutil.move(NHDPlus7_path + \"NHDWaterbody.shp\", watershed7_path)\n",
    "shutil.move(NHDPlus7_path + \"NHDWaterbody.dbf\", watershed7_path)\n",
    "shutil.move(NHDPlus7_path + \"NHDWaterbody.prj\", watershed7_path)\n",
    "shutil.move(NHDPlus7_path + \"NHDWaterbody.shx\", watershed7_path)\n",
    "\n",
    "shutil.rmtree(path + \"/NHDPlusMS\")\n",
    "os.remove(path + \"/NHDPlusV21_MS_07_NHDSnapshot_08.7z\")"
   ]
  },
  {
   "cell_type": "code",
   "execution_count": null,
   "metadata": {},
   "outputs": [],
   "source": [
    "# Download the NHDPlusV2 Attributes to get file that contains the to-from comid lists for HUC 04\n",
    "\n",
    "watershed4_url_attributes = \"https://edap-ow-data-commons.s3.amazonaws.com/NHDPlusV21/Data/NHDPlusGL/NHDPlusV21_GL_04_NHDPlusAttributes_14.7z\"\n",
    "wget.download(watershed4_url_attributes, out = path)"
   ]
  },
  {
   "cell_type": "code",
   "execution_count": null,
   "metadata": {},
   "outputs": [],
   "source": [
    "# Extract data from the .7z file\n",
    "\n",
    "watershed4_path = path + \"/graph_construction/lakes_rivers/Watershed4/\"\n",
    "with py7zr.SevenZipFile(\"NHDPlusV21_GL_04_NHDPlusAttributes_14.7z\", 'r') as z:\n",
    "    z.extractall(path)\n",
    "\n",
    "# Move data to proper folder, and then delete the unnecessary unpacked data and the .7z file\n",
    "\n",
    "NHDPlus4_attributes_path = path + \"/NHDPlusGL/NHDPlus04/NHDPlusAttributes/\"\n",
    "\n",
    "shutil.move(NHDPlus4_attributes_path + \"PlusFlow.dbf\", watershed4_path)\n",
    "\n",
    "shutil.rmtree(path + \"/NHDPlusGL\")\n",
    "os.remove(path + \"/NHDPlusV21_GL_04_NHDPlusAttributes_14.7z\")"
   ]
  },
  {
   "cell_type": "code",
   "execution_count": null,
   "metadata": {},
   "outputs": [],
   "source": [
    "# Download the NHDPlusV2 Attributes to get file that contains the to-from comid lists for HUC 07\n",
    "\n",
    "watershed7_url_attributes = \"https://edap-ow-data-commons.s3.amazonaws.com/NHDPlusV21/Data/NHDPlusMS/NHDPlus07/NHDPlusV21_MS_07_NHDPlusAttributes_10.7z\"\n",
    "wget.download(watershed7_url_attributes, out = path)"
   ]
  },
  {
   "cell_type": "code",
   "execution_count": null,
   "metadata": {},
   "outputs": [],
   "source": [
    "# Extract data from the .7z file\n",
    "\n",
    "watershed7_path = path + \"/graph_construction/lakes_rivers/Watershed7/\"\n",
    "with py7zr.SevenZipFile(\"NHDPlusV21_MS_07_NHDPlusAttributes_10.7z\", 'r') as z:\n",
    "    z.extractall(path)\n",
    "    \n",
    "# Move data to proper folder, and then delete the unnecessary unpacked data and the .7z file\n",
    "    \n",
    "NHDPlus7_attributes_path = path + \"/NHDPlusMS/NHDPlus07/NHDPlusAttributes/\"\n",
    "\n",
    "shutil.move(NHDPlus7_attributes_path + \"PlusFlow.dbf\", watershed7_path)\n",
    "\n",
    "shutil.rmtree(path + \"/NHDPlusMS\")\n",
    "os.remove(path + \"/NHDPlusV21_MS_07_NHDPlusAttributes_10.7z\")"
   ]
  },
  {
   "cell_type": "code",
   "execution_count": null,
   "metadata": {},
   "outputs": [],
   "source": [
    "# Download the Watershed Boundary Dataset for HUC04\n",
    "\n",
    "wbd4_url = \"https://prd-tnm.s3.amazonaws.com/StagedProducts/Hydrography/WBD/HU2/Shape/WBD_04_HU2_Shape.zip\"\n",
    "wget.download(wbd4_url, out = path)"
   ]
  },
  {
   "cell_type": "code",
   "execution_count": null,
   "metadata": {},
   "outputs": [],
   "source": [
    "# Unpack the dataset, move the necessary files, and remove the remaining files and zip file\n",
    "\n",
    "watershed4_path = path + \"/graph_construction/lakes_rivers/Watershed4/\"\n",
    "\n",
    "with zipfile.ZipFile(\"WBD_04_HU2_Shape.zip\", 'r') as zipObj:\n",
    "    zipObj.extractall(path = path)\n",
    "\n",
    "shutil.move(path + \"/Shape/WBDHU8.dbf\", watershed4_path)\n",
    "shutil.move(path + \"/Shape/WBDHU8.prj\", watershed4_path)\n",
    "shutil.move(path + \"/Shape/WBDHU8.shp\", watershed4_path)\n",
    "shutil.move(path + \"/Shape/WBDHU8.shx\", watershed4_path)\n",
    "shutil.move(path + \"/Shape/WBDHU10.dbf\", watershed4_path)\n",
    "shutil.move(path + \"/Shape/WBDHU10.prj\", watershed4_path)\n",
    "shutil.move(path + \"/Shape/WBDHU10.shp\", watershed4_path)\n",
    "shutil.move(path + \"/Shape/WBDHU10.shx\", watershed4_path)\n",
    "shutil.move(path + \"/Shape/WBDHU12.dbf\", watershed4_path)\n",
    "shutil.move(path + \"/Shape/WBDHU12.prj\", watershed4_path)\n",
    "shutil.move(path + \"/Shape/WBDHU12.shp\", watershed4_path)\n",
    "shutil.move(path + \"/Shape/WBDHU12.shx\", watershed4_path)\n",
    "\n",
    "    \n",
    "os.remove(path + \"/WBD_04_HU2_Shape.zip\")\n",
    "os.remove(path + \"/WBD_04_HU2_Shape.jpg\")\n",
    "os.remove(path + \"/WBD_04_HU2_Shape.xml\")\n",
    "shutil.rmtree(path + \"/Shape\")"
   ]
  },
  {
   "cell_type": "code",
   "execution_count": null,
   "metadata": {},
   "outputs": [],
   "source": [
    "# Download the Watershed Boundary Dataset for HUC07\n",
    "\n",
    "wbd7_url = \"https://prd-tnm.s3.amazonaws.com/StagedProducts/Hydrography/WBD/HU2/Shape/WBD_07_HU2_Shape.zip\"\n",
    "wget.download(wbd7_url, out = path)"
   ]
  },
  {
   "cell_type": "code",
   "execution_count": null,
   "metadata": {},
   "outputs": [],
   "source": [
    "# Unpack the dataset, move the necessary files, and remove the remaining files and zip file\n",
    "\n",
    "watershed7_path = path + \"/graph_construction/lakes_rivers/Watershed7/\"\n",
    "\n",
    "with zipfile.ZipFile(\"WBD_07_HU2_Shape.zip\", 'r') as zipObj:\n",
    "    zipObj.extractall(path = path)\n",
    "\n",
    "shutil.move(path + \"/Shape/WBDHU8.dbf\", watershed7_path)\n",
    "shutil.move(path + \"/Shape/WBDHU8.prj\", watershed7_path)\n",
    "shutil.move(path + \"/Shape/WBDHU8.shp\", watershed7_path)\n",
    "shutil.move(path + \"/Shape/WBDHU8.shx\", watershed7_path)\n",
    "shutil.move(path + \"/Shape/WBDHU10.dbf\", watershed7_path)\n",
    "shutil.move(path + \"/Shape/WBDHU10.prj\", watershed7_path)\n",
    "shutil.move(path + \"/Shape/WBDHU10.shp\", watershed7_path)\n",
    "shutil.move(path + \"/Shape/WBDHU10.shx\", watershed7_path)\n",
    "shutil.move(path + \"/Shape/WBDHU12.dbf\", watershed7_path)\n",
    "shutil.move(path + \"/Shape/WBDHU12.prj\", watershed7_path)\n",
    "shutil.move(path + \"/Shape/WBDHU12.shp\", watershed7_path)\n",
    "shutil.move(path + \"/Shape/WBDHU12.shx\", watershed7_path)\n",
    "\n",
    "    \n",
    "os.remove(path + \"/WBD_07_HU2_Shape.zip\")\n",
    "os.remove(path + \"/WBD_07_HU2_Shape.jpg\")\n",
    "os.remove(path + \"/WBD_07_HU2_Shape.xml\")\n",
    "shutil.rmtree(path + \"/Shape\")"
   ]
  },
  {
   "cell_type": "code",
   "execution_count": null,
   "metadata": {},
   "outputs": [],
   "source": [
    "# Unpack the zipfile with WILakes.df and WIRivers.df\n",
    "\n",
    "graph_construction_path = path + \"/graph_construction\"\n",
    "\n",
    "with zipfile.ZipFile(graph_construction_path + \"/WI_lakes_rivers.zip\", \"r\") as zipObj:\n",
    "    zipObj.extract(\"WILakes.df\", path = graph_construction_path)\n",
    "    zipObj.extract(\"WIRivers.df\", path = graph_construction_path)"
   ]
  },
  {
   "cell_type": "code",
   "execution_count": null,
   "metadata": {},
   "outputs": [],
   "source": [
    "# Unpack the zipfile with the Hydro Waterbodies dataset for Wisconsin\n",
    "\n",
    "Hydro_path = path + \"/DNR_data/Hydro_Waterbodies\"\n",
    "\n",
    "with zipfile.ZipFile(Hydro_path + \"/24k_Hydro_Waterbodies_(Open_Water).zip\", \"r\") as zipObj:\n",
    "    zipObj.extract(\"24k_Hydro_Waterbodies_(Open_Water).xml\", path = Hydro_path)\n",
    "    zipObj.extract(\"24k_Hydro_Waterbodies_(Open_Water).cpg\", path = Hydro_path)    \n",
    "    zipObj.extract(\"24k_Hydro_Waterbodies_(Open_Water).dbf\", path = Hydro_path)    \n",
    "    zipObj.extract(\"24k_Hydro_Waterbodies_(Open_Water).prj\", path = Hydro_path)    \n",
    "    zipObj.extract(\"24k_Hydro_Waterbodies_(Open_Water).shp\", path = Hydro_path)    \n",
    "    zipObj.extract(\"24k_Hydro_Waterbodies_(Open_Water).shx\", path = Hydro_path)    "
   ]
  }
 ],
 "metadata": {
  "kernelspec": {
   "display_name": "Python 3",
   "language": "python",
   "name": "python3"
  },
  "language_info": {
   "codemirror_mode": {
    "name": "ipython",
    "version": 3
   },
   "file_extension": ".py",
   "mimetype": "text/x-python",
   "name": "python",
   "nbconvert_exporter": "python",
   "pygments_lexer": "ipython3",
   "version": "3.8.5"
  }
 },
 "nbformat": 4,
 "nbformat_minor": 4
}
