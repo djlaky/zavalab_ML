{
 "cells": [
  {
   "cell_type": "code",
   "execution_count": 34,
   "id": "fdac93b2-297c-4e08-b5c4-7416028740af",
   "metadata": {},
   "outputs": [
    {
     "name": "stdout",
     "output_type": "stream",
     "text": [
      "The autoreload extension is already loaded. To reload it, use:\n",
      "  %reload_ext autoreload\n"
     ]
    }
   ],
   "source": [
    "%load_ext autoreload\n",
    "%autoreload 2\n",
    "import pickle\n",
    "import os\n",
    "\n",
    "import numpy as np\n",
    "import pandas as pd\n",
    "\n",
    "import sys\n",
    "sys.path.append('src')\n",
    "\n",
    "from result_utils import get_cnn_result\n",
    "from hybrid_utils import run_svc, run_cascade, run_and, run_or, run_avg\n",
    "\n",
    "DATA_DIR = \"./data\"\n",
    "CNN_DIR = \"./result/cnn/\"\n",
    "RESULT_DIR = \"./result/\"\n"
   ]
  },
  {
   "cell_type": "markdown",
   "id": "e39e885a-f109-470d-a08b-5c65dd92510b",
   "metadata": {},
   "source": [
    "### CNN Performance"
   ]
  },
  {
   "cell_type": "code",
   "execution_count": 11,
   "id": "2de16718-9c14-4d05-aced-8db3bb9d17bf",
   "metadata": {},
   "outputs": [
    {
     "data": {
      "text/html": [
       "<div>\n",
       "<style scoped>\n",
       "    .dataframe tbody tr th:only-of-type {\n",
       "        vertical-align: middle;\n",
       "    }\n",
       "\n",
       "    .dataframe tbody tr th {\n",
       "        vertical-align: top;\n",
       "    }\n",
       "\n",
       "    .dataframe thead th {\n",
       "        text-align: right;\n",
       "    }\n",
       "</style>\n",
       "<table border=\"1\" class=\"dataframe\">\n",
       "  <thead>\n",
       "    <tr style=\"text-align: right;\">\n",
       "      <th></th>\n",
       "      <th>Res</th>\n",
       "      <th>Gamma</th>\n",
       "      <th>Lr</th>\n",
       "      <th>Group</th>\n",
       "      <th>Accuracy</th>\n",
       "      <th>Threshold</th>\n",
       "      <th>Balanced Accuracy</th>\n",
       "      <th>Phi Coefficient</th>\n",
       "      <th>Sensitivity</th>\n",
       "      <th>Specificity</th>\n",
       "      <th>ROC</th>\n",
       "      <th>ROC Boot Mean</th>\n",
       "      <th>ROC Boot CI 2.5</th>\n",
       "      <th>ROC Boot CI 97.5</th>\n",
       "      <th>ROC Boot p</th>\n",
       "      <th>Conf</th>\n",
       "      <th>TPR</th>\n",
       "      <th>FPR</th>\n",
       "    </tr>\n",
       "  </thead>\n",
       "  <tbody>\n",
       "    <tr>\n",
       "      <th>0</th>\n",
       "      <td>0.2500</td>\n",
       "      <td>0</td>\n",
       "      <td>0.0010</td>\n",
       "      <td>Test</td>\n",
       "      <td>0.5640</td>\n",
       "      <td>[          inf 9.9100870e-01 9.6703601e-01 9.6...</td>\n",
       "      <td>0.5187</td>\n",
       "      <td>0.0414</td>\n",
       "      <td>0.2899</td>\n",
       "      <td>0.7476</td>\n",
       "      <td>0.4967</td>\n",
       "      <td>0.4971</td>\n",
       "      <td>0.4049</td>\n",
       "      <td>0.5849</td>\n",
       "      <td>0.0889</td>\n",
       "      <td>[[77 26]\\n [49 20]]</td>\n",
       "      <td>[0.         0.01449275 0.01449275 0.02898551 0...</td>\n",
       "      <td>[0.         0.         0.02912621 0.02912621 0...</td>\n",
       "    </tr>\n",
       "    <tr>\n",
       "      <th>0</th>\n",
       "      <td>0.2500</td>\n",
       "      <td>0</td>\n",
       "      <td>0.0010</td>\n",
       "      <td>Valid</td>\n",
       "      <td>0.5500</td>\n",
       "      <td>[          inf 9.8912650e-01 9.4855106e-01 9.2...</td>\n",
       "      <td>0.5011</td>\n",
       "      <td>0.0023</td>\n",
       "      <td>0.2727</td>\n",
       "      <td>0.7294</td>\n",
       "      <td>0.5519</td>\n",
       "      <td>0.5519</td>\n",
       "      <td>0.4523</td>\n",
       "      <td>0.6519</td>\n",
       "      <td>0.0000</td>\n",
       "      <td>[[62 23]\\n [40 15]]</td>\n",
       "      <td>[0.         0.01818182 0.05454545 0.05454545 0...</td>\n",
       "      <td>[0.         0.         0.         0.02352941 0...</td>\n",
       "    </tr>\n",
       "    <tr>\n",
       "      <th>0</th>\n",
       "      <td>0.2500</td>\n",
       "      <td>0</td>\n",
       "      <td>0.0010</td>\n",
       "      <td>Train</td>\n",
       "      <td>0.9872</td>\n",
       "      <td>[          inf 9.9980193e-01 4.5676276e-01 3.4...</td>\n",
       "      <td>0.9842</td>\n",
       "      <td>0.9737</td>\n",
       "      <td>0.9683</td>\n",
       "      <td>1.0000</td>\n",
       "      <td>0.9997</td>\n",
       "      <td>0.9997</td>\n",
       "      <td>0.9990</td>\n",
       "      <td>1.0000</td>\n",
       "      <td>0.0000</td>\n",
       "      <td>[[327   0]\\n [  7 214]]</td>\n",
       "      <td>[0.         0.00452489 0.99095023 0.99095023 0...</td>\n",
       "      <td>[0.         0.         0.         0.01223242 0...</td>\n",
       "    </tr>\n",
       "    <tr>\n",
       "      <th>0</th>\n",
       "      <td>0.1250</td>\n",
       "      <td>2</td>\n",
       "      <td>0.0010</td>\n",
       "      <td>Test</td>\n",
       "      <td>0.5407</td>\n",
       "      <td>[       inf 0.81100833 0.7807745  0.7440585  0...</td>\n",
       "      <td>0.5089</td>\n",
       "      <td>0.0184</td>\n",
       "      <td>0.3478</td>\n",
       "      <td>0.6699</td>\n",
       "      <td>0.4850</td>\n",
       "      <td>0.4853</td>\n",
       "      <td>0.3993</td>\n",
       "      <td>0.5783</td>\n",
       "      <td>0.0000</td>\n",
       "      <td>[[69 34]\\n [45 24]]</td>\n",
       "      <td>[0.         0.         0.02898551 0.02898551 0...</td>\n",
       "      <td>[0.         0.00970874 0.00970874 0.04854369 0...</td>\n",
       "    </tr>\n",
       "    <tr>\n",
       "      <th>0</th>\n",
       "      <td>0.1250</td>\n",
       "      <td>2</td>\n",
       "      <td>0.0010</td>\n",
       "      <td>Valid</td>\n",
       "      <td>0.5143</td>\n",
       "      <td>[       inf 0.81499946 0.7833994  0.766371   0...</td>\n",
       "      <td>0.4749</td>\n",
       "      <td>-0.0526</td>\n",
       "      <td>0.2909</td>\n",
       "      <td>0.6588</td>\n",
       "      <td>0.4573</td>\n",
       "      <td>0.4562</td>\n",
       "      <td>0.3615</td>\n",
       "      <td>0.5549</td>\n",
       "      <td>0.0000</td>\n",
       "      <td>[[56 29]\\n [39 16]]</td>\n",
       "      <td>[0.         0.         0.         0.01818182 0...</td>\n",
       "      <td>[0.         0.01176471 0.02352941 0.02352941 0...</td>\n",
       "    </tr>\n",
       "  </tbody>\n",
       "</table>\n",
       "</div>"
      ],
      "text/plain": [
       "     Res  Gamma     Lr  Group  Accuracy  \\\n",
       "0 0.2500      0 0.0010   Test    0.5640   \n",
       "0 0.2500      0 0.0010  Valid    0.5500   \n",
       "0 0.2500      0 0.0010  Train    0.9872   \n",
       "0 0.1250      2 0.0010   Test    0.5407   \n",
       "0 0.1250      2 0.0010  Valid    0.5143   \n",
       "\n",
       "                                           Threshold  Balanced Accuracy  \\\n",
       "0  [          inf 9.9100870e-01 9.6703601e-01 9.6...             0.5187   \n",
       "0  [          inf 9.8912650e-01 9.4855106e-01 9.2...             0.5011   \n",
       "0  [          inf 9.9980193e-01 4.5676276e-01 3.4...             0.9842   \n",
       "0  [       inf 0.81100833 0.7807745  0.7440585  0...             0.5089   \n",
       "0  [       inf 0.81499946 0.7833994  0.766371   0...             0.4749   \n",
       "\n",
       "   Phi Coefficient  Sensitivity  Specificity    ROC  ROC Boot Mean  \\\n",
       "0           0.0414       0.2899       0.7476 0.4967         0.4971   \n",
       "0           0.0023       0.2727       0.7294 0.5519         0.5519   \n",
       "0           0.9737       0.9683       1.0000 0.9997         0.9997   \n",
       "0           0.0184       0.3478       0.6699 0.4850         0.4853   \n",
       "0          -0.0526       0.2909       0.6588 0.4573         0.4562   \n",
       "\n",
       "   ROC Boot CI 2.5  ROC Boot CI 97.5  ROC Boot p                     Conf  \\\n",
       "0           0.4049            0.5849      0.0889      [[77 26]\\n [49 20]]   \n",
       "0           0.4523            0.6519      0.0000      [[62 23]\\n [40 15]]   \n",
       "0           0.9990            1.0000      0.0000  [[327   0]\\n [  7 214]]   \n",
       "0           0.3993            0.5783      0.0000      [[69 34]\\n [45 24]]   \n",
       "0           0.3615            0.5549      0.0000      [[56 29]\\n [39 16]]   \n",
       "\n",
       "                                                 TPR  \\\n",
       "0  [0.         0.01449275 0.01449275 0.02898551 0...   \n",
       "0  [0.         0.01818182 0.05454545 0.05454545 0...   \n",
       "0  [0.         0.00452489 0.99095023 0.99095023 0...   \n",
       "0  [0.         0.         0.02898551 0.02898551 0...   \n",
       "0  [0.         0.         0.         0.01818182 0...   \n",
       "\n",
       "                                                 FPR  \n",
       "0  [0.         0.         0.02912621 0.02912621 0...  \n",
       "0  [0.         0.         0.         0.02352941 0...  \n",
       "0  [0.         0.         0.         0.01223242 0...  \n",
       "0  [0.         0.00970874 0.00970874 0.04854369 0...  \n",
       "0  [0.         0.01176471 0.02352941 0.02352941 0...  "
      ]
     },
     "execution_count": 11,
     "metadata": {},
     "output_type": "execute_result"
    }
   ],
   "source": [
    "# Aggregating CNN results with different parameters\n",
    "result_non_focal = get_cnn_result(cnn_dir=CNN_DIR, \n",
    "                                  folds=5, \n",
    "                                  gamma=0, \n",
    "                                  resolution=0.25, \n",
    "                                  learning_rate=0.001)\n",
    "\n",
    "result_res_64 = get_cnn_result(cnn_dir=CNN_DIR,\n",
    "                               folds=5, \n",
    "                               gamma=2, \n",
    "                               resolution=0.125, \n",
    "                               learning_rate=0.001)\n",
    "\n",
    "\n",
    "result_res_256 = get_cnn_result(cnn_dir=CNN_DIR,\n",
    "                                folds=5, \n",
    "                                gamma=2, \n",
    "                                resolution=0.5, \n",
    "                                learning_rate=0.001)\n",
    "\n",
    "# Combining the results into a single dataframe\n",
    "combined_results = pd.concat([result_non_focal, result_res_64, result_res_256])\n",
    "\n",
    "# Iterating over different gamma and learning rate combinations\n",
    "for gamma in [2, 3, 4, 5]:\n",
    "    for lr in [0.005, 0.001, 0.0005]:\n",
    "        temp_result = get_cnn_result(cnn_dir=CNN_DIR,\n",
    "                                     folds=5, \n",
    "                                     gamma=gamma, \n",
    "                                     resolution=0.25, \n",
    "                                     learning_rate=lr)\n",
    "        combined_results = pd.concat([combined_results, temp_result])\n",
    "\n",
    "# Saving the aggregated results to a CSV file\n",
    "combined_results.to_csv(os.path.join(RESULT_DIR, \"result_cnn.csv\"), index=False)\n",
    "\n",
    "# Displaying the head of the combined results dataframe\n",
    "combined_results.head()"
   ]
  },
  {
   "cell_type": "markdown",
   "id": "8ac4f3e6",
   "metadata": {},
   "source": [
    "### SVM Performance"
   ]
  },
  {
   "cell_type": "code",
   "execution_count": 20,
   "id": "70ea2023",
   "metadata": {},
   "outputs": [],
   "source": [
    "with open(os.path.join(DATA_DIR, \"five_fold.pickle\"), \"rb\") as handle:\n",
    "    fold_file = pickle.load(handle)\n",
    "    fold_group = pickle.load(handle)"
   ]
  },
  {
   "cell_type": "code",
   "execution_count": 25,
   "id": "b71432e0-90ed-42a1-a537-8de3597369c1",
   "metadata": {},
   "outputs": [
    {
     "name": "stdout",
     "output_type": "stream",
     "text": [
      "Balanced Accuracy: 0.5303\n"
     ]
    }
   ],
   "source": [
    "df_metrics_svm, y_preds_svm_prob = run_svc(DATA_DIR=DATA_DIR,\n",
    "                                           fold_file=fold_file)"
   ]
  },
  {
   "cell_type": "markdown",
   "id": "20bc8da0",
   "metadata": {},
   "source": [
    "### Hybrid cascade"
   ]
  },
  {
   "cell_type": "code",
   "execution_count": 26,
   "id": "fd3770b3",
   "metadata": {},
   "outputs": [
    {
     "name": "stdout",
     "output_type": "stream",
     "text": [
      "Balanced Accuracy: 0.6127\n"
     ]
    }
   ],
   "source": [
    "df_metrics_cas, y_tests, coefs = run_cascade(DATA_DIR=DATA_DIR,\n",
    "                                             CNN_DIR=CNN_DIR,\n",
    "                                             fold_file=fold_file)"
   ]
  },
  {
   "cell_type": "markdown",
   "id": "5b0ebf67",
   "metadata": {},
   "source": [
    "### Hybrid and-voting"
   ]
  },
  {
   "cell_type": "code",
   "execution_count": 29,
   "id": "5760fcab",
   "metadata": {},
   "outputs": [
    {
     "name": "stdout",
     "output_type": "stream",
     "text": [
      "Balanced Accuracy: 0.5000\n"
     ]
    }
   ],
   "source": [
    "df_metrics_and = run_and(CNN_DIR=CNN_DIR,\n",
    "                         y_preds_svm_prob=y_preds_svm_prob,\n",
    "                         y_tests=y_tests, \n",
    "                         coefs=coefs)"
   ]
  },
  {
   "cell_type": "markdown",
   "id": "57bec73c",
   "metadata": {},
   "source": [
    "### Hybrid or-voting"
   ]
  },
  {
   "cell_type": "code",
   "execution_count": 32,
   "id": "11ff4c58",
   "metadata": {},
   "outputs": [
    {
     "name": "stdout",
     "output_type": "stream",
     "text": [
      "Balanced Accuracy: 0.6054\n"
     ]
    }
   ],
   "source": [
    "df_metrics_or = run_or(CNN_DIR=CNN_DIR,\n",
    "                       y_preds_svm_prob=y_preds_svm_prob,\n",
    "                       y_tests=y_tests, \n",
    "                       coefs=coefs)"
   ]
  },
  {
   "cell_type": "markdown",
   "id": "44e266c1",
   "metadata": {},
   "source": [
    "### Hybrid avg-voting"
   ]
  },
  {
   "cell_type": "code",
   "execution_count": 35,
   "id": "9724ed26",
   "metadata": {},
   "outputs": [
    {
     "name": "stdout",
     "output_type": "stream",
     "text": [
      "Balanced Accuracy: 0.5019\n"
     ]
    }
   ],
   "source": [
    "df_metrics_avg = run_avg(CNN_DIR=CNN_DIR,\n",
    "                         y_preds_svm_prob=y_preds_svm_prob,\n",
    "                         y_tests=y_tests, \n",
    "                         coefs=coefs)"
   ]
  },
  {
   "cell_type": "markdown",
   "id": "6dc6f255",
   "metadata": {},
   "source": [
    "### Combine all results"
   ]
  },
  {
   "cell_type": "code",
   "execution_count": 36,
   "id": "a3324b86",
   "metadata": {},
   "outputs": [],
   "source": [
    "df_hybrid = pd.concat([df_metrics_svm, \n",
    "                       df_metrics_cas, \n",
    "                       df_metrics_and, \n",
    "                       df_metrics_or, \n",
    "                       df_metrics_avg])\n",
    "\n",
    "df_hybrid.to_csv(os.path.join(RESULT_DIR, \"result_hybrid.csv\"), index=False)"
   ]
  },
  {
   "cell_type": "markdown",
   "id": "7dc82bc8",
   "metadata": {},
   "source": [
    "### Repeat for with LAA"
   ]
  },
  {
   "cell_type": "code",
   "execution_count": 39,
   "id": "e2ded3b6",
   "metadata": {},
   "outputs": [
    {
     "name": "stdout",
     "output_type": "stream",
     "text": [
      "Balanced Accuracy: 0.4673\n",
      "Balanced Accuracy: 0.6079\n",
      "Balanced Accuracy: 0.4951\n",
      "Balanced Accuracy: 0.6102\n",
      "Balanced Accuracy: 0.4970\n"
     ]
    }
   ],
   "source": [
    "df_metrics_svm, y_preds_svm_prob = run_svc(DATA_DIR=DATA_DIR,\n",
    "                                           fold_file=fold_file,\n",
    "                                           LAA=True)\n",
    "\n",
    "df_metrics_cas, y_tests, coefs = run_cascade(DATA_DIR=DATA_DIR,\n",
    "                                             CNN_DIR=CNN_DIR,\n",
    "                                             fold_file=fold_file,\n",
    "                                             LAA=True)\n",
    "\n",
    "df_metrics_and = run_and(CNN_DIR=CNN_DIR,\n",
    "                         y_preds_svm_prob=y_preds_svm_prob,\n",
    "                         y_tests=y_tests, \n",
    "                         coefs=coefs)\n",
    "\n",
    "df_metrics_or = run_or(CNN_DIR=CNN_DIR,\n",
    "                       y_preds_svm_prob=y_preds_svm_prob,\n",
    "                       y_tests=y_tests, \n",
    "                       coefs=coefs)\n",
    "\n",
    "df_metrics_avg = run_avg(CNN_DIR=CNN_DIR,\n",
    "                         y_preds_svm_prob=y_preds_svm_prob,\n",
    "                         y_tests=y_tests, \n",
    "                         coefs=coefs)\n",
    "\n",
    "df_hybrid = pd.concat([df_metrics_svm, \n",
    "                       df_metrics_cas, \n",
    "                       df_metrics_and, \n",
    "                       df_metrics_or, \n",
    "                       df_metrics_avg])\n",
    "\n",
    "df_hybrid.to_csv(os.path.join(RESULT_DIR, \"result_LAA.csv\"), index=False)"
   ]
  },
  {
   "cell_type": "code",
   "execution_count": null,
   "id": "c0b51ce2",
   "metadata": {},
   "outputs": [],
   "source": []
  }
 ],
 "metadata": {
  "kernelspec": {
   "display_name": "Python 3 (ipykernel)",
   "language": "python",
   "name": "python3"
  },
  "language_info": {
   "codemirror_mode": {
    "name": "ipython",
    "version": 3
   },
   "file_extension": ".py",
   "mimetype": "text/x-python",
   "name": "python",
   "nbconvert_exporter": "python",
   "pygments_lexer": "ipython3",
   "version": "3.8.17"
  }
 },
 "nbformat": 4,
 "nbformat_minor": 5
}
