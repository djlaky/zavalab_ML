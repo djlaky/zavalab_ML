{
 "cells": [
  {
   "cell_type": "code",
   "execution_count": 1,
   "metadata": {},
   "outputs": [],
   "source": [
    "import pickle\n",
    "\n",
    "import numpy as np\n",
    "import pandas as pd\n",
    "import tensorflow as tf\n",
    "import sklearn.model_selection as ms\n",
    "import sklearn.preprocessing as pp\n",
    "import sklearn.metrics as metrics\n",
    "\n",
    "from tensorflow import keras\n",
    "from tensorflow.keras import backend as K"
   ]
  },
  {
   "cell_type": "markdown",
   "metadata": {},
   "source": [
    "# 1D CNN"
   ]
  },
  {
   "cell_type": "markdown",
   "metadata": {},
   "source": [
    "## CNN Model"
   ]
  },
  {
   "cell_type": "code",
   "execution_count": 2,
   "metadata": {},
   "outputs": [],
   "source": [
    "def cnn(input_shape, output_shape):\n",
    "    \"\"\"A 1D CNN model.\n",
    "\n",
    "    Args:\n",
    "        input_shape (tuple): input shape\n",
    "        output_shape (int): output shape\n",
    "\n",
    "    Returns:\n",
    "        keras.Model: CNN model\n",
    "    \"\"\"\n",
    "    # set random seeds\n",
    "    tf.random.set_seed(0)\n",
    "    np.random.seed(0)\n",
    "\n",
    "    inputs = keras.layers.Input(input_shape)\n",
    "    x = keras.layers.BatchNormalization()(inputs)\n",
    "    for _ in range(2):\n",
    "        x = keras.layers.Conv1D(64, 3, activation='relu')(x)\n",
    "        x = keras.layers.Conv1D(64, 3, activation='relu')(x)\n",
    "        x = keras.layers.MaxPool1D()(x)\n",
    "    x = keras.layers.Flatten()(x)\n",
    "    for _ in range(3):\n",
    "        x = keras.layers.Dense(64, activation='relu')(x)\n",
    "        x = keras.layers.Dropout(0.2)(x)\n",
    "    outputs = keras.layers.Dense(output_shape, activation='softmax')(x)\n",
    "    model = keras.Model(inputs, outputs, name='cnn1d')\n",
    "    return model"
   ]
  },
  {
   "cell_type": "markdown",
   "metadata": {},
   "source": [
    "## Load Data"
   ]
  },
  {
   "cell_type": "code",
   "execution_count": 3,
   "metadata": {},
   "outputs": [],
   "source": [
    "def load_data(k=1, name='train'):\n",
    "    \"\"\"A function to load data.\n",
    "\n",
    "    Args:\n",
    "        k (int, optional): k fold index between 1 and 5. Defaults to 1.\n",
    "        name (str, optional): name of pickle file. Defaults to 'train'.\n",
    "\n",
    "    Returns:\n",
    "        tuple: (x_train, x_valid, x_test, y_train, y_valid, y_test)\n",
    "    \"\"\"\n",
    "    # load pickle file\n",
    "    with open(f'./data/{name}.pickle', 'rb') as handle:\n",
    "        x = pickle.load(handle)\n",
    "        y = pickle.load(handle)\n",
    "\n",
    "    # encode label\n",
    "    le = pp.LabelEncoder()\n",
    "    le.fit(['BK', 'PE', 'PP', 'PS', 'PVC'])\n",
    "    y = le.transform(y)\n",
    "\n",
    "    # random shuffle\n",
    "    x = np.random.RandomState(0).permutation(x)[..., None] # CNN needs at least 1 channel\n",
    "    y = np.random.RandomState(0).permutation(y)\n",
    "\n",
    "    # k-fold cross validation\n",
    "    skf = ms.StratifiedKFold(n_splits=5, shuffle=True, random_state=0)\n",
    "    i = 0\n",
    "    for train_index, test_index in skf.split(x, y):\n",
    "        x_train, x_test = x[train_index], x[test_index]\n",
    "        y_train, y_test = y[train_index], y[test_index]\n",
    "        x_train, x_valid, y_train, y_valid = ms.train_test_split(\n",
    "            x_train, y_train, random_state=0, test_size=0.3)\n",
    "        i += 1\n",
    "        if i == k:\n",
    "            break\n",
    "    \n",
    "    # output data\n",
    "    data = (x_train, x_valid, x_test, y_train, y_valid, y_test)\n",
    "    return data"
   ]
  },
  {
   "cell_type": "markdown",
   "metadata": {},
   "source": [
    "## Training Function"
   ]
  },
  {
   "cell_type": "code",
   "execution_count": 4,
   "metadata": {},
   "outputs": [],
   "source": [
    "def train_kernel(data, name='train', train=False, verbose=2):\n",
    "    \"\"\"_summary_\n",
    "\n",
    "    Args:\n",
    "        data (tuple): (x_train, x_valid, x_test, y_train, y_valid, y_test)\n",
    "        name (str, optional): name of data pickle. Defaults to 'train'.\n",
    "        train (bool, optional): if train the model or just test it. Defaults to False.\n",
    "        verbose (int, optional): if show details of training. Defaults to 2.\n",
    "\n",
    "    Returns:\n",
    "        tuple: model, hist, y_test, y_pred\n",
    "    \"\"\"\n",
    "    # clear all states set by Keras\n",
    "    K.clear_session()\n",
    "\n",
    "    # expand data\n",
    "    x_train, x_valid, x_test, y_train, y_valid, y_test = data\n",
    "    \n",
    "    # convert data to categorical labels\n",
    "    y_train = keras.utils.to_categorical(y_train, num_classes=5)\n",
    "    y_valid = keras.utils.to_categorical(y_valid, num_classes=5)\n",
    "\n",
    "    # weight h5 and result pickle paths\n",
    "    h5_path = f'./h5/{name}.h5'\n",
    "    pickle_path = f'./pickle/{name}.pickle'\n",
    "    \n",
    "    # compile model\n",
    "    model = cnn(input_shape=x_train.shape[1:], output_shape=y_train.shape[-1])\n",
    "    model.compile(optimizer=keras.optimizers.Adam(learning_rate=1e-3), loss='categorical_crossentropy', metrics=['acc'])\n",
    "\n",
    "    # early stopping\n",
    "    es = keras.callbacks.EarlyStopping(monitor='val_loss', min_delta=0, patience=25)\n",
    "\n",
    "    # model check point\n",
    "    mcp = keras.callbacks.ModelCheckpoint(\n",
    "        monitor='val_loss',\n",
    "        filepath=h5_path,\n",
    "        verbose=verbose,\n",
    "        save_weights_only=True,\n",
    "        save_best_only=True)\n",
    "\n",
    "    # train model\n",
    "    if train:\n",
    "        hist = model.fit(\n",
    "            x_train, \n",
    "            y_train,\n",
    "            epochs=50,\n",
    "            batch_size=256,\n",
    "            validation_data=(x_valid, y_valid),\n",
    "            callbacks=[es, mcp],\n",
    "            verbose=verbose,\n",
    "            shuffle=True).history\n",
    "    \n",
    "        model.load_weights(h5_path)\n",
    "        y_pred = model.predict(x_test).squeeze()\n",
    "        \n",
    "        with open(pickle_path, 'wb') as f:\n",
    "            pickle.dump(hist, f)\n",
    "            pickle.dump(y_test, f)\n",
    "            pickle.dump(y_pred, f)\n",
    "            \n",
    "    else:\n",
    "        model.load_weights(h5_path)\n",
    "        \n",
    "        with open(pickle_path, 'rb') as f:\n",
    "            hist = pickle.load(f)\n",
    "            y_test = pickle.load(f)\n",
    "            y_pred = pickle.load(f)\n",
    "    \n",
    "        return model, hist, y_test, y_pred"
   ]
  },
  {
   "cell_type": "markdown",
   "metadata": {},
   "source": [
    "# Train CNN Models"
   ]
  },
  {
   "cell_type": "code",
   "execution_count": 10,
   "metadata": {},
   "outputs": [],
   "source": [
    "names = ['train', 'smooth_train', 'detrend_train', 'both_train']\n",
    "\n",
    "for name in names:\n",
    "    for k in range(1, 6):\n",
    "        data = load_data(k=k, name=name)\n",
    "        \n",
    "        # change train=True if you want retraining\n",
    "        model, hist, y_true, y_pred = train_kernel(data=data, name=f'{name}_{k}', train=False, verbose=0)"
   ]
  },
  {
   "cell_type": "markdown",
   "metadata": {},
   "source": [
    "# Test on Unseen Data"
   ]
  },
  {
   "cell_type": "code",
   "execution_count": 10,
   "metadata": {},
   "outputs": [],
   "source": [
    "def predict_unseen(name='train'):\n",
    "    \"\"\"A function to predict unseen plastic mix composition\n",
    "\n",
    "    Args:\n",
    "        name (str, optional): file name. Defaults to 'train'.\n",
    "    \"\"\"\n",
    "    # use the best k-fold model with the lowest test set accuracy\n",
    "    acc_best = 0\n",
    "    for k in range(1, 6):\n",
    "        data = load_data(k=k, name=name)\n",
    "        model, hist, y_true, y_pred = train_kernel(data=data, name=f'{name}_{k}', train=False, verbose=0)\n",
    "        acc = metrics.accuracy_score(y_true, y_pred.argmax(axis=1))\n",
    "        if acc > acc_best:\n",
    "            acc_best = acc\n",
    "            model_best = model\n",
    "\n",
    "    # load unseen data\n",
    "    name_unseen = name.replace('train', 'unseen')\n",
    "    with open(f'./data/{name_unseen}.pickle', 'rb') as handle:\n",
    "        x_unseen = pickle.load(handle)\n",
    "        y_unseen = pickle.load(handle)\n",
    "    x_unseen = x_unseen[..., None]\n",
    "    y_pred = model_best.predict(x_unseen)\n",
    "\n",
    "    # predict unseen data\n",
    "    y_mix = []\n",
    "    name_pure = ['BK', 'PE', 'PP', 'PS', 'PVC']\n",
    "    name_mix = ['BKPS', 'BKPVC', 'PVCPE', 'PSPP', 'BKPVCPPPS']\n",
    "\n",
    "    for i, name_ in enumerate(name_mix):\n",
    "        idx_ = np.where(y_unseen == name_)[0]\n",
    "        y_mix_ = y_pred[idx_].argmax(axis=1)\n",
    "        y_mix.append(y_mix_)\n",
    "    y_mix = np.array(y_mix)\n",
    "    \n",
    "    # visualize unseen data\n",
    "    result = np.zeros((len(name_mix), len(name_pure)))\n",
    "    for i, _ in enumerate(name_mix):\n",
    "        for j, _ in enumerate(name_pure):\n",
    "            result[i, j] = len(np.where(y_mix[i] == j)[0]) / 5\n",
    "\n",
    "    df = pd.DataFrame(result, columns=name_pure)\n",
    "    df.insert(0, column='comb', value=name_mix)\n",
    "    print(' '.join(name.split('_')[:-1]))\n",
    "    print(df)\n",
    "\n",
    "    # save result\n",
    "    with open(f'./unseen_pickle/{name_unseen}.pickle', 'wb') as handle:\n",
    "        pickle.dump(result, handle)"
   ]
  },
  {
   "cell_type": "markdown",
   "metadata": {},
   "source": [
    "## Raw Spectra"
   ]
  },
  {
   "cell_type": "code",
   "execution_count": 11,
   "metadata": {},
   "outputs": [
    {
     "name": "stdout",
     "output_type": "stream",
     "text": [
      "\n",
      "        comb    BK   PE    PP    PS   PVC\n",
      "0       BKPS  48.6  0.0   0.0  51.4   0.0\n",
      "1      BKPVC  48.8  0.0   0.0   0.0  51.2\n",
      "2      PVCPE   0.0  0.0  39.6   0.0  60.4\n",
      "3       PSPP   0.6  0.0   0.0  99.0   0.4\n",
      "4  BKPVCPPPS  72.4  1.0   7.2   9.4  10.0\n"
     ]
    }
   ],
   "source": [
    "predict_unseen('train')"
   ]
  },
  {
   "cell_type": "markdown",
   "metadata": {},
   "source": [
    "## Smoothed Spectra"
   ]
  },
  {
   "cell_type": "code",
   "execution_count": 12,
   "metadata": {},
   "outputs": [
    {
     "name": "stdout",
     "output_type": "stream",
     "text": [
      "smooth\n",
      "        comb    BK   PE    PP    PS   PVC\n",
      "0       BKPS  48.8  0.0   0.0  51.2   0.0\n",
      "1      BKPVC  48.6  0.0   0.4   0.8  50.2\n",
      "2      PVCPE   0.0  0.2  49.2   0.2  50.4\n",
      "3       PSPP   1.2  0.0  15.4  83.4   0.0\n",
      "4  BKPVCPPPS  81.8  0.0   3.0   6.0   9.2\n"
     ]
    }
   ],
   "source": [
    "predict_unseen('smooth_train')"
   ]
  },
  {
   "cell_type": "markdown",
   "metadata": {},
   "source": [
    "## Detrended Spectra"
   ]
  },
  {
   "cell_type": "code",
   "execution_count": 13,
   "metadata": {},
   "outputs": [
    {
     "name": "stdout",
     "output_type": "stream",
     "text": [
      "detrend\n",
      "        comb    BK    PE   PP    PS   PVC\n",
      "0       BKPS  47.4   0.0  0.0  52.6   0.0\n",
      "1      BKPVC  48.6   0.0  0.0   0.0  51.4\n",
      "2      PVCPE   0.0  50.4  0.0   0.0  49.6\n",
      "3       PSPP   0.0   0.0  1.8  98.2   0.0\n",
      "4  BKPVCPPPS  72.4   0.0  8.6  10.0   9.0\n"
     ]
    }
   ],
   "source": [
    "predict_unseen('detrend_train')"
   ]
  },
  {
   "cell_type": "markdown",
   "metadata": {},
   "source": [
    "## Both"
   ]
  },
  {
   "cell_type": "code",
   "execution_count": 14,
   "metadata": {},
   "outputs": [
    {
     "name": "stdout",
     "output_type": "stream",
     "text": [
      "both\n",
      "        comb    BK    PE    PP    PS   PVC\n",
      "0       BKPS  47.6   0.0   0.0  52.4   0.0\n",
      "1      BKPVC  48.8   0.0   0.0   0.0  51.2\n",
      "2      PVCPE   0.0  50.8   0.2   0.0  49.0\n",
      "3       PSPP   0.0   0.0  52.6  47.0   0.4\n",
      "4  BKPVCPPPS  72.8   0.2   8.8   9.6   8.6\n"
     ]
    }
   ],
   "source": [
    "predict_unseen('both_train')"
   ]
  },
  {
   "cell_type": "code",
   "execution_count": null,
   "metadata": {},
   "outputs": [],
   "source": []
  }
 ],
 "metadata": {
  "kernelspec": {
   "display_name": "Python 3",
   "language": "python",
   "name": "python3"
  },
  "language_info": {
   "codemirror_mode": {
    "name": "ipython",
    "version": 3
   },
   "file_extension": ".py",
   "mimetype": "text/x-python",
   "name": "python",
   "nbconvert_exporter": "python",
   "pygments_lexer": "ipython3",
   "version": "3.7.3"
  }
 },
 "nbformat": 4,
 "nbformat_minor": 2
}
