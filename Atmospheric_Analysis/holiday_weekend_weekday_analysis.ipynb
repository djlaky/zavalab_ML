{
 "cells": [
  {
   "cell_type": "markdown",
   "id": "d7859487",
   "metadata": {},
   "source": [
    "# This code performs the analysis of holiday, weekend and weekday data comparisons."
   ]
  },
  {
   "cell_type": "code",
   "execution_count": 1,
   "id": "suited-argentina",
   "metadata": {},
   "outputs": [],
   "source": [
    "import numpy as np\n",
    "import pandas as pd\n",
    "from tqdm.notebook import tqdm\n",
    "import matplotlib.pyplot as plt\n",
    "from sklearn.decomposition import PCA, KernelPCA\n",
    "import pickle\n",
    "import scipy.stats as stats\n",
    "from sklearn.covariance import ledoit_wolf\n",
    "import seaborn as sns\n",
    "import matplotlib\n",
    "sns.set()\n",
    "sns.set_context(\"talk\", font_scale = 1)\n",
    "sns.set_style('whitegrid')\n",
    "matplotlib.rcParams['mathtext.fontset'] = 'stix'\n",
    "matplotlib.rcParams['font.family'] = 'STIXGeneral'\n",
    "matplotlib.rcParams['font.size'] = 20\n",
    "# matplotlib.rcParams['axes.axisbelow'] = True\n",
    "#matplotlib.rcParams.update({'figure.autolayout': True})\n",
    "# matplotlib.rcParams['figure.figsize'] = [10, 7]\n",
    "# %matplotlib inline"
   ]
  },
  {
   "cell_type": "code",
   "execution_count": 2,
   "id": "located-wichita",
   "metadata": {},
   "outputs": [],
   "source": [
    "df = pd.read_csv(r\"C:\\Users\\17345\\workingpapers\\Atmospheric_Riemannian\\AtmosphericData\\AtmosphericData\\data\\Hourly_data_of_Beijing_from_Jinxi_20210305.csv\", delimiter = ',')\n",
    "latlon = pd.read_csv(r\"C:\\Users\\17345\\workingpapers\\Atmospheric_Riemannian\\AtmosphericData\\AtmosphericData\\data\\latlondata.csv\",delimiter = ',')"
   ]
  },
  {
   "cell_type": "code",
   "execution_count": 3,
   "id": "previous-crowd",
   "metadata": {},
   "outputs": [],
   "source": [
    "df = df.interpolate(method='linear', axis=0)\n",
    "df1 = df.iloc[:, 11:17]"
   ]
  },
  {
   "cell_type": "code",
   "execution_count": 4,
   "id": "171a5fb8",
   "metadata": {},
   "outputs": [
    {
     "data": {
      "text/html": [
       "<div>\n",
       "<style scoped>\n",
       "    .dataframe tbody tr th:only-of-type {\n",
       "        vertical-align: middle;\n",
       "    }\n",
       "\n",
       "    .dataframe tbody tr th {\n",
       "        vertical-align: top;\n",
       "    }\n",
       "\n",
       "    .dataframe thead th {\n",
       "        text-align: right;\n",
       "    }\n",
       "</style>\n",
       "<table border=\"1\" class=\"dataframe\">\n",
       "  <thead>\n",
       "    <tr style=\"text-align: right;\">\n",
       "      <th></th>\n",
       "      <th>CO</th>\n",
       "      <th>NO2</th>\n",
       "      <th>O3</th>\n",
       "      <th>PM10</th>\n",
       "      <th>PM2.5</th>\n",
       "      <th>SO2</th>\n",
       "    </tr>\n",
       "  </thead>\n",
       "  <tbody>\n",
       "    <tr>\n",
       "      <th>0</th>\n",
       "      <td>1.1</td>\n",
       "      <td>76.0</td>\n",
       "      <td>3.0</td>\n",
       "      <td>91.0</td>\n",
       "      <td>54.0</td>\n",
       "      <td>21.0</td>\n",
       "    </tr>\n",
       "    <tr>\n",
       "      <th>1</th>\n",
       "      <td>1.0</td>\n",
       "      <td>75.0</td>\n",
       "      <td>3.0</td>\n",
       "      <td>80.0</td>\n",
       "      <td>50.0</td>\n",
       "      <td>14.0</td>\n",
       "    </tr>\n",
       "    <tr>\n",
       "      <th>2</th>\n",
       "      <td>0.9</td>\n",
       "      <td>73.0</td>\n",
       "      <td>2.0</td>\n",
       "      <td>72.0</td>\n",
       "      <td>44.0</td>\n",
       "      <td>12.0</td>\n",
       "    </tr>\n",
       "    <tr>\n",
       "      <th>3</th>\n",
       "      <td>0.8</td>\n",
       "      <td>72.0</td>\n",
       "      <td>2.0</td>\n",
       "      <td>81.0</td>\n",
       "      <td>47.0</td>\n",
       "      <td>10.0</td>\n",
       "    </tr>\n",
       "    <tr>\n",
       "      <th>4</th>\n",
       "      <td>0.8</td>\n",
       "      <td>73.0</td>\n",
       "      <td>2.0</td>\n",
       "      <td>75.0</td>\n",
       "      <td>36.0</td>\n",
       "      <td>9.0</td>\n",
       "    </tr>\n",
       "    <tr>\n",
       "      <th>...</th>\n",
       "      <td>...</td>\n",
       "      <td>...</td>\n",
       "      <td>...</td>\n",
       "      <td>...</td>\n",
       "      <td>...</td>\n",
       "      <td>...</td>\n",
       "    </tr>\n",
       "    <tr>\n",
       "      <th>297835</th>\n",
       "      <td>0.7</td>\n",
       "      <td>67.0</td>\n",
       "      <td>6.0</td>\n",
       "      <td>75.0</td>\n",
       "      <td>38.0</td>\n",
       "      <td>7.0</td>\n",
       "    </tr>\n",
       "    <tr>\n",
       "      <th>297836</th>\n",
       "      <td>0.7</td>\n",
       "      <td>64.0</td>\n",
       "      <td>8.0</td>\n",
       "      <td>77.0</td>\n",
       "      <td>43.0</td>\n",
       "      <td>7.0</td>\n",
       "    </tr>\n",
       "    <tr>\n",
       "      <th>297837</th>\n",
       "      <td>0.7</td>\n",
       "      <td>59.0</td>\n",
       "      <td>10.0</td>\n",
       "      <td>74.0</td>\n",
       "      <td>43.0</td>\n",
       "      <td>7.0</td>\n",
       "    </tr>\n",
       "    <tr>\n",
       "      <th>297838</th>\n",
       "      <td>0.7</td>\n",
       "      <td>55.0</td>\n",
       "      <td>14.0</td>\n",
       "      <td>73.0</td>\n",
       "      <td>43.0</td>\n",
       "      <td>8.0</td>\n",
       "    </tr>\n",
       "    <tr>\n",
       "      <th>297839</th>\n",
       "      <td>0.8</td>\n",
       "      <td>60.0</td>\n",
       "      <td>9.0</td>\n",
       "      <td>72.0</td>\n",
       "      <td>44.0</td>\n",
       "      <td>8.0</td>\n",
       "    </tr>\n",
       "  </tbody>\n",
       "</table>\n",
       "<p>297840 rows × 6 columns</p>\n",
       "</div>"
      ],
      "text/plain": [
       "         CO   NO2    O3  PM10  PM2.5   SO2\n",
       "0       1.1  76.0   3.0  91.0   54.0  21.0\n",
       "1       1.0  75.0   3.0  80.0   50.0  14.0\n",
       "2       0.9  73.0   2.0  72.0   44.0  12.0\n",
       "3       0.8  72.0   2.0  81.0   47.0  10.0\n",
       "4       0.8  73.0   2.0  75.0   36.0   9.0\n",
       "...     ...   ...   ...   ...    ...   ...\n",
       "297835  0.7  67.0   6.0  75.0   38.0   7.0\n",
       "297836  0.7  64.0   8.0  77.0   43.0   7.0\n",
       "297837  0.7  59.0  10.0  74.0   43.0   7.0\n",
       "297838  0.7  55.0  14.0  73.0   43.0   8.0\n",
       "297839  0.8  60.0   9.0  72.0   44.0   8.0\n",
       "\n",
       "[297840 rows x 6 columns]"
      ]
     },
     "execution_count": 4,
     "metadata": {},
     "output_type": "execute_result"
    }
   ],
   "source": [
    "df1"
   ]
  },
  {
   "cell_type": "code",
   "execution_count": 5,
   "id": "practical-swift",
   "metadata": {},
   "outputs": [],
   "source": [
    "#Indices for unique values\n",
    "\n",
    "Sites = df.Site.unique()\n",
    "Dates = df.Date.unique()\n",
    "Months = df.Month.unique()\n",
    "holi = df.Holiday.unique()\n",
    "hours = df.Hour.unique()\n",
    "dow = df.DOW.unique()"
   ]
  },
  {
   "cell_type": "markdown",
   "id": "223a04f1",
   "metadata": {},
   "source": [
    "# Create Covariance Matrices for Analysis"
   ]
  },
  {
   "cell_type": "code",
   "execution_count": 6,
   "id": "7d3c46e1",
   "metadata": {},
   "outputs": [
    {
     "data": {
      "application/vnd.jupyter.widget-view+json": {
       "model_id": "2c70bdc246fa476bab534a2ff4ced1c5",
       "version_major": 2,
       "version_minor": 0
      },
      "text/plain": [
       "  0%|          | 0/34 [00:00<?, ?it/s]"
      ]
     },
     "metadata": {},
     "output_type": "display_data"
    },
    {
     "data": {
      "application/vnd.jupyter.widget-view+json": {
       "model_id": "d1a4bf81999c44539915e40c6b8287e0",
       "version_major": 2,
       "version_minor": 0
      },
      "text/plain": [
       "  0%|          | 0/34 [00:00<?, ?it/s]"
      ]
     },
     "metadata": {},
     "output_type": "display_data"
    }
   ],
   "source": [
    "Matrices = []\n",
    "labels = []\n",
    "Covs = []\n",
    "coord = []\n",
    "numz = []\n",
    "Cors = []\n",
    "for i in tqdm(Sites):\n",
    "    for j in holi:\n",
    "        Data = df1.loc[(df['Site'] == i) & (df['Holiday'] == j)]\n",
    "        label = df.loc[(df['Site'] == i) & (df['Holiday'] == j)].iloc[:,0]\n",
    "        lat = latlon.loc[latlon['Site'] == i].iloc[:,1]\n",
    "        lon = latlon.loc[latlon['Site'] == i].iloc[:,2]\n",
    "        coord.append(np.hstack([lat,lon]))\n",
    "        Matrices.append(Data.values)\n",
    "        labels.append(j)\n",
    "        Wcov = ledoit_wolf(Data.values)[0]\n",
    "        Wcor = np.corrcoef(Data.values.T)\n",
    "        Covs.append(Wcov)\n",
    "        Cors.append(Wcor)\n",
    "    \n",
    "for i in tqdm(Sites):\n",
    "    for j in holi:\n",
    "        if j == 'holiday':\n",
    "            numz.append(0)\n",
    "            \n",
    "        elif j == 'weekday':\n",
    "            numz.append(2)\n",
    "            \n",
    "        else:\n",
    "            numz.append(1)"
   ]
  },
  {
   "cell_type": "markdown",
   "id": "bc522656",
   "metadata": {},
   "source": [
    "# Analyze weekday, weekend, and holiday variances"
   ]
  },
  {
   "cell_type": "code",
   "execution_count": 7,
   "id": "6e6f5d20",
   "metadata": {},
   "outputs": [
    {
     "data": {
      "text/plain": [
       "<matplotlib.legend.Legend at 0x1768008bf70>"
      ]
     },
     "execution_count": 7,
     "metadata": {},
     "output_type": "execute_result"
    },
    {
     "data": {
      "image/png": "[encoded data removed]",
      "text/plain": [
       "<Figure size 600x400 with 1 Axes>"
      ]
     },
     "metadata": {},
     "output_type": "display_data"
    }
   ],
   "source": [
    "plt.figure(dpi = 100)\n",
    "\n",
    "plt.plot(Matrices[3][:,0],label = \"holiday\")\n",
    "plt.plot(Matrices[4][:,0],label = \"weekday\")\n",
    "plt.plot(Matrices[5][:,0],label = \"weekend\")\n",
    "\n",
    "plt.ylabel(\"Pollutant Level\")\n",
    "\n",
    "plt.xlabel(\"Time\")\n",
    "\n",
    "# plt.savefig(\"Atmospheric_Data.svg\",transparent = True)\n",
    "\n",
    "plt.xlim([100,500])\n",
    "\n",
    "plt.legend()"
   ]
  },
  {
   "cell_type": "code",
   "execution_count": 8,
   "id": "b1f37429",
   "metadata": {},
   "outputs": [],
   "source": [
    "NO_O3var = []\n",
    "\n",
    "for i in range(len(Covs)):\n",
    "    NO_O3var.append(Covs[i][1,2])"
   ]
  },
  {
   "cell_type": "code",
   "execution_count": 9,
   "id": "dc030110",
   "metadata": {},
   "outputs": [
    {
     "ename": "NameError",
     "evalue": "name 'COvar' is not defined",
     "output_type": "error",
     "traceback": [
      "\u001b[1;31m---------------------------------------------------------------------------\u001b[0m",
      "\u001b[1;31mNameError\u001b[0m                                 Traceback (most recent call last)",
      "Input \u001b[1;32mIn [9]\u001b[0m, in \u001b[0;36m<cell line: 1>\u001b[1;34m()\u001b[0m\n\u001b[1;32m----> 1\u001b[0m m1 \u001b[38;5;241m=\u001b[39m np\u001b[38;5;241m.\u001b[39mmean(np\u001b[38;5;241m.\u001b[39marray(\u001b[43mCOvar\u001b[49m)[np\u001b[38;5;241m.\u001b[39mwhere(np\u001b[38;5;241m.\u001b[39marray(numz) \u001b[38;5;241m==\u001b[39m \u001b[38;5;241m0\u001b[39m)[\u001b[38;5;241m0\u001b[39m]])\n\u001b[0;32m      2\u001b[0m m2 \u001b[38;5;241m=\u001b[39m np\u001b[38;5;241m.\u001b[39mmean(np\u001b[38;5;241m.\u001b[39marray(COvar)[np\u001b[38;5;241m.\u001b[39mwhere(np\u001b[38;5;241m.\u001b[39marray(numz) \u001b[38;5;241m==\u001b[39m \u001b[38;5;241m1\u001b[39m)[\u001b[38;5;241m0\u001b[39m]])\n\u001b[0;32m      3\u001b[0m m3 \u001b[38;5;241m=\u001b[39m np\u001b[38;5;241m.\u001b[39mmean(np\u001b[38;5;241m.\u001b[39marray(COvar)[np\u001b[38;5;241m.\u001b[39mwhere(np\u001b[38;5;241m.\u001b[39marray(numz) \u001b[38;5;241m==\u001b[39m \u001b[38;5;241m2\u001b[39m)[\u001b[38;5;241m0\u001b[39m]])\n",
      "\u001b[1;31mNameError\u001b[0m: name 'COvar' is not defined"
     ]
    }
   ],
   "source": [
    "m1 = np.mean(np.array(COvar)[np.where(np.array(numz) == 0)[0]])\n",
    "m2 = np.mean(np.array(COvar)[np.where(np.array(numz) == 1)[0]])\n",
    "m3 = np.mean(np.array(COvar)[np.where(np.array(numz) == 2)[0]])\n",
    "\n",
    "v1 = np.std(np.array(COvar)[np.where(np.array(numz) == 0)[0]])\n",
    "v2 = np.std(np.array(COvar)[np.where(np.array(numz) == 1)[0]])\n",
    "v3 = np.std(np.array(COvar)[np.where(np.array(numz) == 2)[0]])"
   ]
  },
  {
   "cell_type": "code",
   "execution_count": null,
   "id": "1b5baba9",
   "metadata": {},
   "outputs": [],
   "source": [
    "y = [m1,m2,m3]\n",
    "\n",
    "x = [0,1,2]\n",
    "\n",
    "plt.errorbar(x,y,yerr = [v1,v2,v3],ls = '', marker = \"o\")\n",
    "\n",
    "labels = [\"Holiday\", \"Weekend\", \"Weekday\"]\n",
    "\n",
    "plt.xticks(x, labels)\n",
    "\n",
    "plt.ylabel(\"NO_O3 Covariance\")\n"
   ]
  },
  {
   "cell_type": "code",
   "execution_count": null,
   "id": "14257932",
   "metadata": {},
   "outputs": [],
   "source": [
    "plt.imshow(np.corrcoef(Matrices[0].T),cmap = 'coolwarm')\n",
    "plt.grid(False)\n",
    "\n",
    "\n",
    "# plt.savefig(\"Atmospheric_Corrmat.svg\",transparent = True)"
   ]
  },
  {
   "cell_type": "code",
   "execution_count": null,
   "id": "saving-robertson",
   "metadata": {},
   "outputs": [],
   "source": [
    "numlabel = []\n",
    "\n",
    "for i in labels:\n",
    "    if i == 'weekday':\n",
    "        numlabel.append(0)\n",
    "    elif i == \"holiday\":\n",
    "        numlabel.append(2)\n",
    "    else: \n",
    "        numlabel.append(1)\n",
    "        \n",
    "numlabel = np.stack(numlabel)"
   ]
  },
  {
   "cell_type": "markdown",
   "id": "78f72818",
   "metadata": {},
   "source": [
    "# Perform Riemannian Geometric Analysis "
   ]
  },
  {
   "cell_type": "code",
   "execution_count": null,
   "id": "10de48dc",
   "metadata": {},
   "outputs": [],
   "source": [
    "#Define a few matrix operations\n",
    "\n",
    "def logarithm(cov):\n",
    "    d, V = np.linalg.eigh(cov)\n",
    "    D = np.diag(np.log(d))\n",
    "    logcov = np.dot(np.dot(V, D), V.T)\n",
    "    return logcov\n",
    "\n",
    "def sqrroot(cov):\n",
    "    d, V = np.linalg.eigh(cov)\n",
    "    D = np.diag(np.sqrt(d))\n",
    "    sqrroot = np.dot(np.dot(V, D), V.T)\n",
    "    return sqrroot\n",
    "\n",
    "def expstep(cov,step):\n",
    "    d, V = np.linalg.eigh(cov)\n",
    "    D = np.diag(np.exp(d*step))\n",
    "    expstep = np.dot(np.dot(V, D), V.T)\n",
    "    return expstep\n",
    "\n",
    "def mat_op(operation,d,V):\n",
    "    return np.dot(V*operation(d),V.T)"
   ]
  },
  {
   "cell_type": "code",
   "execution_count": null,
   "id": "d050d6b6",
   "metadata": {},
   "outputs": [],
   "source": [
    "#Use optimization to identify the geometric mean of the previously computed covariance matrices \n",
    "#using gradient descent on the Riemannian Manifold.\n",
    "\n",
    "#Initialize the Matrix Mean:\n",
    "Covs = np.array(Covs)\n",
    "geomean = np.mean(Covs,axis = 0)\n",
    "\n",
    "#Initialize the gradient descent step size and loss:\n",
    "step = 1\n",
    "norm_old = np.inf\n",
    "\n",
    "#Set tolerance:\n",
    "tol = 1e-8\n",
    "norms = []\n",
    "\n",
    "for n in range(100):\n",
    "\n",
    "    #Compute the gradient\n",
    "    geo_eval,geo_evec = np.linalg.eigh(geomean)\n",
    "    geomean_inv_sqrt = mat_op(np.sqrt,1. / geo_eval,geo_evec)\n",
    "    \n",
    "    #Project matrices to tangent space and compute mean and norm:\n",
    "    mats= [geomean_inv_sqrt.dot(cov).dot(geomean_inv_sqrt) for cov in Covs]\n",
    "    log_mats = [logarithm(mat) for mat in mats]\n",
    "    meanlog = np.mean(log_mats,axis = 0)\n",
    "    norm = np.linalg.norm(meanlog)\n",
    "\n",
    "    #Take step along identified geodesic to minimize loss:\n",
    "    geomean_sqrt = sqrroot(geomean)\n",
    "    geomean = geomean_sqrt.dot(expstep(meanlog,step)).dot(geomean_sqrt)\n",
    "\n",
    "    # Update the norm and the step size\n",
    "    if norm < norm_old:\n",
    "        norm_old = norm\n",
    "\n",
    "    elif norm > norm_old:\n",
    "        step = step / 2.\n",
    "        norm = norm_old\n",
    "\n",
    "    if tol is not None and norm / geomean.size < tol:\n",
    "        break\n",
    "        \n",
    "    norms.append(norm)\n",
    "    \n",
    "plt.plot(norms,'o-')\n",
    "\n",
    "plt.xlabel(\"Step Number\")\n",
    "\n",
    "plt.ylabel(\"Loss\")"
   ]
  },
  {
   "cell_type": "code",
   "execution_count": null,
   "id": "08d17570",
   "metadata": {},
   "outputs": [],
   "source": [
    "#We have now identified the mean, and project our matrices to the tangent space centered at this mean.\n",
    "\n",
    "geo_eval,geo_evec = np.linalg.eigh(geomean)\n",
    "\n",
    "geomean_inv_sqrt = mat_op(np.sqrt,1. / geo_eval,geo_evec)\n",
    "\n",
    "def T_Project(geomean_inv_sqrt,cov):\n",
    "    newmat = geomean_inv_sqrt.dot(cov).dot(geomean_inv_sqrt)\n",
    "    T_cov = logarithm(newmat)\n",
    "    return T_cov\n",
    "\n",
    "T_covs = [T_Project(geomean_inv_sqrt,cov) for cov in Covs]\n",
    "\n",
    "flat_covs = [np.ndarray.flatten(T_cov) for T_cov in T_covs]"
   ]
  },
  {
   "cell_type": "code",
   "execution_count": null,
   "id": "confident-personality",
   "metadata": {},
   "outputs": [],
   "source": [
    "pca = PCA()\n",
    "\n",
    "X = pca.fit_transform(flat_covs)\n",
    "\n",
    "days = []\n",
    "for i in range(34):\n",
    "    days.append(np.arange(12))\n",
    "    \n",
    "dayz = np.hstack(days)"
   ]
  },
  {
   "cell_type": "code",
   "execution_count": null,
   "id": "connected-mortality",
   "metadata": {
    "scrolled": false
   },
   "outputs": [],
   "source": [
    "plt.figure(dpi = 100)\n",
    "idx = np.where(dayz == 0)\n",
    "# plt.scatter(X[:,0],X[:,1],c = dayz,cmap = 'coolwarm')\n",
    "\n",
    "\n",
    "for i in [0,1,2]:\n",
    "    idx = np.where(np.stack(numz) == i)\n",
    "    if i == 0:\n",
    "        plt.scatter(X[idx,0],X[idx,1], label = 'holiday')\n",
    "    elif i == 1:\n",
    "        plt.scatter(X[idx,0],X[idx,1], label = 'weekend')\n",
    "    else:\n",
    "        plt.scatter(X[idx,0],X[idx,1], label = 'weekday')\n",
    "\n",
    "\n",
    "plt.xlabel(\"PC1\")\n",
    "\n",
    "plt.ylabel(\"PC2\")\n",
    "\n",
    "plt.legend()\n",
    "\n",
    "# plt.savefig(\"holiday_data_tangent.svg\")"
   ]
  },
  {
   "cell_type": "code",
   "execution_count": null,
   "id": "3701d6bd",
   "metadata": {},
   "outputs": [],
   "source": [
    "w = pca.components_"
   ]
  },
  {
   "cell_type": "code",
   "execution_count": null,
   "id": "1f80c6a8",
   "metadata": {},
   "outputs": [],
   "source": [
    "plt.figure(dpi = 100)\n",
    "plt.grid(False)\n",
    "xlab = df1.columns.values\n",
    "ylab = df1.columns.values\n",
    "\n",
    "x = [0,1,2,3,4,5]\n",
    "\n",
    "plt.imshow(w[1,:].reshape(6,6),cmap = 'coolwarm')\n",
    "\n",
    "\n",
    "plt.xticks(x,xlab,rotation = 'vertical')\n",
    "plt.yticks(x,xlab)\n",
    "\n",
    "plt.colorbar()\n"
   ]
  },
  {
   "cell_type": "markdown",
   "id": "cea530da",
   "metadata": {},
   "source": [
    "# PCA Analysis on Raw Covariance Data"
   ]
  },
  {
   "cell_type": "code",
   "execution_count": null,
   "id": "721ed4fb",
   "metadata": {},
   "outputs": [],
   "source": [
    "flat_raw_covs = [np.ndarray.flatten(wcov) for wcov in Covs]\n",
    "\n",
    "pca = PCA()\n",
    "\n",
    "X = pca.fit_transform(flat_raw_covs)\n",
    "\n",
    "plt.figure(dpi = 100)\n",
    "idx = np.where(dayz == 0)\n",
    "# plt.scatter(X[:,0],X[:,1],c = dayz,cmap = 'coolwarm')\n",
    "\n",
    "\n",
    "for i in [0,1,2]:\n",
    "    idx = np.where(np.stack(numz) == i)\n",
    "    if i == 0:\n",
    "        plt.scatter(X[idx,0],X[idx,1], label = 'holiday')\n",
    "    elif i == 1:\n",
    "        plt.scatter(X[idx,0],X[idx,1], label = 'weekend')\n",
    "    else:\n",
    "        plt.scatter(X[idx,0],X[idx,1], label = 'weekday')\n",
    "\n",
    "\n",
    "plt.xlabel(\"PC1\")\n",
    "\n",
    "plt.ylabel(\"PC2\")\n",
    "\n",
    "plt.legend()\n",
    "\n",
    "# plt.savefig(\"holiday_data_Euclidean.svg\")"
   ]
  },
  {
   "cell_type": "code",
   "execution_count": null,
   "id": "a79148cc",
   "metadata": {},
   "outputs": [],
   "source": [
    "flat_raw_cors = [np.ndarray.flatten(wcor) for wcor in Cors]\n",
    "\n",
    "pca = PCA()\n",
    "\n",
    "X = pca.fit_transform(flat_raw_cors)\n",
    "\n",
    "plt.figure(dpi = 100)\n",
    "idx = np.where(dayz == 0)\n",
    "# plt.scatter(X[:,0],X[:,1],c = dayz,cmap = 'coolwarm')\n",
    "\n",
    "\n",
    "for i in [0,1,2]:\n",
    "    idx = np.where(np.stack(numz) == i)\n",
    "    if i == 0:\n",
    "        plt.scatter(X[idx,0],X[idx,1], label = 'holiday')\n",
    "    elif i == 1:\n",
    "        plt.scatter(X[idx,0],X[idx,1], label = 'weekend')\n",
    "    else:\n",
    "        plt.scatter(X[idx,0],X[idx,1], label = 'weekday')\n",
    "\n",
    "\n",
    "plt.xlabel(\"PC1\")\n",
    "\n",
    "plt.ylabel(\"PC2\")\n",
    "\n",
    "plt.legend()\n",
    "\n",
    "# plt.savefig(\"holiday_data_corr.svg\")"
   ]
  }
 ],
 "metadata": {
  "kernelspec": {
   "display_name": "Python 3 (ipykernel)",
   "language": "python",
   "name": "python3"
  },
  "language_info": {
   "codemirror_mode": {
    "name": "ipython",
    "version": 3
   },
   "file_extension": ".py",
   "mimetype": "text/x-python",
   "name": "python",
   "nbconvert_exporter": "python",
   "pygments_lexer": "ipython3",
   "version": "3.10.2"
  }
 },
 "nbformat": 4,
 "nbformat_minor": 5
}
