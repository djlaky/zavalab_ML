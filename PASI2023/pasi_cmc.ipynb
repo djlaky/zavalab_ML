{
 "cells": [
  {
   "attachments": {},
   "cell_type": "markdown",
   "metadata": {},
   "source": [
    "## Introduction\n",
    "In the context of chemical and biological engineering, we deal with chemical datasets on a daily basis. Molecules can be represented in various forms, such as SMILES strings and molecular graphs. In this problem, we will walk through an example of different data representations of molecules and train a simple graph neural network (GNN) for property prediction."
   ]
  },
  {
   "attachments": {},
   "cell_type": "markdown",
   "metadata": {},
   "source": [
    "#### Import Libraries"
   ]
  },
  {
   "cell_type": "code",
   "execution_count": 1,
   "metadata": {},
   "outputs": [
    {
     "name": "stderr",
     "output_type": "stream",
     "text": [
      "Using backend: pytorch\n"
     ]
    }
   ],
   "source": [
    "import random\n",
    "import pandas as pd\n",
    "import numpy as np\n",
    "import torch\n",
    "import torch.nn as nn\n",
    "from rdkit import Chem\n",
    "from rdkit.Chem import PandasTools\n",
    "from rdkit.Chem.Draw import IPythonConsole\n",
    "from IPython.display import HTML\n",
    "from utils import generate_one_hot_encoding\n",
    "import matplotlib.pyplot as plt\n",
    "from utils import cmc_dataset, GCN, collate\n",
    "from sklearn.model_selection import train_test_split\n",
    "from torch.utils.data.sampler import SubsetRandomSampler"
   ]
  },
  {
   "attachments": {},
   "cell_type": "markdown",
   "metadata": {},
   "source": [
    "#### Setting Random Seed"
   ]
  },
  {
   "cell_type": "code",
   "execution_count": 2,
   "metadata": {},
   "outputs": [],
   "source": [
    "seed = 2023\n",
    "np.random.seed(seed)\n",
    "random.seed(seed)"
   ]
  },
  {
   "attachments": {},
   "cell_type": "markdown",
   "metadata": {},
   "source": [
    "## Dataset"
   ]
  },
  {
   "attachments": {},
   "cell_type": "markdown",
   "metadata": {},
   "source": [
    "The dataframe contains the SMILES string of each surfactant monomer as well as its corresponding log CMC value. Below, we show several examples of the surfactant monomer and their corresponding data representations."
   ]
  },
  {
   "cell_type": "code",
   "execution_count": 3,
   "metadata": {},
   "outputs": [],
   "source": [
    "df = pd.read_csv(\"./Data/cmc_metadata.csv\")"
   ]
  },
  {
   "attachments": {},
   "cell_type": "markdown",
   "metadata": {},
   "source": [
    "#### SMILES, Molecular Structure (Graph), and One-hot-encoded Matrix"
   ]
  },
  {
   "cell_type": "code",
   "execution_count": 4,
   "metadata": {},
   "outputs": [
    {
     "data": {
      "text/html": [
       "<div>\n",
       "<style scoped>\n",
       "    .dataframe tbody tr th:only-of-type {\n",
       "        vertical-align: middle;\n",
       "    }\n",
       "\n",
       "    .dataframe tbody tr th {\n",
       "        vertical-align: top;\n",
       "    }\n",
       "\n",
       "    .dataframe thead th {\n",
       "        text-align: right;\n",
       "    }\n",
       "</style>\n",
       "<table border=\"1\" class=\"dataframe\">\n",
       "  <thead>\n",
       "    <tr style=\"text-align: right;\">\n",
       "      <th></th>\n",
       "      <th>SMILES</th>\n",
       "      <th>logCMC</th>\n",
       "      <th>Structure</th>\n",
       "    </tr>\n",
       "  </thead>\n",
       "  <tbody>\n",
       "    <tr>\n",
       "      <th>0</th>\n",
       "      <td>CCCCCCCCC(O)CO</td>\n",
       "      <td>3.361728</td>\n",
       "      <td><img src=\"data:image/png;base64,iVBORw0KGgoAAAANSUhEUgAAAMgAAADICAIAAAAiOjnJAAAABmJLR0QA/wD/AP+gvaeTAAAKHUlEQVR4nO3bS0wU2R7H8X/TPBpB0QblLS/frxAQxajgEIMxstL0xshySuOCGWNMbUxYzKaWPYuJqZXBmNF0YjRoQEXAyCiKirxEEVAwPBRBVF7S2NRdHG/dDgPYDf0X6ub3iYtWqw8FfPmfQ4smTdMIwNf8FvoG4P8TwgIWCAtYICxggbCABcICFggLWCAsYIGwgAXCAhYIC1ggLGCBsIAFwgIWCAtYICxggbCABcICFggLWCAsYIGwgAXCAhYIC1ggLGCBsIAFwgIWCAtYICxggbCABcICFggLWCAsYIGwgAXCAhYIC1ggLGCBsIAFwgIWCAtYICxggbCABcICFggLWCAsYIGwgAXCAhYIC1ggLGCBsIAFwgIWCAtYICxggbCABcICFggLWCAsYIGwgAXCAhYIC1ggLGCBsIAFwgIWCAtYICxggbCABcICFggLWCAsYIGwgAXCAhYIC1ggLGCBsIAFwgIWCAtYICxggbCABcICFggLWCAsYIGwgAXCAhYIC1gs4rBKS6m0lNra6PhxIqI///z+5/oDWMT8F/oGZvbqFf32GxHRmTNUWkpE3wsDI1jEYelaW78/UFUiTCxjWMRb4aFDdPw4lZbS33/T8+dUW7vQNwReMGmattD38CP//EN799KePVRVtdC3Ap5axBNLZ7EQEY2NLfR9gBeMEFZwMBHR168LfR/gBSOEhYllQEYIS0wshGUoxgkLW6GhGCEsbIUGZISXGzSNzGYiIpeLTKaFvhvwiBEmlsm0cdWqmJCQMeyGxmGEsIjejY/3Dg9/RVjGYYywgoODiWgMxyzjMFJYmFiLR3l5uaIos1xghJ9uILJYLISJ5ZnR0dFz584lJSUFBgbm5eX5fP2+vr7Tp09fvHjRbDbn5uampaVNf51mBOnp6UT0+PHjhb6R+aqtrW1oaLh06ZLL5eJYv6KiYt26dUS0fPlyIsrMzLx7966vFp+cnCwqKoqIiCCi4ODgwsLC8fHxmS42Rlh79uwhoqqqKr43MTEx0djYWF1d7XQ6OdYfGRmRZdnf3z8xMZGINm/e7HA4fLh+b29vfn6+GBbbtm07derUypUrxW/z8vIaGhrmuX5LS0tOTo5YMCcnp6WlZfbrjRFWdnY2EV2/fp1p/adPn27fvn3FihUWiyUhIUFVVd9OlGvXrsXHxxORv7//oUOHxGMiys7Orq6unufiYpBYrVYiWrJkiaIoExMTmqYNDw8rihIWFkZEfn5+Nputra1tDuuPjo4WFhYGBQURUVRUVFFRkSfPmmtYdvv/HpSUaCUlWmurJklzXG1mTqfTbrcHBQXFxcVFRkaqqio+ar7y6dOnkydP+vn5EVFcXJwYJ0SUnp5+69at+a/f3d1ts9nEmmlpaTU1NZqmjY+Pq6oaGRkp/nz//v11dXVzW7++vj4zM1OfTB0dHVMu6O/vl2VZHFIDAgIkSert7fV8/YqKivXr1xORyWTKz88fGBjw8InzCEuSvv/SI2tt1UpK5rjgdKqqqjZv3izeq+joaPHh27Bhw5UrVyYnJ+e/fnFxcVxcnPiIFxQUDA8Pu1wuh8Oh57V79+45778ul0tV1aVLlxJRWFiY3W7/9u2b+wVDQ0OKoixbtkyfKO3t7Z6vPzIyUlhYGBgYSEQxMTGzD5K3b99KkmQ2m4koJCREluVPnz7Nvv6UvdXbyeqLiaU/FqPLFwYHBwsKCsQgWbNmze3btycnJx0Ox9q1a8W7mpGRcefOnTmv//r164MHD+r1NDU1uf+tmCirVq3SJ4q3Z5Ta2todO3bog+Tt27czXfnhwwdZlsVGExgYKEnSu3fvfrj+jRs3RP1+fn6SJH358sWTu2pubrbZbCaTiYjCw8MVRRkbG/v3ZWJvDQ8PF3vr7If0mfgiLLEJlpR83wr/+ku7dm2Oy2qapmkOh0N8UgMCAmRZdn/nnU6nqqoxMTH6p/zJkydeLT4xMWG320NDQ8W3Tna7fabjlJgoYuSIifLmzZsfrj88PCzLspgNSUlJJZ59pXV2duoTJTQ0VJblz58/T3tlT0+PPkhSU1MfPXrkyfruqqur9+3bJ1aIj49XVdV9lNbX1+/atWuWvdVDvj689/RoISEakbZzp1ZR4e2z29racnNzxXuVlZXV3Nw87WUjIyOKoojvqE0mk81me/XqlSfr379/f8uWLWJ9m832/v37Hz6lr69vykSZ5VnFxcX6Ib2goGBoaMiTu9I1NTXpB7KIiAhFUb5+/ar/rdhbxdYZEhKiKMqUvdUrZWVlqamp4m1t3LjR4XC4763R0dEeHtJn4uuwnE5NVbXoaI1II9L279eePvXseU5FUcQZ02q1qqr6w1PUwMCALMviRXlxLO3u7p7pYve9NSUlxduDeUdHhyRJ4uliokzZfbq6uo4cOaIf/L2do+4ePHiQlZUlllq9erWYKHV1dTt37tQHSWdn55zX17lcrgsXLugHSvGFajabCwoKPNxbZ8HzcsPQkPbHH9qyZRqR5uc3/uuvsx9L7927t2nTJv1bj76+Ps/fVFdXlyRJ/v7+4kAgy/Lg4OCUa4qLi2NjY6fdW73S2NioT5SVK1eKieL53uqVq1evio8JEcXGxopdMiEhweevuYjTRVRU1LFjx+a2t06L83WsgQFNljWL5ea+fWKi9PT0TLnk48ePkiSJ4+TatWvnfB5/+fKlfiy1Wq2KooyOjmqa1t7efuDAAfHp2bt37/Pnz+f7TmlaeXl5RkaGWDMxMXHNmjXi8dGjRz05d3tOfIuanJyclpYWFBTkk0Eyk6GhIafTOZ+9dQr+F0g7O393O5aePXtWP5Y6HA7x6rDFYiksLHQ/T8xNTU2N/upwXFzc4cOHxUYZERFx/vx5n7xCoSsrK9u6davZbI6MjExOTr5586YPF3c3NjbW1dX176/JRe4nvfLu/o2u1Wo9c+aMXkB2dvaLFy98+LbKysrEvy2mpKSIQ7pXe6vnJiYmKisrGxsbxXQEdz/1n3QePnz4yy+/0H9/DCYyMrKoqMi3g0SYnJy8fPnys2fPKisrfb44eGIBfua9pKSkv7+/u7v7xIkTK1as+MlvHX4OI/xnCjAgY/wEKRgOwgIWCAtYICxggbCABcICFggLWCAsYIGwgAXCAhYIC1ggLGCBsIAFwgIWCAtYICxggbCABcICFggLWCAsYIGwgAXCAhYIC1ggLGCBsIAFwgIWCAtYICxggbCABcICFggLWCAsYIGwgAXCAhYIC1ggLGCBsIAFwgIWCAtYICxggbCABcICFggLWCAsYIGwgAXCAhYIC1ggLGCBsIAFwgIWCAtYICxggbCABcICFggLWCAsYIGwgAXCAhYIC1ggLGCBsIAFwgIWCAtYICxggbCABcICFggLWCAsYIGwgAXCAhYIC1ggLGCBsIAFwgIWCAtYICxggbCABcICFggLWCAsYIGwgAXCAhYIC1j8B/y5vgDs4SURAAAAAElFTkSuQmCC\" alt=\"Mol\"/></td>\n",
       "    </tr>\n",
       "    <tr>\n",
       "      <th>1</th>\n",
       "      <td>CCCCCCCCC(O)CCO</td>\n",
       "      <td>3.361728</td>\n",
       "      <td><img src=\"data:image/png;base64,iVBORw0KGgoAAAANSUhEUgAAAMgAAADICAIAAAAiOjnJAAAABmJLR0QA/wD/AP+gvaeTAAAJjUlEQVR4nO3cS0xT6xrG8ZergKCCN+4oKioaESPgJbgxaIyC2RsTEic4McEBO90Ds9OExDQxGuusDkwkjjrtwCAImEjAS1Qq6sEbF1FEUAQVUZA7ZZ3B51nbo9tSoI9F8vxGxCxev9J/17dWsXppmiZE7ubt6QXQ7MSwCIJhEQTDIgiGRRAMiyAYFkEwLIJgWATBsAiCYREEwyIIhkUQDIsgGBZBMCyCYFgEwbAIgmERBMMiCIZFEAyLIBgWQTAsgmBYBMGwCIJhEQTDIgiGRRAMiyAYFkEwLIJgWATBsAiCYREEwyIIhkUQDIsgGBZBMCyCYFgEwbAIgmERBMMiCIZFEAyLIBgWQTAsgmBYBMGwCIJhEQTDIgiGRRAMiyAYFkEwLIJgWATBsAiCYREEwyIIhkUQDIsgGBZBMCyCYFgEwbAIgmERBMMiCIZFEAyLIBgWQTAsgmBYBMGwCIJhEQTDIgiGRRAMiyAYFkEwLIJgWATBsAiCYREEwyKIXz+sigqpqJBnz+TIERGRM2e+/Ln+BXmCr6cXMG1Pn8pff4mI/P23VFSIyJfCyKN+/bB0zc1fvigqEuEZy8N+/a0wK0uOHJGKCrHZZPVqGRnx9IJIRMRL0zRPr8FN/vhDLl6U4mL5/XdPL4VmwRlL5+MjIuJweHodJMKwCGQWheXtLSIyPu7pdZDIrAqLZ6yZhGERBMMiiNnzBul/oqKGf/ttob//Kk+vhGQ2nbHOvXu39dq16s+fPb0QEplNYfn4+IiIg1vhzDB7wvL29haRcb7dMDPMnrB4xppRGBZBMCwP6+3t7ezsrK+vd/vk/v7+U6dOlZaWFhcXu3fy4ODg6dOnc3JynB2k/UQjIyMtLS319fVunzw2NrZ7924ROXDgwNjYmBsnj4+PW63WrVu37t+/32g0fvr0yY2TbTZbTExMamqql5dXbm7uixcv3DW8pKQkLi5ORMLCwkRky5Ytt27dcsvkCxcuLFu2TES8vLzu3r37o8N+XljV1dXr16+Pi4vz8/PLzMysq6tz1+Q7d+6kpqaKyKJFi0RkzZo1paWlbplst9tTUlLUK9DLy0tEwsPDz58/P/1279+/v337djU5Pj5+zpw5IhIUFHTs2LG+vr7pTG5sbNyzZ4+anJycbDQalyxZotafm5vb2to65clPnz7dt2+fmrxx48YbN244OfhnhNXW1pabm6sWFBkZOX/+fBHx8fHJz8/v7OyczuSOjo68vDz1lEdHRxcUFMTHx6u/aO/evU+ePJny5O7uboPBoLbXyMhIq9Vqt9vT09PV8LVr15aVlU1t8ocPH/TJERERVqt1fHy8ra1NfyARERFFRUVTaLenp8doNPr7+6sTlcViUUP6+vpMJlNAQIBq12g09vb2Tmry58+fTSaTqj80NFSf7AQ2rKHBwRMnTgQFBYlIcHCw2WweHh7u7u42Go1qlXPnzjWZTAMDA5OdPDIyYrFY5s2bJyKBgYH6EPXnCxYsEBFvb++8vLzJtjs6OlpUVKROfn5+fgaD4eunoaSkRG93165dDx8+dH2yw+GwWq2LFy/WJ3+zsdrtdv00lpiYWF5e7uJktV8vXbpURHx9ffPz89+9e/fNMS9fvtTbjYyMdL3dkpKS2NhY/ef59u1bV74LGdaVK+MbNuxetkxEsrOzvzkJNzU16aex6OjooqIih8Ph4uCqqqp169ap783Ozm5pafnmANWueu0GBwebTKbBwUFXJl+7dm3Dhg16N/96OTg8PGyxWNR5Vz2LXV1dE06ura1NS0tTk3fu3Pn48eN/PUxdeC1fvlxfw6NHj5xPvnfv3rZt29TxO3bsePDggZODa2pq9IM3bdpUXV3t5OC6ujr9JL158+bbt29P9Cj/gQmruVnLytJENJH2AweuXr36owOrqqqSk5PV0lNSUq5fv+58cHt7e15enjp+1apVzl/TjY2NersxMTFq0/nRwa9fv9Zf0CtWrLDZbM5X8v79e4PB4OvrO2G7b968yc/PV+/fRkdHW61W55O1/2/Xz8/vR+1+v187eYA61a66AFftfl95T0+P/ugWLlxosVhcf9kr7g6rv18zmbSAAE1EW7BAM5u14WHn3+FwOGw2mzrZqjPQ8+fPvz9M/ayDg4P1DXRoaMiVFVVWViYlJanhqamp319yqt0zJCREXYK4fnrTNK2hoUFvNzY29pundnR0VO/D39/fYDBM6sL863ZDQ0PNZrP+kNWu+qP92hUDAwNms1ldS6h21R6ndlV1ve/r62swGD5+/DipyYq7w/rzT01E8/bWDh/WXNggdP39/WazWXWjnoOvH8/XVzbZ2dltbW2TWpR6GsLDw/WbI333rKysTExM1CdP7Yb/ypUr+gaalpZ28+ZN7X93wc5fLa5oaGjIyspSc1auXGmz2WpqatRdsIhkZmZO5x6lo6Pj8OHD6pwXFhZ29OhRfb/OyMiYcBd2wt1hvXql7dyp2e1T/e5X+q6hzsCNjY36LW5SUtKEe6UTvb29hYWFgYGBIhIYGFhQUHDw4EE1efXq1ZcvX57yZE3TxsbGzp07p9/YJyQkqMkJCQkVFRXTmayUlZXpLwC1X8fHx1+8eHH6kzVNq6+vVz/k0NBQEYmKinJlv3ZuqmFZLP98UV6ulZdrzc1afv40V6PU1tbq14z6zfPZs2fd8s5ne3u7aldNVrvq8ET7tYvUbXlAQEBGRobaVV3cr12hblfT0tJycnKOHz/u+n7totLS0kuXLpnN5v7+/ulPm+rnCs+cEf23EImJXz7k/uyZNDfL3r1TGfid0tLSwsLC9PR0h8Nx8uRJdT3hLna7vampqaur69ChQ+ou3Y1aW1tDQkKGhoaioqLcO/kXMo2wVEzqk+zqa/VfJ7gpLPqlueOX0PqH3IuLWRUps+gj9jSTzJ5/NkMzCsMiCIZFEAyLIBgWQTAsgmBYBMGwCIJhEQTDIgiGRRAMiyAYFkEwLIJgWATBsAiCYREEwyIIhkUQDIsgGBZBMCyCYFgEwbAIgmERBMMiCIZFEAyLIBgWQTAsgmBYBMGwCIJhEQTDIgiGRRAMiyAYFkEwLIJgWATBsAiCYREEwyIIhkUQDIsgGBZBMCyCYFgEwbAIgmERBMMiCIZFEAyLIBgWQTAsgmBYBMGwCIJhEQTDIgiGRRAMiyAYFkEwLIJgWATBsAiCYREEwyIIhkUQDIsgGBZBMCyCYFgEwbAIgmERBMMiCIZFEAyLIBgWQTAsgmBYBMGwCIJhEQTDIgiGRRD/BQiZqFr78KD0AAAAAElFTkSuQmCC\" alt=\"Mol\"/></td>\n",
       "    </tr>\n",
       "    <tr>\n",
       "      <th>2</th>\n",
       "      <td>CCCCCCCCCCCCC(O)CCO</td>\n",
       "      <td>1.113943</td>\n",
       "      <td><img src=\"data:image/png;base64,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\" alt=\"Mol\"/></td>\n",
       "    </tr>\n",
       "  </tbody>\n",
       "</table>\n",
       "</div>"
      ],
      "text/plain": [
       "<IPython.core.display.HTML object>"
      ]
     },
     "execution_count": 4,
     "metadata": {},
     "output_type": "execute_result"
    }
   ],
   "source": [
    "sample_id = [0,1,2]\n",
    "PandasTools.AddMoleculeColumnToFrame(df, \"SMILES\", \"Structure\")\n",
    "HTML(df.iloc[sample_id].to_html(notebook=True))"
   ]
  },
  {
   "cell_type": "code",
   "execution_count": 5,
   "metadata": {},
   "outputs": [
    {
     "data": {
      "image/png": "[encoded data removed]",
      "text/plain": [
       "<Figure size 720x720 with 3 Axes>"
      ]
     },
     "metadata": {
      "needs_background": "light"
     },
     "output_type": "display_data"
    }
   ],
   "source": [
    "ohe, smi2index, smiles_maxlen = generate_one_hot_encoding(df)\n",
    "idx = [smi2index[char] for char in [\"C\", \"O\", \"(\", \")\"]]\n",
    "fig, ax = plt.subplots(3,1,figsize=(10,10))\n",
    "for i in sample_id:\n",
    "    ax[i].imshow(ohe[i], cmap=\"gray\")\n",
    "    ax[i].set_xlabel(\"Length of SMILES String {}\".format(df.SMILES.iloc[i]))\n",
    "    ax[i].set_yticks(idx, [list(smi2index.keys())[x] for x in idx])\n",
    "plt.tight_layout()"
   ]
  },
  {
   "attachments": {},
   "cell_type": "markdown",
   "metadata": {},
   "source": [
    "## Train a GNN Model"
   ]
  },
  {
   "attachments": {},
   "cell_type": "markdown",
   "metadata": {},
   "source": [
    "#### Model Setup and Training"
   ]
  },
  {
   "cell_type": "code",
   "execution_count": 6,
   "metadata": {},
   "outputs": [],
   "source": [
    "batch_size = 5\n",
    "cmc_data = cmc_dataset()\n",
    "train_idx, test_idx = train_test_split(range(len(cmc_data)), test_size=0.1, random_state=seed, shuffle=True)\n",
    "train_sampler = SubsetRandomSampler(train_idx)\n",
    "test_sampler = SubsetRandomSampler(test_idx)\n",
    "train_loader = torch.utils.data.DataLoader(cmc_data, batch_size=batch_size,\n",
    "                                            sampler=train_sampler,\n",
    "                                            collate_fn=collate,\n",
    "                                            shuffle=False,\n",
    "                                            drop_last=False)\n",
    "test_loader = torch.utils.data.DataLoader(cmc_data, batch_size=batch_size,\n",
    "                                            sampler=test_sampler,\n",
    "                                            collate_fn=collate,\n",
    "                                            shuffle=False,\n",
    "                                            drop_last=False)"
   ]
  },
  {
   "cell_type": "code",
   "execution_count": 65,
   "metadata": {},
   "outputs": [],
   "source": [
    "model = GCN(74, 256, 1)\n",
    "loss_fn = nn.MSELoss()\n",
    "optimizer = torch.optim.Adam(params=model.parameters())"
   ]
  },
  {
   "cell_type": "code",
   "execution_count": 66,
   "metadata": {},
   "outputs": [
    {
     "name": "stdout",
     "output_type": "stream",
     "text": [
      "Epoch 1, train loss 4.397, test loss 2.060\n",
      "Epoch 2, train loss 1.365, test loss 1.715\n",
      "Epoch 3, train loss 1.246, test loss 1.408\n",
      "Epoch 4, train loss 1.432, test loss 1.152\n",
      "Epoch 5, train loss 1.140, test loss 1.007\n",
      "Epoch 6, train loss 1.025, test loss 1.023\n",
      "Epoch 7, train loss 0.974, test loss 1.027\n",
      "Epoch 8, train loss 0.943, test loss 0.987\n",
      "Epoch 9, train loss 0.922, test loss 0.926\n",
      "Epoch 10, train loss 0.935, test loss 1.140\n",
      "Epoch 11, train loss 0.950, test loss 0.955\n",
      "Epoch 12, train loss 0.958, test loss 0.819\n",
      "Epoch 13, train loss 0.938, test loss 0.941\n",
      "Epoch 14, train loss 0.869, test loss 1.085\n",
      "Epoch 15, train loss 0.791, test loss 0.772\n",
      "Epoch 16, train loss 0.788, test loss 0.765\n",
      "Epoch 17, train loss 0.822, test loss 0.812\n",
      "Epoch 18, train loss 0.835, test loss 0.904\n",
      "Epoch 19, train loss 0.832, test loss 1.470\n",
      "Epoch 20, train loss 0.858, test loss 0.855\n",
      "Epoch 21, train loss 0.749, test loss 0.950\n",
      "Epoch 22, train loss 0.735, test loss 0.920\n",
      "Epoch 23, train loss 0.756, test loss 0.751\n",
      "Epoch 24, train loss 0.724, test loss 0.910\n",
      "Epoch 25, train loss 0.741, test loss 0.894\n",
      "Epoch 26, train loss 0.682, test loss 0.667\n",
      "Epoch 27, train loss 0.671, test loss 0.655\n",
      "Epoch 28, train loss 0.634, test loss 0.748\n",
      "Epoch 29, train loss 0.688, test loss 0.780\n",
      "Epoch 30, train loss 0.632, test loss 0.823\n",
      "Epoch 31, train loss 0.634, test loss 0.675\n",
      "Epoch 32, train loss 0.608, test loss 0.604\n",
      "Epoch 33, train loss 0.715, test loss 0.670\n",
      "Epoch 34, train loss 0.662, test loss 0.898\n",
      "Epoch 35, train loss 0.599, test loss 0.606\n",
      "Epoch 36, train loss 0.625, test loss 0.673\n",
      "Epoch 37, train loss 0.585, test loss 0.567\n",
      "Epoch 38, train loss 0.550, test loss 0.566\n",
      "Epoch 39, train loss 0.536, test loss 1.009\n",
      "Epoch 40, train loss 0.720, test loss 0.601\n",
      "Epoch 41, train loss 0.587, test loss 0.537\n",
      "Epoch 42, train loss 0.548, test loss 0.525\n",
      "Epoch 43, train loss 0.564, test loss 0.576\n",
      "Epoch 44, train loss 0.526, test loss 0.612\n",
      "Epoch 45, train loss 0.511, test loss 0.683\n",
      "Epoch 46, train loss 0.530, test loss 0.751\n",
      "Epoch 47, train loss 0.570, test loss 0.552\n",
      "Epoch 48, train loss 0.547, test loss 0.632\n",
      "Epoch 49, train loss 0.505, test loss 0.597\n",
      "Epoch 50, train loss 0.501, test loss 0.588\n"
     ]
    }
   ],
   "source": [
    "n_epoch = 50\n",
    "train_losses = []\n",
    "test_losses = []\n",
    "for epoch in range(n_epoch):\n",
    "    cur_train_loss = 0\n",
    "    model.train()\n",
    "    for data in train_loader:\n",
    "        batched_graph = data[0] \n",
    "        labels = data[1]\n",
    "        optimizer.zero_grad()\n",
    "        pred = model(batched_graph, batched_graph.ndata['h'].float())\n",
    "        loss = loss_fn(pred, labels)\n",
    "        cur_train_loss += loss_fn(pred, labels).item()\n",
    "        loss.backward()\n",
    "        optimizer.step()\n",
    "    avg_train_loss = cur_train_loss/len(train_loader)\n",
    "    train_losses.append(avg_train_loss)\n",
    "    cur_test_loss = 0\n",
    "    model.eval()\n",
    "    for data in test_loader:\n",
    "        batched_graph = data[0] \n",
    "        labels = data[1]\n",
    "        pred = model(batched_graph, batched_graph.ndata['h'].float())\n",
    "        loss = loss_fn(pred, labels)\n",
    "        cur_test_loss += loss.item()\n",
    "    avg_test_loss = cur_test_loss/len(test_loader)\n",
    "    test_losses.append(avg_test_loss)\n",
    "    print(\"Epoch {}, train loss {:.3f}, test loss {:.3f}\".format(epoch+1, avg_train_loss, avg_test_loss))\n"
   ]
  },
  {
   "attachments": {},
   "cell_type": "markdown",
   "metadata": {},
   "source": [
    "#### Convergence"
   ]
  },
  {
   "cell_type": "code",
   "execution_count": 74,
   "metadata": {},
   "outputs": [
    {
     "data": {
      "image/png": "[encoded data removed]",
      "text/plain": [
       "<Figure size 288x288 with 1 Axes>"
      ]
     },
     "metadata": {
      "needs_background": "light"
     },
     "output_type": "display_data"
    }
   ],
   "source": [
    "fig, ax = plt.subplots(figsize=(4,4))\n",
    "ax.plot(np.arange(n_epoch), train_losses, label=\"Train\")\n",
    "ax.plot(np.arange(n_epoch), test_losses, label=\"Test\")\n",
    "ax.set_xlabel(\"Epoch\")\n",
    "ax.set_ylabel(\"Loss\")\n",
    "plt.legend()\n",
    "plt.tight_layout()"
   ]
  },
  {
   "attachments": {},
   "cell_type": "markdown",
   "metadata": {},
   "source": [
    "#### Predict and Parity Plot"
   ]
  },
  {
   "cell_type": "code",
   "execution_count": 69,
   "metadata": {},
   "outputs": [],
   "source": [
    "true_train, pred_train = [], []\n",
    "true_test, pred_test = [], []\n",
    "for idx in range(len(cmc_data)):\n",
    "    data = cmc_data[idx]\n",
    "    if idx in train_idx:\n",
    "        true_train.append(data[1].cpu().unsqueeze(-1).numpy()[0])\n",
    "        pred_train.append(model(data[0], data[0].ndata[\"h\"]).detach().cpu().numpy()[0][0])\n",
    "    else:\n",
    "        true_test.append(data[1].cpu().unsqueeze(-1).numpy()[0])\n",
    "        pred_test.append(model(data[0], data[0].ndata[\"h\"]).detach().cpu().numpy()[0][0])"
   ]
  },
  {
   "cell_type": "code",
   "execution_count": 73,
   "metadata": {},
   "outputs": [
    {
     "data": {
      "image/png": "[encoded data removed]",
      "text/plain": [
       "<Figure size 288x288 with 1 Axes>"
      ]
     },
     "metadata": {
      "needs_background": "light"
     },
     "output_type": "display_data"
    }
   ],
   "source": [
    "fig, ax = plt.subplots(figsize=(4,4))\n",
    "ax.scatter(true_train, pred_train, label=\"Train\", alpha=0.7, s=8)\n",
    "ax.scatter(true_test, pred_test, label=\"Test\", alpha=0.7, s=8)\n",
    "ax.set_xlim([1,5.5])\n",
    "ax.set_ylim([1,5.5])\n",
    "ax.set_xlabel(\"Experimental\")\n",
    "ax.set_ylabel(\"Predicted\")\n",
    "plt.legend()\n",
    "plt.tight_layout()"
   ]
  }
 ],
 "metadata": {
  "kernelspec": {
   "display_name": "solvgnn",
   "language": "python",
   "name": "python3"
  },
  "language_info": {
   "codemirror_mode": {
    "name": "ipython",
    "version": 3
   },
   "file_extension": ".py",
   "mimetype": "text/x-python",
   "name": "python",
   "nbconvert_exporter": "python",
   "pygments_lexer": "ipython3",
   "version": "3.7.4"
  },
  "orig_nbformat": 4
 },
 "nbformat": 4,
 "nbformat_minor": 2
}
