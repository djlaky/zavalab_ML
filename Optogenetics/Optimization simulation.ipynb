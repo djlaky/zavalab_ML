{
 "cells": [
  {
   "cell_type": "markdown",
   "id": "3dd373fc",
   "metadata": {},
   "source": [
    "Approximate the complete design space using only the sampled conditions and use a random subset of samples to train the NN to predict switching. Query the remaining set of samples to find conditions the NN predicts to have improved switching. Update model on selected set and repeat."
   ]
  },
  {
   "cell_type": "code",
   "execution_count": 1,
   "id": "4cef3ee5",
   "metadata": {},
   "outputs": [],
   "source": [
    "# SET SIMULATION PARAMETERS \n",
    "\n",
    "# initial number of training conditions \n",
    "n_init = 10 \n",
    "\n",
    "# number of pairs of light conditions to apply to each strain  \n",
    "n_design = 10\n",
    "\n",
    "# rounds of design, test, learn \n",
    "n_rounds =  5\n",
    "\n",
    "# number of trials \n",
    "n_trials = 10"
   ]
  },
  {
   "cell_type": "code",
   "execution_count": 2,
   "id": "ee01bf2a",
   "metadata": {},
   "outputs": [],
   "source": [
    "import numpy as np\n",
    "import pandas as pd \n",
    "import matplotlib.pyplot as plt\n",
    "import itertools \n",
    "from scipy.special import comb\n",
    "\n",
    "from scipy.stats import linregress\n",
    "\n",
    "from parabola.laplace_nn2 import *\n",
    "\n",
    "from tqdm import tqdm\n",
    "\n",
    "# set random seed \n",
    "np.random.seed(123)"
   ]
  },
  {
   "cell_type": "code",
   "execution_count": 3,
   "id": "343fbfad",
   "metadata": {},
   "outputs": [],
   "source": [
    "# import data \n",
    "df_0 = pd.read_csv(\"data/universal_df.csv\")\n",
    "df_1 = pd.read_csv(\"data/design_1_df.csv\")\n",
    "df_2 = pd.read_csv(\"data/design_2_df.csv\")\n",
    "df = pd.concat((df_0, df_1, df_2))\n",
    "\n",
    "# define features and response\n",
    "features = df.columns.values[:3]\n",
    "response = df.columns.values[3:]\n",
    "\n",
    "# matrix of inputs and responses \n",
    "X = np.array(df[features].values, float)\n",
    "Y = np.array(df[response].values, float)\n",
    "\n",
    "# scale Y so that max value is 1\n",
    "Y_max = np.nanmax(Y, 0)\n",
    "Y = Y / Y_max"
   ]
  },
  {
   "cell_type": "code",
   "execution_count": 4,
   "id": "2baacd58",
   "metadata": {
    "scrolled": true
   },
   "outputs": [
    {
     "name": "stderr",
     "output_type": "stream",
     "text": [
      "No GPU/TPU found, falling back to CPU. (Set TF_CPP_MIN_LOG_LEVEL=0 and rerun for more info.)\n"
     ]
    },
    {
     "name": "stdout",
     "output_type": "stream",
     "text": [
      "Number of model parameters: 387\n",
      "Updating precision...\n",
      "Evidence -372.425\n",
      "Updating precision...\n",
      "Evidence 1428.518\n",
      "Updating precision...\n",
      "Evidence 2701.498\n",
      "Updating precision...\n",
      "Evidence 3283.473\n",
      "Updating precision...\n",
      "Evidence 3429.001\n",
      "Updating precision...\n",
      "Evidence 3442.010\n",
      "Updating precision...\n",
      "Evidence 3458.727\n",
      "Updating precision...\n",
      "Evidence 3460.382\n",
      "Pass count  1\n"
     ]
    }
   ],
   "source": [
    "# interpolate missing data using NN trained on everything \n",
    "n_inputs = len(features)\n",
    "n_hidden = 16\n",
    "n_outputs = len(response)\n",
    "\n",
    "ffnn = FFNN(n_inputs, n_hidden, n_outputs)\n",
    "print(f\"Number of model parameters: {ffnn.n_params}\")\n",
    "\n",
    "# fit NN\n",
    "ffnn.fit(X, Y)"
   ]
  },
  {
   "cell_type": "code",
   "execution_count": 5,
   "id": "9016575d",
   "metadata": {},
   "outputs": [],
   "source": [
    "# import design space\n",
    "df = pd.read_csv(\"data/Optogenetics_design_space_mini.csv\")\n",
    "X = df[features].values"
   ]
  },
  {
   "cell_type": "code",
   "execution_count": 6,
   "id": "ed6429a0",
   "metadata": {},
   "outputs": [],
   "source": [
    "# update Y with NN fit \n",
    "Y = ffnn.predict_point(X)\n",
    "\n",
    "# update dataframe with interpolated data\n",
    "df[response] = Y"
   ]
  },
  {
   "cell_type": "code",
   "execution_count": 7,
   "id": "ce9384da",
   "metadata": {},
   "outputs": [],
   "source": [
    "# compute product between all elements of a given vector \n",
    "def prod(d):\n",
    "    # matrix where element ij = v_i * v_j \n",
    "    diff_mat = vmap(lambda d1: vmap(lambda d2: d1 * d2)(d))(d)\n",
    "    return diff_mat.ravel()\n",
    "\n",
    "# function to apply product of differences to set of vectors\n",
    "batch_prod = jit(vmap(prod))\n",
    "\n",
    "# given measured outcomes from two light conditions, compute min product in differences\n",
    "@jit\n",
    "def measured_obj(y1, y2):\n",
    "    return -jnp.nanmin(prod(y1-y2))\n",
    "\n",
    "# objective: given two light inputs, compute min product in differences in efficacies \n",
    "def obj_params(params, ffnn, U):\n",
    "    u1 = U[:, :3]\n",
    "    u2 = U[:, 3:]\n",
    "    \n",
    "    # predict efficacies of strains due to light input 1\n",
    "    y1 = ffnn.predict_point_params(u1, params)\n",
    "    \n",
    "    # predict efficacies of strains due to light input 2\n",
    "    y2 = ffnn.predict_point_params(u2, params)\n",
    "    \n",
    "    # return largest product of differences for each sample \n",
    "    # should be negative, so multiply by negative 1 \n",
    "    return -jnp.min(batch_prod(y1 - y2), 1)\n",
    "\n",
    "def sample(mu, cov):        \n",
    "    \n",
    "    # cholesky factorization of covariance\n",
    "    L = np.linalg.cholesky(cov)\n",
    "    \n",
    "    # standard normal random vector\n",
    "    z = np.random.randn(len(mu))\n",
    "    \n",
    "    # transform so that sample has E[s] = mu, cov[s] = cov\n",
    "    return mu + np.dot(z, L.T)"
   ]
  },
  {
   "cell_type": "code",
   "execution_count": 8,
   "id": "e5c61693",
   "metadata": {},
   "outputs": [],
   "source": [
    "# return indeces of optimal samples\n",
    "def search_Thompson(ffnn, D, N, batch_size = 256):\n",
    "\n",
    "    # make a copy \n",
    "    data = np.copy(D)\n",
    "    \n",
    "    # determine number of samples to search over\n",
    "    n_samples = data.shape[0]\n",
    "    batch_size = min([n_samples, batch_size])\n",
    "    \n",
    "    # init selected set\n",
    "    best_samples = []\n",
    "    while len(best_samples) < N:\n",
    "    \n",
    "        # sample params from posterior\n",
    "        params = sample(ffnn.params, ffnn.Ainv)\n",
    "    \n",
    "        # exploitation objective evaluations \n",
    "        f_P = []\n",
    "        for batch_inds in tqdm(np.array_split(np.arange(n_samples), n_samples//batch_size)):\n",
    "            # make predictions on data\n",
    "            f_P.append(obj_params(params, ffnn, data[batch_inds]))\n",
    "        f_P = jnp.concatenate(f_P).ravel()\n",
    "\n",
    "        # initialize with sample that maximizes objective\n",
    "        sample_index = np.nanargmax(f_P).item()\n",
    "        if sample_index not in best_samples:\n",
    "            # pick sample and remove from selection\n",
    "            best_samples.append(sample_index)\n",
    "            data[sample_index, :] = np.nan\n",
    "            print(f\"Picked experiment {len(best_samples)} out of {N}, sample {sample_index}\")\n",
    "\n",
    "    return best_samples"
   ]
  },
  {
   "cell_type": "code",
   "execution_count": 9,
   "id": "dff649e7",
   "metadata": {},
   "outputs": [
    {
     "name": "stderr",
     "output_type": "stream",
     "text": [
      "100%|███████████████████████████████| 165600/165600.0 [01:37<00:00, 1694.30it/s]\n"
     ]
    }
   ],
   "source": [
    "# create design space of all pairs of light inputs \n",
    "n_light = df.shape[0]\n",
    "\n",
    "# there are n_light choose 2 different pairs \n",
    "n_cond = comb(n_light, 2)\n",
    "D = np.zeros([int(n_cond), 2*len(features)])\n",
    "\n",
    "# init dictionary to map design index to rows of data set \n",
    "data_dict = {}\n",
    "\n",
    "# compute measured objective for all light pairs\n",
    "objectives = []\n",
    "\n",
    "# populate matrix of input combinations \n",
    "for k, (i, j) in tqdm(enumerate(itertools.combinations(range(n_light), 2)), total=n_cond):\n",
    "    data_dict[k] = [i,j]\n",
    "    \n",
    "    # light inputs \n",
    "    u1 = X[i] # df.iloc[i][features].values\n",
    "    u2 = X[j] # df.iloc[j][features].values\n",
    "    D[k, :3] = u1\n",
    "    D[k, 3:] = u2\n",
    "    \n",
    "    # measured response \n",
    "    y1 = Y[i] # df.iloc[i][response].values\n",
    "    y2 = Y[j] # df.iloc[j][response].values\n",
    "    objectives.append(measured_obj(y1, y2))\n",
    "    \n",
    "# convert to numpy array\n",
    "objectives = np.array(objectives)"
   ]
  },
  {
   "cell_type": "code",
   "execution_count": 10,
   "id": "31aa9b44",
   "metadata": {},
   "outputs": [
    {
     "data": {
      "image/png": "[encoded data removed]",
      "text/plain": [
       "<Figure size 640x480 with 1 Axes>"
      ]
     },
     "metadata": {},
     "output_type": "display_data"
    },
    {
     "data": {
      "text/plain": [
       "165600"
      ]
     },
     "execution_count": 10,
     "metadata": {},
     "output_type": "execute_result"
    }
   ],
   "source": [
    "plt.hist(objectives, bins=100)\n",
    "plt.yscale(\"log\")\n",
    "plt.show()\n",
    "len(objectives)"
   ]
  },
  {
   "cell_type": "code",
   "execution_count": 11,
   "id": "584d18e8",
   "metadata": {
    "scrolled": true
   },
   "outputs": [
    {
     "data": {
      "text/plain": [
       "0.2690671"
      ]
     },
     "execution_count": 11,
     "metadata": {},
     "output_type": "execute_result"
    }
   ],
   "source": [
    "np.nanmax(objectives)"
   ]
  },
  {
   "cell_type": "code",
   "execution_count": 12,
   "id": "98284274",
   "metadata": {},
   "outputs": [],
   "source": [
    "# generate a list of random indices for starting optimization\n",
    "randinds_list = [np.random.choice(np.arange(X.shape[0]), n_init, replace=False) for _ in range(n_trials)]"
   ]
  },
  {
   "cell_type": "code",
   "execution_count": 13,
   "id": "8d90c424",
   "metadata": {
    "scrolled": true
   },
   "outputs": [
    {
     "name": "stderr",
     "output_type": "stream",
     "text": [
      "100%|███████████████████████████████████████| 45/45.0 [00:00<00:00, 1203.32it/s]\n"
     ]
    },
    {
     "name": "stdout",
     "output_type": "stream",
     "text": [
      "Starting with best value 0.10312048\n",
      "Updating precision...\n",
      "Evidence -74.102\n",
      "Updating precision...\n",
      "Evidence 40.336\n",
      "Updating precision...\n",
      "Evidence 133.865\n",
      "Updating precision...\n",
      "Evidence 174.309\n",
      "Updating precision...\n",
      "Evidence 203.532\n",
      "Updating precision...\n",
      "Evidence 226.013\n",
      "Updating precision...\n",
      "Evidence 241.424\n",
      "Updating precision...\n",
      "Evidence 251.714\n",
      "Updating precision...\n",
      "Evidence 259.148\n",
      "Updating precision...\n",
      "Evidence 264.645\n",
      "Updating precision...\n",
      "Evidence 268.294\n",
      "Updating precision...\n",
      "Evidence 270.498\n",
      "Updating precision...\n",
      "Evidence 273.162\n",
      "Updating precision...\n",
      "Evidence 270.716\n",
      "Fail count  1\n",
      "Updating precision...\n",
      "Evidence 270.248\n",
      "Fail count  2\n",
      "Updating precision...\n",
      "Evidence 269.775\n",
      "Fail count  3\n",
      "Updating precision...\n",
      "Evidence 268.123\n",
      "Fail count  4\n",
      "Updating precision...\n",
      "Evidence 265.947\n",
      "Fail count  5\n",
      "Updating precision...\n",
      "Evidence 263.312\n",
      "Fail count  6\n",
      "Updating precision...\n",
      "Evidence 261.809\n",
      "Fail count  7\n",
      "Updating precision...\n",
      "Evidence 260.140\n",
      "Fail count  8\n",
      "Updating precision...\n",
      "Evidence 259.822\n",
      "Fail count  9\n",
      "Updating precision...\n",
      "Evidence 259.662\n",
      "Pass count  1\n",
      "Fail count  10\n"
     ]
    },
    {
     "name": "stderr",
     "output_type": "stream",
     "text": [
      "100%|███████████████████████████████████████| 646/646 [00:00<00:00, 1348.19it/s]\n"
     ]
    },
    {
     "name": "stdout",
     "output_type": "stream",
     "text": [
      "Picked experiment 1 out of 10, sample 29956\n"
     ]
    },
    {
     "name": "stderr",
     "output_type": "stream",
     "text": [
      "100%|███████████████████████████████████████| 646/646 [00:00<00:00, 3210.67it/s]\n"
     ]
    },
    {
     "name": "stdout",
     "output_type": "stream",
     "text": [
      "Picked experiment 2 out of 10, sample 5129\n"
     ]
    },
    {
     "name": "stderr",
     "output_type": "stream",
     "text": [
      "100%|███████████████████████████████████████| 646/646 [00:00<00:00, 3240.74it/s]\n"
     ]
    },
    {
     "name": "stdout",
     "output_type": "stream",
     "text": [
      "Picked experiment 3 out of 10, sample 114432\n"
     ]
    },
    {
     "name": "stderr",
     "output_type": "stream",
     "text": [
      "100%|███████████████████████████████████████| 646/646 [00:00<00:00, 3546.64it/s]\n"
     ]
    },
    {
     "name": "stdout",
     "output_type": "stream",
     "text": [
      "Picked experiment 4 out of 10, sample 128179\n"
     ]
    },
    {
     "name": "stderr",
     "output_type": "stream",
     "text": [
      "100%|███████████████████████████████████████| 646/646 [00:00<00:00, 3504.99it/s]\n"
     ]
    },
    {
     "name": "stdout",
     "output_type": "stream",
     "text": [
      "Picked experiment 5 out of 10, sample 114496\n"
     ]
    },
    {
     "name": "stderr",
     "output_type": "stream",
     "text": [
      "100%|███████████████████████████████████████| 646/646 [00:00<00:00, 3413.19it/s]\n"
     ]
    },
    {
     "name": "stdout",
     "output_type": "stream",
     "text": [
      "Picked experiment 6 out of 10, sample 163646\n"
     ]
    },
    {
     "name": "stderr",
     "output_type": "stream",
     "text": [
      "100%|███████████████████████████████████████| 646/646 [00:00<00:00, 3483.92it/s]\n"
     ]
    },
    {
     "name": "stdout",
     "output_type": "stream",
     "text": [
      "Picked experiment 7 out of 10, sample 69449\n"
     ]
    },
    {
     "name": "stderr",
     "output_type": "stream",
     "text": [
      "100%|███████████████████████████████████████| 646/646 [00:00<00:00, 3454.33it/s]\n"
     ]
    },
    {
     "name": "stdout",
     "output_type": "stream",
     "text": [
      "Picked experiment 8 out of 10, sample 20599\n"
     ]
    },
    {
     "name": "stderr",
     "output_type": "stream",
     "text": [
      "100%|███████████████████████████████████████| 646/646 [00:00<00:00, 3622.08it/s]\n"
     ]
    },
    {
     "name": "stdout",
     "output_type": "stream",
     "text": [
      "Picked experiment 9 out of 10, sample 163708\n"
     ]
    },
    {
     "name": "stderr",
     "output_type": "stream",
     "text": [
      "100%|███████████████████████████████████████| 646/646 [00:00<00:00, 3319.12it/s]\n"
     ]
    },
    {
     "name": "stdout",
     "output_type": "stream",
     "text": [
      "Picked experiment 10 out of 10, sample 163520\n",
      "DTL progress [0.10312048, 0.16505004]\n",
      "Updating precision...\n",
      "Evidence -155.663\n",
      "Updating precision...\n",
      "Evidence 253.112\n",
      "Updating precision...\n",
      "Evidence 574.708\n",
      "Updating precision...\n",
      "Evidence 811.671\n",
      "Updating precision...\n",
      "Evidence 959.175\n",
      "Updating precision...\n",
      "Evidence 1038.051\n",
      "Updating precision...\n",
      "Evidence 1098.398\n",
      "Updating precision...\n",
      "Evidence 1138.157\n",
      "Updating precision...\n",
      "Evidence 1156.873\n",
      "Updating precision...\n",
      "Evidence 1168.005\n",
      "Updating precision...\n",
      "Evidence 1173.130\n",
      "Updating precision...\n",
      "Evidence 1176.424\n",
      "Updating precision...\n",
      "Evidence 1177.811\n",
      "Updating precision...\n",
      "Evidence 1179.135\n",
      "Updating precision...\n",
      "Evidence 1180.665\n",
      "Updating precision...\n",
      "Evidence 1181.858\n",
      "Updating precision...\n",
      "Evidence 1182.235\n",
      "Pass count  1\n"
     ]
    },
    {
     "name": "stderr",
     "output_type": "stream",
     "text": [
      "100%|███████████████████████████████████████| 646/646 [00:00<00:00, 2451.02it/s]\n"
     ]
    },
    {
     "name": "stdout",
     "output_type": "stream",
     "text": [
      "Picked experiment 1 out of 10, sample 113208\n"
     ]
    },
    {
     "name": "stderr",
     "output_type": "stream",
     "text": [
      "100%|███████████████████████████████████████| 646/646 [00:00<00:00, 3296.29it/s]\n"
     ]
    },
    {
     "name": "stdout",
     "output_type": "stream",
     "text": [
      "Picked experiment 2 out of 10, sample 113144\n"
     ]
    },
    {
     "name": "stderr",
     "output_type": "stream",
     "text": [
      "100%|███████████████████████████████████████| 646/646 [00:00<00:00, 3457.39it/s]\n"
     ]
    },
    {
     "name": "stdout",
     "output_type": "stream",
     "text": [
      "Picked experiment 3 out of 10, sample 113272\n"
     ]
    },
    {
     "name": "stderr",
     "output_type": "stream",
     "text": [
      "100%|███████████████████████████████████████| 646/646 [00:00<00:00, 3396.11it/s]\n"
     ]
    },
    {
     "name": "stdout",
     "output_type": "stream",
     "text": [
      "Picked experiment 4 out of 10, sample 90493\n"
     ]
    },
    {
     "name": "stderr",
     "output_type": "stream",
     "text": [
      "100%|███████████████████████████████████████| 646/646 [00:00<00:00, 3701.28it/s]\n"
     ]
    },
    {
     "name": "stdout",
     "output_type": "stream",
     "text": [
      "Picked experiment 5 out of 10, sample 63618\n"
     ]
    },
    {
     "name": "stderr",
     "output_type": "stream",
     "text": [
      "100%|███████████████████████████████████████| 646/646 [00:00<00:00, 3584.62it/s]\n"
     ]
    },
    {
     "name": "stdout",
     "output_type": "stream",
     "text": [
      "Picked experiment 6 out of 10, sample 112884\n"
     ]
    },
    {
     "name": "stderr",
     "output_type": "stream",
     "text": [
      "100%|███████████████████████████████████████| 646/646 [00:00<00:00, 3539.06it/s]\n"
     ]
    },
    {
     "name": "stdout",
     "output_type": "stream",
     "text": [
      "Picked experiment 7 out of 10, sample 113080\n"
     ]
    },
    {
     "name": "stderr",
     "output_type": "stream",
     "text": [
      "100%|███████████████████████████████████████| 646/646 [00:00<00:00, 3538.10it/s]\n"
     ]
    },
    {
     "name": "stdout",
     "output_type": "stream",
     "text": [
      "Picked experiment 8 out of 10, sample 112948\n"
     ]
    },
    {
     "name": "stderr",
     "output_type": "stream",
     "text": [
      "100%|███████████████████████████████████████| 646/646 [00:00<00:00, 3549.15it/s]\n"
     ]
    },
    {
     "name": "stdout",
     "output_type": "stream",
     "text": [
      "Picked experiment 9 out of 10, sample 112820\n"
     ]
    },
    {
     "name": "stderr",
     "output_type": "stream",
     "text": [
      "100%|███████████████████████████████████████| 646/646 [00:00<00:00, 3349.74it/s]\n"
     ]
    },
    {
     "name": "stdout",
     "output_type": "stream",
     "text": [
      "Picked experiment 10 out of 10, sample 131604\n",
      "DTL progress [0.10312048, 0.16505004, 0.17254446]\n",
      "Updating precision...\n",
      "Evidence -172.457\n",
      "Updating precision...\n",
      "Evidence 697.613\n",
      "Updating precision...\n",
      "Evidence 1396.120\n",
      "Updating precision...\n",
      "Evidence 1878.479\n",
      "Updating precision...\n",
      "Evidence 2163.167\n",
      "Updating precision...\n",
      "Evidence 2320.052\n",
      "Updating precision...\n",
      "Evidence 2378.616\n",
      "Updating precision...\n",
      "Evidence 2392.251\n",
      "Updating precision...\n",
      "Evidence 2395.052\n",
      "Updating precision...\n",
      "Evidence 2396.911\n",
      "Pass count  1\n"
     ]
    },
    {
     "name": "stderr",
     "output_type": "stream",
     "text": [
      "100%|███████████████████████████████████████| 646/646 [00:00<00:00, 2410.33it/s]\n"
     ]
    },
    {
     "name": "stdout",
     "output_type": "stream",
     "text": [
      "Picked experiment 1 out of 10, sample 92363\n"
     ]
    },
    {
     "name": "stderr",
     "output_type": "stream",
     "text": [
      "100%|███████████████████████████████████████| 646/646 [00:00<00:00, 3542.43it/s]\n"
     ]
    },
    {
     "name": "stdout",
     "output_type": "stream",
     "text": [
      "Picked experiment 2 out of 10, sample 147307\n"
     ]
    },
    {
     "name": "stderr",
     "output_type": "stream",
     "text": [
      "100%|███████████████████████████████████████| 646/646 [00:00<00:00, 3534.46it/s]\n"
     ]
    },
    {
     "name": "stdout",
     "output_type": "stream",
     "text": [
      "Picked experiment 3 out of 10, sample 92299\n"
     ]
    },
    {
     "name": "stderr",
     "output_type": "stream",
     "text": [
      "100%|███████████████████████████████████████| 646/646 [00:00<00:00, 3625.93it/s]\n"
     ]
    },
    {
     "name": "stdout",
     "output_type": "stream",
     "text": [
      "Picked experiment 4 out of 10, sample 92745\n"
     ]
    },
    {
     "name": "stderr",
     "output_type": "stream",
     "text": [
      "100%|███████████████████████████████████████| 646/646 [00:00<00:00, 3523.23it/s]\n"
     ]
    },
    {
     "name": "stdout",
     "output_type": "stream",
     "text": [
      "Picked experiment 5 out of 10, sample 156092\n"
     ]
    },
    {
     "name": "stderr",
     "output_type": "stream",
     "text": [
      "100%|███████████████████████████████████████| 646/646 [00:00<00:00, 3408.72it/s]\n"
     ]
    },
    {
     "name": "stdout",
     "output_type": "stream",
     "text": [
      "Picked experiment 6 out of 10, sample 93126\n"
     ]
    },
    {
     "name": "stderr",
     "output_type": "stream",
     "text": [
      "100%|███████████████████████████████████████| 646/646 [00:00<00:00, 3916.80it/s]\n"
     ]
    },
    {
     "name": "stdout",
     "output_type": "stream",
     "text": [
      "Picked experiment 7 out of 10, sample 93506\n"
     ]
    },
    {
     "name": "stderr",
     "output_type": "stream",
     "text": [
      "100%|███████████████████████████████████████| 646/646 [00:00<00:00, 3705.34it/s]\n"
     ]
    },
    {
     "name": "stdout",
     "output_type": "stream",
     "text": [
      "Picked experiment 8 out of 10, sample 92681\n"
     ]
    },
    {
     "name": "stderr",
     "output_type": "stream",
     "text": [
      "100%|███████████████████████████████████████| 646/646 [00:00<00:00, 3507.20it/s]\n"
     ]
    },
    {
     "name": "stdout",
     "output_type": "stream",
     "text": [
      "Picked experiment 9 out of 10, sample 93062\n"
     ]
    },
    {
     "name": "stderr",
     "output_type": "stream",
     "text": [
      "100%|███████████████████████████████████████| 646/646 [00:00<00:00, 3561.19it/s]\n"
     ]
    },
    {
     "name": "stdout",
     "output_type": "stream",
     "text": [
      "Picked experiment 10 out of 10, sample 95765\n",
      "DTL progress [0.10312048, 0.16505004, 0.17254446, 0.21103583]\n",
      "Updating precision...\n",
      "Evidence -195.586\n",
      "Updating precision...\n",
      "Evidence 1242.932\n",
      "Updating precision...\n",
      "Evidence 2359.449\n",
      "Updating precision...\n",
      "Evidence 3064.900\n",
      "Updating precision...\n",
      "Evidence 3353.452\n",
      "Updating precision...\n",
      "Evidence 3454.427\n",
      "Updating precision...\n",
      "Evidence 3473.498\n",
      "Updating precision...\n",
      "Evidence 3476.624\n",
      "Pass count  1\n"
     ]
    },
    {
     "name": "stderr",
     "output_type": "stream",
     "text": [
      "100%|███████████████████████████████████████| 646/646 [00:00<00:00, 2337.51it/s]\n"
     ]
    },
    {
     "name": "stdout",
     "output_type": "stream",
     "text": [
      "Picked experiment 1 out of 10, sample 35266\n"
     ]
    },
    {
     "name": "stderr",
     "output_type": "stream",
     "text": [
      "100%|███████████████████████████████████████| 646/646 [00:00<00:00, 3499.76it/s]\n"
     ]
    },
    {
     "name": "stdout",
     "output_type": "stream",
     "text": [
      "Picked experiment 2 out of 10, sample 39820\n"
     ]
    },
    {
     "name": "stderr",
     "output_type": "stream",
     "text": [
      "100%|███████████████████████████████████████| 646/646 [00:00<00:00, 3731.63it/s]\n"
     ]
    },
    {
     "name": "stdout",
     "output_type": "stream",
     "text": [
      "Picked experiment 3 out of 10, sample 157588\n"
     ]
    },
    {
     "name": "stderr",
     "output_type": "stream",
     "text": [
      "100%|███████████████████████████████████████| 646/646 [00:00<00:00, 3405.31it/s]\n"
     ]
    },
    {
     "name": "stdout",
     "output_type": "stream",
     "text": [
      "Picked experiment 4 out of 10, sample 546\n"
     ]
    },
    {
     "name": "stderr",
     "output_type": "stream",
     "text": [
      "100%|███████████████████████████████████████| 646/646 [00:00<00:00, 3527.74it/s]\n"
     ]
    },
    {
     "name": "stdout",
     "output_type": "stream",
     "text": [
      "Picked experiment 5 out of 10, sample 35257\n"
     ]
    },
    {
     "name": "stderr",
     "output_type": "stream",
     "text": [
      "100%|███████████████████████████████████████| 646/646 [00:00<00:00, 3519.03it/s]\n"
     ]
    },
    {
     "name": "stdout",
     "output_type": "stream",
     "text": [
      "Picked experiment 6 out of 10, sample 35767\n"
     ]
    },
    {
     "name": "stderr",
     "output_type": "stream",
     "text": [
      "100%|███████████████████████████████████████| 646/646 [00:00<00:00, 3480.48it/s]\n"
     ]
    },
    {
     "name": "stdout",
     "output_type": "stream",
     "text": [
      "Picked experiment 7 out of 10, sample 10716\n"
     ]
    },
    {
     "name": "stderr",
     "output_type": "stream",
     "text": [
      "100%|███████████████████████████████████████| 646/646 [00:00<00:00, 3386.32it/s]\n"
     ]
    },
    {
     "name": "stdout",
     "output_type": "stream",
     "text": [
      "Picked experiment 8 out of 10, sample 17331\n"
     ]
    },
    {
     "name": "stderr",
     "output_type": "stream",
     "text": [
      "100%|███████████████████████████████████████| 646/646 [00:00<00:00, 3578.72it/s]\n"
     ]
    },
    {
     "name": "stdout",
     "output_type": "stream",
     "text": [
      "Picked experiment 9 out of 10, sample 35776\n"
     ]
    },
    {
     "name": "stderr",
     "output_type": "stream",
     "text": [
      "100%|███████████████████████████████████████| 646/646 [00:00<00:00, 3500.18it/s]\n"
     ]
    },
    {
     "name": "stdout",
     "output_type": "stream",
     "text": [
      "Picked experiment 10 out of 10, sample 36285\n",
      "DTL progress [0.10312048, 0.16505004, 0.17254446, 0.21103583, 0.22082894]\n",
      "Updating precision...\n",
      "Evidence -190.998\n",
      "Updating precision...\n",
      "Evidence 1849.560\n",
      "Updating precision...\n",
      "Evidence 3443.136\n",
      "Updating precision...\n",
      "Evidence 4426.191\n",
      "Updating precision...\n",
      "Evidence 4724.351\n",
      "Updating precision...\n",
      "Evidence 4770.022\n",
      "Updating precision...\n",
      "Evidence 4796.176\n",
      "Updating precision...\n",
      "Evidence 4846.092\n",
      "Updating precision...\n",
      "Evidence 4864.625\n",
      "Updating precision...\n",
      "Evidence 4870.218\n",
      "Updating precision...\n",
      "Evidence 4873.604\n",
      "Pass count  1\n"
     ]
    },
    {
     "name": "stderr",
     "output_type": "stream",
     "text": [
      "100%|███████████████████████████████████████| 646/646 [00:00<00:00, 2254.50it/s]\n"
     ]
    },
    {
     "name": "stdout",
     "output_type": "stream",
     "text": [
      "Picked experiment 1 out of 10, sample 34746\n"
     ]
    },
    {
     "name": "stderr",
     "output_type": "stream",
     "text": [
      "100%|███████████████████████████████████████| 646/646 [00:00<00:00, 3501.59it/s]\n"
     ]
    },
    {
     "name": "stdout",
     "output_type": "stream",
     "text": [
      "Picked experiment 2 out of 10, sample 73765\n"
     ]
    },
    {
     "name": "stderr",
     "output_type": "stream",
     "text": [
      "100%|███████████████████████████████████████| 646/646 [00:00<00:00, 3531.92it/s]\n"
     ]
    },
    {
     "name": "stdout",
     "output_type": "stream",
     "text": [
      "Picked experiment 3 out of 10, sample 34755\n"
     ]
    },
    {
     "name": "stderr",
     "output_type": "stream",
     "text": [
      "100%|███████████████████████████████████████| 646/646 [00:00<00:00, 3503.24it/s]\n"
     ]
    },
    {
     "name": "stdout",
     "output_type": "stream",
     "text": [
      "Picked experiment 4 out of 10, sample 34663\n"
     ]
    },
    {
     "name": "stderr",
     "output_type": "stream",
     "text": [
      "100%|███████████████████████████████████████| 646/646 [00:00<00:00, 3508.21it/s]\n"
     ]
    },
    {
     "name": "stdout",
     "output_type": "stream",
     "text": [
      "Picked experiment 5 out of 10, sample 34737\n"
     ]
    },
    {
     "name": "stderr",
     "output_type": "stream",
     "text": [
      "100%|███████████████████████████████████████| 646/646 [00:00<00:00, 3439.56it/s]\n"
     ]
    },
    {
     "name": "stdout",
     "output_type": "stream",
     "text": [
      "Picked experiment 6 out of 10, sample 92436\n"
     ]
    },
    {
     "name": "stderr",
     "output_type": "stream",
     "text": [
      "100%|███████████████████████████████████████| 646/646 [00:00<00:00, 3511.02it/s]\n"
     ]
    },
    {
     "name": "stdout",
     "output_type": "stream",
     "text": [
      "Picked experiment 7 out of 10, sample 29836\n"
     ]
    },
    {
     "name": "stderr",
     "output_type": "stream",
     "text": [
      "100%|███████████████████████████████████████| 646/646 [00:00<00:00, 3513.25it/s]\n"
     ]
    },
    {
     "name": "stdout",
     "output_type": "stream",
     "text": [
      "Picked experiment 8 out of 10, sample 34691\n"
     ]
    },
    {
     "name": "stderr",
     "output_type": "stream",
     "text": [
      "100%|███████████████████████████████████████| 646/646 [00:00<00:00, 3509.45it/s]\n"
     ]
    },
    {
     "name": "stdout",
     "output_type": "stream",
     "text": [
      "Picked experiment 9 out of 10, sample 34672\n"
     ]
    },
    {
     "name": "stderr",
     "output_type": "stream",
     "text": [
      "100%|███████████████████████████████████████| 646/646 [00:00<00:00, 3515.12it/s]\n"
     ]
    },
    {
     "name": "stdout",
     "output_type": "stream",
     "text": [
      "Picked experiment 10 out of 10, sample 92427\n",
      "DTL progress [0.10312048, 0.16505004, 0.17254446, 0.21103583, 0.22082894, 0.250221]\n"
     ]
    },
    {
     "name": "stderr",
     "output_type": "stream",
     "text": [
      "100%|███████████████████████████████████████| 45/45.0 [00:00<00:00, 1610.22it/s]\n"
     ]
    },
    {
     "name": "stdout",
     "output_type": "stream",
     "text": [
      "Starting with best value 0.17129481\n",
      "Updating precision...\n",
      "Evidence -77.174\n",
      "Updating precision...\n",
      "Evidence 30.433\n",
      "Updating precision...\n",
      "Evidence 90.523\n",
      "Updating precision...\n",
      "Evidence 136.527\n",
      "Updating precision...\n",
      "Evidence 173.087\n",
      "Updating precision...\n",
      "Evidence 197.798\n",
      "Updating precision...\n",
      "Evidence 209.747\n",
      "Updating precision...\n",
      "Evidence 218.478\n",
      "Updating precision...\n",
      "Evidence 224.003\n",
      "Updating precision...\n",
      "Evidence 227.480\n",
      "Updating precision...\n",
      "Evidence 230.077\n",
      "Updating precision...\n",
      "Evidence 229.170\n",
      "Fail count  1\n",
      "Updating precision...\n",
      "Evidence 223.974\n",
      "Fail count  2\n",
      "Updating precision...\n",
      "Evidence 222.562\n",
      "Fail count  3\n",
      "Updating precision...\n",
      "Evidence 222.322\n",
      "Fail count  4\n",
      "Updating precision...\n",
      "Evidence 222.726\n",
      "Updating precision...\n",
      "Evidence 223.589\n",
      "Updating precision...\n",
      "Evidence 223.565\n",
      "Pass count  1\n",
      "Fail count  5\n"
     ]
    },
    {
     "name": "stderr",
     "output_type": "stream",
     "text": [
      "100%|███████████████████████████████████████| 646/646 [00:00<00:00, 2234.11it/s]\n"
     ]
    },
    {
     "name": "stdout",
     "output_type": "stream",
     "text": [
      "Picked experiment 1 out of 10, sample 34765\n"
     ]
    },
    {
     "name": "stderr",
     "output_type": "stream",
     "text": [
      "100%|███████████████████████████████████████| 646/646 [00:00<00:00, 3502.12it/s]\n"
     ]
    },
    {
     "name": "stdout",
     "output_type": "stream",
     "text": [
      "Picked experiment 2 out of 10, sample 5695\n"
     ]
    },
    {
     "name": "stderr",
     "output_type": "stream",
     "text": [
      "100%|███████████████████████████████████████| 646/646 [00:00<00:00, 3167.19it/s]\n"
     ]
    },
    {
     "name": "stdout",
     "output_type": "stream",
     "text": [
      "Picked experiment 3 out of 10, sample 5137\n"
     ]
    },
    {
     "name": "stderr",
     "output_type": "stream",
     "text": [
      "100%|███████████████████████████████████████| 646/646 [00:00<00:00, 3485.05it/s]\n"
     ]
    },
    {
     "name": "stdout",
     "output_type": "stream",
     "text": [
      "Picked experiment 4 out of 10, sample 48393\n"
     ]
    },
    {
     "name": "stderr",
     "output_type": "stream",
     "text": [
      "100%|███████████████████████████████████████| 646/646 [00:00<00:00, 3518.53it/s]\n"
     ]
    },
    {
     "name": "stdout",
     "output_type": "stream",
     "text": [
      "Picked experiment 5 out of 10, sample 35028\n"
     ]
    },
    {
     "name": "stderr",
     "output_type": "stream",
     "text": [
      "100%|███████████████████████████████████████| 646/646 [00:00<00:00, 3443.21it/s]\n"
     ]
    },
    {
     "name": "stdout",
     "output_type": "stream",
     "text": [
      "Picked experiment 6 out of 10, sample 163646\n"
     ]
    },
    {
     "name": "stderr",
     "output_type": "stream",
     "text": [
      "100%|███████████████████████████████████████| 646/646 [00:00<00:00, 3541.33it/s]\n"
     ]
    },
    {
     "name": "stdout",
     "output_type": "stream",
     "text": [
      "Picked experiment 7 out of 10, sample 95465\n"
     ]
    },
    {
     "name": "stderr",
     "output_type": "stream",
     "text": [
      "100%|███████████████████████████████████████| 646/646 [00:00<00:00, 3555.66it/s]\n"
     ]
    },
    {
     "name": "stdout",
     "output_type": "stream",
     "text": [
      "Picked experiment 8 out of 10, sample 569\n"
     ]
    },
    {
     "name": "stderr",
     "output_type": "stream",
     "text": [
      "100%|███████████████████████████████████████| 646/646 [00:00<00:00, 3616.15it/s]\n"
     ]
    },
    {
     "name": "stdout",
     "output_type": "stream",
     "text": [
      "Picked experiment 9 out of 10, sample 130564\n"
     ]
    },
    {
     "name": "stderr",
     "output_type": "stream",
     "text": [
      "100%|███████████████████████████████████████| 646/646 [00:00<00:00, 3759.34it/s]\n"
     ]
    },
    {
     "name": "stdout",
     "output_type": "stream",
     "text": [
      "Picked experiment 10 out of 10, sample 34728\n",
      "DTL progress [0.17129481, 0.17129481]\n",
      "Updating precision...\n",
      "Evidence -148.184\n",
      "Updating precision...\n",
      "Evidence 227.362\n",
      "Updating precision...\n",
      "Evidence 522.425\n",
      "Updating precision...\n",
      "Evidence 734.133\n",
      "Updating precision...\n",
      "Evidence 883.334\n",
      "Updating precision...\n",
      "Evidence 988.490\n",
      "Updating precision...\n",
      "Evidence 1046.182\n",
      "Updating precision...\n",
      "Evidence 1068.635\n",
      "Updating precision...\n",
      "Evidence 1075.236\n",
      "Updating precision...\n",
      "Evidence 1077.178\n",
      "Updating precision...\n",
      "Evidence 1078.609\n",
      "Updating precision...\n",
      "Evidence 1079.238\n",
      "Pass count  1\n"
     ]
    },
    {
     "name": "stderr",
     "output_type": "stream",
     "text": [
      "100%|███████████████████████████████████████| 646/646 [00:00<00:00, 2197.52it/s]\n"
     ]
    },
    {
     "name": "stdout",
     "output_type": "stream",
     "text": [
      "Picked experiment 1 out of 10, sample 39820\n"
     ]
    },
    {
     "name": "stderr",
     "output_type": "stream",
     "text": [
      "100%|███████████████████████████████████████| 646/646 [00:00<00:00, 3526.10it/s]\n"
     ]
    },
    {
     "name": "stdout",
     "output_type": "stream",
     "text": [
      "Picked experiment 2 out of 10, sample 62\n"
     ]
    },
    {
     "name": "stderr",
     "output_type": "stream",
     "text": [
      "100%|███████████████████████████████████████| 646/646 [00:00<00:00, 3715.95it/s]\n"
     ]
    },
    {
     "name": "stdout",
     "output_type": "stream",
     "text": [
      "Picked experiment 3 out of 10, sample 29692\n"
     ]
    },
    {
     "name": "stderr",
     "output_type": "stream",
     "text": [
      "100%|███████████████████████████████████████| 646/646 [00:00<00:00, 3597.76it/s]\n"
     ]
    },
    {
     "name": "stdout",
     "output_type": "stream",
     "text": [
      "Picked experiment 4 out of 10, sample 29693\n"
     ]
    },
    {
     "name": "stderr",
     "output_type": "stream",
     "text": [
      "100%|███████████████████████████████████████| 646/646 [00:00<00:00, 3533.35it/s]\n"
     ]
    },
    {
     "name": "stdout",
     "output_type": "stream",
     "text": [
      "Picked experiment 5 out of 10, sample 163636\n"
     ]
    },
    {
     "name": "stderr",
     "output_type": "stream",
     "text": [
      "100%|███████████████████████████████████████| 646/646 [00:00<00:00, 3708.65it/s]\n"
     ]
    },
    {
     "name": "stdout",
     "output_type": "stream",
     "text": [
      "Picked experiment 6 out of 10, sample 59062\n"
     ]
    },
    {
     "name": "stderr",
     "output_type": "stream",
     "text": [
      "100%|███████████████████████████████████████| 646/646 [00:00<00:00, 3519.66it/s]\n"
     ]
    },
    {
     "name": "stdout",
     "output_type": "stream",
     "text": [
      "Picked experiment 7 out of 10, sample 53\n"
     ]
    },
    {
     "name": "stderr",
     "output_type": "stream",
     "text": [
      "100%|███████████████████████████████████████| 646/646 [00:00<00:00, 3822.08it/s]\n"
     ]
    },
    {
     "name": "stdout",
     "output_type": "stream",
     "text": [
      "Picked experiment 8 out of 10, sample 30212\n"
     ]
    },
    {
     "name": "stderr",
     "output_type": "stream",
     "text": [
      "100%|███████████████████████████████████████| 646/646 [00:00<00:00, 3545.41it/s]\n"
     ]
    },
    {
     "name": "stdout",
     "output_type": "stream",
     "text": [
      "Picked experiment 9 out of 10, sample 20553\n"
     ]
    },
    {
     "name": "stderr",
     "output_type": "stream",
     "text": [
      "100%|███████████████████████████████████████| 646/646 [00:00<00:00, 3535.87it/s]\n"
     ]
    },
    {
     "name": "stdout",
     "output_type": "stream",
     "text": [
      "Picked experiment 10 out of 10, sample 30213\n",
      "DTL progress [0.17129481, 0.17129481, 0.21516216]\n",
      "Updating precision...\n",
      "Evidence -176.709\n",
      "Updating precision...\n",
      "Evidence 668.451\n",
      "Updating precision...\n",
      "Evidence 1339.760\n",
      "Updating precision...\n",
      "Evidence 1810.455\n",
      "Updating precision...\n",
      "Evidence 2091.846\n",
      "Updating precision...\n",
      "Evidence 2195.208\n",
      "Updating precision...\n",
      "Evidence 2211.958\n",
      "Updating precision...\n",
      "Evidence 2214.465\n",
      "Updating precision...\n",
      "Evidence 2214.881\n",
      "Pass count  1\n"
     ]
    },
    {
     "name": "stderr",
     "output_type": "stream",
     "text": [
      "100%|███████████████████████████████████████| 646/646 [00:00<00:00, 2271.72it/s]\n"
     ]
    },
    {
     "name": "stdout",
     "output_type": "stream",
     "text": [
      "Picked experiment 1 out of 10, sample 64105\n"
     ]
    },
    {
     "name": "stderr",
     "output_type": "stream",
     "text": [
      "100%|███████████████████████████████████████| 646/646 [00:00<00:00, 3531.69it/s]\n"
     ]
    },
    {
     "name": "stdout",
     "output_type": "stream",
     "text": [
      "Picked experiment 2 out of 10, sample 113908\n"
     ]
    },
    {
     "name": "stderr",
     "output_type": "stream",
     "text": [
      "100%|███████████████████████████████████████| 646/646 [00:00<00:00, 3519.00it/s]\n"
     ]
    },
    {
     "name": "stdout",
     "output_type": "stream",
     "text": [
      "Picked experiment 3 out of 10, sample 64096\n"
     ]
    },
    {
     "name": "stderr",
     "output_type": "stream",
     "text": [
      "100%|███████████████████████████████████████| 646/646 [00:00<00:00, 3523.65it/s]\n"
     ]
    },
    {
     "name": "stdout",
     "output_type": "stream",
     "text": [
      "Picked experiment 4 out of 10, sample 33216\n"
     ]
    },
    {
     "name": "stderr",
     "output_type": "stream",
     "text": [
      "100%|███████████████████████████████████████| 646/646 [00:00<00:00, 3452.74it/s]\n"
     ]
    },
    {
     "name": "stdout",
     "output_type": "stream",
     "text": [
      "Picked experiment 5 out of 10, sample 90889\n"
     ]
    },
    {
     "name": "stderr",
     "output_type": "stream",
     "text": [
      "100%|███████████████████████████████████████| 646/646 [00:00<00:00, 3471.53it/s]\n"
     ]
    },
    {
     "name": "stdout",
     "output_type": "stream",
     "text": [
      "Picked experiment 6 out of 10, sample 90880\n"
     ]
    },
    {
     "name": "stderr",
     "output_type": "stream",
     "text": [
      "100%|███████████████████████████████████████| 646/646 [00:00<00:00, 3452.49it/s]\n"
     ]
    },
    {
     "name": "stdout",
     "output_type": "stream",
     "text": [
      "Picked experiment 7 out of 10, sample 33225\n"
     ]
    },
    {
     "name": "stderr",
     "output_type": "stream",
     "text": [
      "100%|███████████████████████████████████████| 646/646 [00:00<00:00, 3575.66it/s]\n"
     ]
    },
    {
     "name": "stdout",
     "output_type": "stream",
     "text": [
      "Picked experiment 8 out of 10, sample 64087\n"
     ]
    },
    {
     "name": "stderr",
     "output_type": "stream",
     "text": [
      "100%|███████████████████████████████████████| 646/646 [00:00<00:00, 3411.33it/s]\n"
     ]
    },
    {
     "name": "stdout",
     "output_type": "stream",
     "text": [
      "Picked experiment 9 out of 10, sample 90898\n"
     ]
    },
    {
     "name": "stderr",
     "output_type": "stream",
     "text": [
      "100%|███████████████████████████████████████| 646/646 [00:00<00:00, 3605.66it/s]\n"
     ]
    },
    {
     "name": "stdout",
     "output_type": "stream",
     "text": [
      "Picked experiment 10 out of 10, sample 34400\n",
      "DTL progress [0.17129481, 0.17129481, 0.21516216, 0.21877912]\n",
      "Updating precision...\n",
      "Evidence -230.570\n",
      "Updating precision...\n",
      "Evidence 1040.456\n",
      "Updating precision...\n",
      "Evidence 2194.914\n",
      "Updating precision...\n",
      "Evidence 2970.720\n",
      "Updating precision...\n",
      "Evidence 3295.082\n",
      "Updating precision...\n",
      "Evidence 3353.817\n",
      "Updating precision...\n",
      "Evidence 3362.704\n",
      "Updating precision...\n",
      "Evidence 3365.469\n",
      "Pass count  1\n"
     ]
    },
    {
     "name": "stderr",
     "output_type": "stream",
     "text": [
      "100%|███████████████████████████████████████| 646/646 [00:00<00:00, 2097.37it/s]\n"
     ]
    },
    {
     "name": "stdout",
     "output_type": "stream",
     "text": [
      "Picked experiment 1 out of 10, sample 111633\n"
     ]
    },
    {
     "name": "stderr",
     "output_type": "stream",
     "text": [
      "100%|███████████████████████████████████████| 646/646 [00:00<00:00, 3494.01it/s]\n"
     ]
    },
    {
     "name": "stdout",
     "output_type": "stream",
     "text": [
      "Picked experiment 2 out of 10, sample 83365\n"
     ]
    },
    {
     "name": "stderr",
     "output_type": "stream",
     "text": [
      "100%|███████████████████████████████████████| 646/646 [00:00<00:00, 3440.37it/s]\n"
     ]
    },
    {
     "name": "stdout",
     "output_type": "stream",
     "text": [
      "Picked experiment 3 out of 10, sample 114549\n"
     ]
    },
    {
     "name": "stderr",
     "output_type": "stream",
     "text": [
      "100%|███████████████████████████████████████| 646/646 [00:00<00:00, 3475.42it/s]\n"
     ]
    },
    {
     "name": "stdout",
     "output_type": "stream",
     "text": [
      "Picked experiment 4 out of 10, sample 82959\n"
     ]
    },
    {
     "name": "stderr",
     "output_type": "stream",
     "text": [
      "100%|███████████████████████████████████████| 646/646 [00:00<00:00, 3458.79it/s]\n"
     ]
    },
    {
     "name": "stdout",
     "output_type": "stream",
     "text": [
      "Picked experiment 5 out of 10, sample 54895\n"
     ]
    },
    {
     "name": "stderr",
     "output_type": "stream",
     "text": [
      "100%|███████████████████████████████████████| 646/646 [00:00<00:00, 3553.26it/s]\n"
     ]
    },
    {
     "name": "stdout",
     "output_type": "stream",
     "text": [
      "Picked experiment 6 out of 10, sample 82552\n"
     ]
    },
    {
     "name": "stderr",
     "output_type": "stream",
     "text": [
      "100%|███████████████████████████████████████| 646/646 [00:00<00:00, 3512.24it/s]\n"
     ]
    },
    {
     "name": "stdout",
     "output_type": "stream",
     "text": [
      "Picked experiment 7 out of 10, sample 162835\n"
     ]
    },
    {
     "name": "stderr",
     "output_type": "stream",
     "text": [
      "100%|███████████████████████████████████████| 646/646 [00:00<00:00, 3443.72it/s]\n"
     ]
    },
    {
     "name": "stdout",
     "output_type": "stream",
     "text": [
      "Picked experiment 8 out of 10, sample 114558\n"
     ]
    },
    {
     "name": "stderr",
     "output_type": "stream",
     "text": [
      "100%|███████████████████████████████████████| 646/646 [00:00<00:00, 3494.42it/s]\n"
     ]
    },
    {
     "name": "stdout",
     "output_type": "stream",
     "text": [
      "Picked experiment 9 out of 10, sample 34272\n"
     ]
    },
    {
     "name": "stderr",
     "output_type": "stream",
     "text": [
      "100%|███████████████████████████████████████| 646/646 [00:00<00:00, 3472.35it/s]\n"
     ]
    },
    {
     "name": "stdout",
     "output_type": "stream",
     "text": [
      "Picked experiment 10 out of 10, sample 163636\n",
      "DTL progress [0.17129481, 0.17129481, 0.21516216, 0.21877912, 0.24573894]\n",
      "Updating precision...\n",
      "Evidence -224.163\n",
      "Updating precision...\n",
      "Evidence 1713.347\n",
      "Updating precision...\n",
      "Evidence 3319.867\n",
      "Updating precision...\n",
      "Evidence 4289.955\n",
      "Updating precision...\n",
      "Evidence 4586.753\n",
      "Updating precision...\n",
      "Evidence 4621.807\n",
      "Updating precision...\n",
      "Evidence 4626.831\n",
      "Updating precision...\n",
      "Evidence 4631.336\n",
      "Pass count  1\n"
     ]
    },
    {
     "name": "stderr",
     "output_type": "stream",
     "text": [
      "100%|███████████████████████████████████████| 646/646 [00:00<00:00, 2458.04it/s]\n"
     ]
    },
    {
     "name": "stdout",
     "output_type": "stream",
     "text": [
      "Picked experiment 1 out of 10, sample 34272\n"
     ]
    },
    {
     "name": "stderr",
     "output_type": "stream",
     "text": [
      "100%|███████████████████████████████████████| 646/646 [00:00<00:00, 3493.25it/s]\n"
     ]
    },
    {
     "name": "stdout",
     "output_type": "stream",
     "text": [
      "Picked experiment 2 out of 10, sample 95838\n"
     ]
    },
    {
     "name": "stderr",
     "output_type": "stream",
     "text": [
      "100%|███████████████████████████████████████| 646/646 [00:00<00:00, 3138.70it/s]\n"
     ]
    },
    {
     "name": "stdout",
     "output_type": "stream",
     "text": [
      "Picked experiment 3 out of 10, sample 82552\n"
     ]
    },
    {
     "name": "stderr",
     "output_type": "stream",
     "text": [
      "100%|███████████████████████████████████████| 646/646 [00:00<00:00, 3484.94it/s]\n"
     ]
    },
    {
     "name": "stdout",
     "output_type": "stream",
     "text": [
      "Picked experiment 4 out of 10, sample 92427\n"
     ]
    },
    {
     "name": "stderr",
     "output_type": "stream",
     "text": [
      "100%|███████████████████████████████████████| 646/646 [00:00<00:00, 3511.96it/s]\n"
     ]
    },
    {
     "name": "stdout",
     "output_type": "stream",
     "text": [
      "Picked experiment 5 out of 10, sample 77590\n"
     ]
    },
    {
     "name": "stderr",
     "output_type": "stream",
     "text": [
      "100%|███████████████████████████████████████| 646/646 [00:00<00:00, 3487.06it/s]\n"
     ]
    },
    {
     "name": "stdout",
     "output_type": "stream",
     "text": [
      "Picked experiment 6 out of 10, sample 92809\n"
     ]
    },
    {
     "name": "stderr",
     "output_type": "stream",
     "text": [
      "100%|███████████████████████████████████████| 646/646 [00:00<00:00, 3607.86it/s]\n"
     ]
    },
    {
     "name": "stdout",
     "output_type": "stream",
     "text": [
      "Picked experiment 7 out of 10, sample 93190\n"
     ]
    },
    {
     "name": "stderr",
     "output_type": "stream",
     "text": [
      "100%|███████████████████████████████████████| 646/646 [00:00<00:00, 3488.40it/s]\n"
     ]
    },
    {
     "name": "stdout",
     "output_type": "stream",
     "text": [
      "Picked experiment 8 out of 10, sample 95829\n"
     ]
    },
    {
     "name": "stderr",
     "output_type": "stream",
     "text": [
      "100%|███████████████████████████████████████| 646/646 [00:00<00:00, 3552.69it/s]\n"
     ]
    },
    {
     "name": "stdout",
     "output_type": "stream",
     "text": [
      "Picked experiment 9 out of 10, sample 96202\n"
     ]
    },
    {
     "name": "stderr",
     "output_type": "stream",
     "text": [
      "100%|███████████████████████████████████████| 646/646 [00:00<00:00, 3516.50it/s]\n"
     ]
    },
    {
     "name": "stdout",
     "output_type": "stream",
     "text": [
      "Picked experiment 10 out of 10, sample 34273\n",
      "DTL progress [0.17129481, 0.17129481, 0.21516216, 0.21877912, 0.24573894, 0.24573894]\n"
     ]
    },
    {
     "name": "stderr",
     "output_type": "stream",
     "text": [
      "100%|███████████████████████████████████████| 45/45.0 [00:00<00:00, 1661.26it/s]\n"
     ]
    },
    {
     "name": "stdout",
     "output_type": "stream",
     "text": [
      "Starting with best value 0.2283367\n",
      "Updating precision...\n",
      "Evidence -76.685\n",
      "Updating precision...\n",
      "Evidence 29.838\n",
      "Updating precision...\n",
      "Evidence 108.406\n",
      "Updating precision...\n",
      "Evidence 164.218\n",
      "Updating precision...\n",
      "Evidence 200.951\n",
      "Updating precision...\n",
      "Evidence 225.411\n",
      "Updating precision...\n",
      "Evidence 241.193\n",
      "Updating precision...\n",
      "Evidence 247.810\n",
      "Updating precision...\n",
      "Evidence 252.100\n",
      "Updating precision...\n",
      "Evidence 253.592\n",
      "Updating precision...\n",
      "Evidence 255.224\n",
      "Updating precision...\n",
      "Evidence 256.720\n",
      "Updating precision...\n",
      "Evidence 256.375\n",
      "Fail count  1\n",
      "Updating precision...\n",
      "Evidence 256.920\n",
      "Updating precision...\n",
      "Evidence 256.389\n",
      "Fail count  2\n",
      "Updating precision...\n",
      "Evidence 255.247\n",
      "Fail count  3\n",
      "Updating precision...\n",
      "Evidence 254.721\n",
      "Fail count  4\n",
      "Updating precision...\n",
      "Evidence 253.430\n",
      "Fail count  5\n",
      "Updating precision...\n",
      "Evidence 252.846\n",
      "Fail count  6\n",
      "Updating precision...\n",
      "Evidence 251.850\n",
      "Fail count  7\n",
      "Updating precision...\n",
      "Evidence 251.075\n",
      "Fail count  8\n",
      "Updating precision...\n",
      "Evidence 250.582\n",
      "Fail count  9\n",
      "Updating precision...\n",
      "Evidence 249.958\n",
      "Fail count  10\n",
      "Updating precision...\n",
      "Evidence 249.628\n",
      "Fail count  11\n",
      "Updating precision...\n",
      "Evidence 249.330\n",
      "Fail count  12\n",
      "Updating precision...\n",
      "Evidence 249.095\n",
      "Pass count  1\n",
      "Fail count  13\n"
     ]
    },
    {
     "name": "stderr",
     "output_type": "stream",
     "text": [
      "100%|███████████████████████████████████████| 646/646 [00:00<00:00, 2364.84it/s]\n"
     ]
    },
    {
     "name": "stdout",
     "output_type": "stream",
     "text": [
      "Picked experiment 1 out of 10, sample 34765\n"
     ]
    },
    {
     "name": "stderr",
     "output_type": "stream",
     "text": [
      "100%|███████████████████████████████████████| 646/646 [00:00<00:00, 3677.00it/s]\n"
     ]
    },
    {
     "name": "stdout",
     "output_type": "stream",
     "text": [
      "Picked experiment 2 out of 10, sample 34774\n"
     ]
    },
    {
     "name": "stderr",
     "output_type": "stream",
     "text": [
      "100%|███████████████████████████████████████| 646/646 [00:00<00:00, 3565.83it/s]\n"
     ]
    },
    {
     "name": "stdout",
     "output_type": "stream",
     "text": [
      "Picked experiment 3 out of 10, sample 25412\n"
     ]
    },
    {
     "name": "stderr",
     "output_type": "stream",
     "text": [
      "100%|███████████████████████████████████████| 646/646 [00:00<00:00, 3510.24it/s]\n"
     ]
    },
    {
     "name": "stdout",
     "output_type": "stream",
     "text": [
      "Picked experiment 4 out of 10, sample 20608\n"
     ]
    },
    {
     "name": "stderr",
     "output_type": "stream",
     "text": [
      "100%|███████████████████████████████████████| 646/646 [00:00<00:00, 3404.51it/s]\n"
     ]
    },
    {
     "name": "stdout",
     "output_type": "stream",
     "text": [
      "Picked experiment 5 out of 10, sample 34775\n"
     ]
    },
    {
     "name": "stderr",
     "output_type": "stream",
     "text": [
      "100%|███████████████████████████████████████| 646/646 [00:00<00:00, 3468.70it/s]\n"
     ]
    },
    {
     "name": "stdout",
     "output_type": "stream",
     "text": [
      "Picked experiment 6 out of 10, sample 34720\n"
     ]
    },
    {
     "name": "stderr",
     "output_type": "stream",
     "text": [
      "100%|███████████████████████████████████████| 646/646 [00:00<00:00, 3446.39it/s]\n"
     ]
    },
    {
     "name": "stdout",
     "output_type": "stream",
     "text": [
      "Picked experiment 7 out of 10, sample 30138\n"
     ]
    },
    {
     "name": "stderr",
     "output_type": "stream",
     "text": [
      "100%|███████████████████████████████████████| 646/646 [00:00<00:00, 3433.44it/s]\n"
     ]
    },
    {
     "name": "stdout",
     "output_type": "stream",
     "text": [
      "Picked experiment 8 out of 10, sample 34783\n"
     ]
    },
    {
     "name": "stderr",
     "output_type": "stream",
     "text": [
      "100%|███████████████████████████████████████| 646/646 [00:00<00:00, 3374.06it/s]\n"
     ]
    },
    {
     "name": "stdout",
     "output_type": "stream",
     "text": [
      "Picked experiment 9 out of 10, sample 20598\n"
     ]
    },
    {
     "name": "stderr",
     "output_type": "stream",
     "text": [
      "100%|███████████████████████████████████████| 646/646 [00:00<00:00, 3461.59it/s]\n"
     ]
    },
    {
     "name": "stdout",
     "output_type": "stream",
     "text": [
      "Picked experiment 10 out of 10, sample 30065\n",
      "DTL progress [0.2283367, 0.2283367]\n",
      "Updating precision...\n",
      "Evidence -135.648\n",
      "Updating precision...\n",
      "Evidence 281.338\n",
      "Updating precision...\n",
      "Evidence 584.297\n",
      "Updating precision...\n",
      "Evidence 805.973\n",
      "Updating precision...\n",
      "Evidence 971.281\n",
      "Updating precision...\n",
      "Evidence 1088.656\n",
      "Updating precision...\n",
      "Evidence 1157.629\n",
      "Updating precision...\n",
      "Evidence 1188.176\n",
      "Updating precision...\n",
      "Evidence 1196.609\n",
      "Updating precision...\n",
      "Evidence 1198.182\n",
      "Updating precision...\n",
      "Evidence 1198.418\n",
      "Pass count  1\n"
     ]
    },
    {
     "name": "stderr",
     "output_type": "stream",
     "text": [
      "100%|███████████████████████████████████████| 646/646 [00:00<00:00, 2404.43it/s]\n"
     ]
    },
    {
     "name": "stdout",
     "output_type": "stream",
     "text": [
      "Picked experiment 1 out of 10, sample 65863\n"
     ]
    },
    {
     "name": "stderr",
     "output_type": "stream",
     "text": [
      "100%|███████████████████████████████████████| 646/646 [00:00<00:00, 3396.05it/s]\n"
     ]
    },
    {
     "name": "stdout",
     "output_type": "stream",
     "text": [
      "Picked experiment 2 out of 10, sample 33189\n"
     ]
    },
    {
     "name": "stderr",
     "output_type": "stream",
     "text": [
      "100%|███████████████████████████████████████| 646/646 [00:00<00:00, 3426.03it/s]\n"
     ]
    },
    {
     "name": "stdout",
     "output_type": "stream",
     "text": [
      "Picked experiment 3 out of 10, sample 66309\n"
     ]
    },
    {
     "name": "stderr",
     "output_type": "stream",
     "text": [
      "100%|███████████████████████████████████████| 646/646 [00:00<00:00, 3142.95it/s]\n"
     ]
    },
    {
     "name": "stdout",
     "output_type": "stream",
     "text": [
      "Picked experiment 4 out of 10, sample 34402\n"
     ]
    },
    {
     "name": "stderr",
     "output_type": "stream",
     "text": [
      "100%|███████████████████████████████████████| 646/646 [00:00<00:00, 3355.86it/s]\n"
     ]
    },
    {
     "name": "stdout",
     "output_type": "stream",
     "text": [
      "Picked experiment 5 out of 10, sample 33198\n"
     ]
    },
    {
     "name": "stderr",
     "output_type": "stream",
     "text": [
      "100%|███████████████████████████████████████| 646/646 [00:00<00:00, 3448.24it/s]\n"
     ]
    },
    {
     "name": "stdout",
     "output_type": "stream",
     "text": [
      "Picked experiment 6 out of 10, sample 36766\n"
     ]
    },
    {
     "name": "stderr",
     "output_type": "stream",
     "text": [
      "100%|███████████████████████████████████████| 646/646 [00:00<00:00, 3574.61it/s]\n"
     ]
    },
    {
     "name": "stdout",
     "output_type": "stream",
     "text": [
      "Picked experiment 7 out of 10, sample 64087\n"
     ]
    },
    {
     "name": "stderr",
     "output_type": "stream",
     "text": [
      "100%|███████████████████████████████████████| 646/646 [00:00<00:00, 3331.14it/s]\n"
     ]
    },
    {
     "name": "stdout",
     "output_type": "stream",
     "text": [
      "Picked experiment 8 out of 10, sample 66754\n"
     ]
    },
    {
     "name": "stderr",
     "output_type": "stream",
     "text": [
      "100%|███████████████████████████████████████| 646/646 [00:00<00:00, 3853.28it/s]\n"
     ]
    },
    {
     "name": "stdout",
     "output_type": "stream",
     "text": [
      "Picked experiment 9 out of 10, sample 67198\n"
     ]
    },
    {
     "name": "stderr",
     "output_type": "stream",
     "text": [
      "100%|███████████████████████████████████████| 646/646 [00:00<00:00, 3124.68it/s]\n"
     ]
    },
    {
     "name": "stdout",
     "output_type": "stream",
     "text": [
      "Picked experiment 10 out of 10, sample 65872\n",
      "DTL progress [0.2283367, 0.2283367, 0.2283367]\n",
      "Updating precision...\n",
      "Evidence -170.318\n",
      "Updating precision...\n",
      "Evidence 686.178\n",
      "Updating precision...\n",
      "Evidence 1374.021\n",
      "Updating precision...\n",
      "Evidence 1889.652\n",
      "Updating precision...\n",
      "Evidence 2246.946\n",
      "Updating precision...\n",
      "Evidence 2412.190\n",
      "Updating precision...\n",
      "Evidence 2450.737\n",
      "Updating precision...\n",
      "Evidence 2457.561\n",
      "Updating precision...\n",
      "Evidence 2461.179\n",
      "Updating precision...\n",
      "Evidence 2463.876\n",
      "Updating precision...\n",
      "Evidence 2465.062\n",
      "Pass count  1\n"
     ]
    },
    {
     "name": "stderr",
     "output_type": "stream",
     "text": [
      "100%|███████████████████████████████████████| 646/646 [00:00<00:00, 2348.61it/s]\n"
     ]
    },
    {
     "name": "stdout",
     "output_type": "stream",
     "text": [
      "Picked experiment 1 out of 10, sample 34272\n"
     ]
    },
    {
     "name": "stderr",
     "output_type": "stream",
     "text": [
      "100%|███████████████████████████████████████| 646/646 [00:00<00:00, 3330.28it/s]\n"
     ]
    },
    {
     "name": "stdout",
     "output_type": "stream",
     "text": [
      "Picked experiment 2 out of 10, sample 34336\n"
     ]
    },
    {
     "name": "stderr",
     "output_type": "stream",
     "text": [
      "100%|███████████████████████████████████████| 646/646 [00:00<00:00, 3452.38it/s]\n"
     ]
    },
    {
     "name": "stdout",
     "output_type": "stream",
     "text": [
      "Picked experiment 3 out of 10, sample 34337\n"
     ]
    },
    {
     "name": "stderr",
     "output_type": "stream",
     "text": [
      "100%|███████████████████████████████████████| 646/646 [00:00<00:00, 3374.57it/s]\n"
     ]
    },
    {
     "name": "stdout",
     "output_type": "stream",
     "text": [
      "Picked experiment 4 out of 10, sample 34338\n"
     ]
    },
    {
     "name": "stderr",
     "output_type": "stream",
     "text": [
      "100%|███████████████████████████████████████| 646/646 [00:00<00:00, 3419.97it/s]\n"
     ]
    },
    {
     "name": "stdout",
     "output_type": "stream",
     "text": [
      "Picked experiment 5 out of 10, sample 34339\n"
     ]
    },
    {
     "name": "stderr",
     "output_type": "stream",
     "text": [
      "100%|███████████████████████████████████████| 646/646 [00:00<00:00, 3481.77it/s]\n"
     ]
    },
    {
     "name": "stdout",
     "output_type": "stream",
     "text": [
      "Picked experiment 6 out of 10, sample 34273\n"
     ]
    },
    {
     "name": "stderr",
     "output_type": "stream",
     "text": [
      "100%|███████████████████████████████████████| 646/646 [00:00<00:00, 3487.10it/s]\n"
     ]
    },
    {
     "name": "stdout",
     "output_type": "stream",
     "text": [
      "Picked experiment 7 out of 10, sample 34274\n"
     ]
    },
    {
     "name": "stderr",
     "output_type": "stream",
     "text": [
      "100%|███████████████████████████████████████| 646/646 [00:00<00:00, 3247.12it/s]\n"
     ]
    },
    {
     "name": "stdout",
     "output_type": "stream",
     "text": [
      "Picked experiment 8 out of 10, sample 34345\n"
     ]
    },
    {
     "name": "stderr",
     "output_type": "stream",
     "text": [
      "100%|███████████████████████████████████████| 646/646 [00:00<00:00, 3389.51it/s]\n"
     ]
    },
    {
     "name": "stdout",
     "output_type": "stream",
     "text": [
      "Picked experiment 9 out of 10, sample 34275\n"
     ]
    },
    {
     "name": "stderr",
     "output_type": "stream",
     "text": [
      "100%|███████████████████████████████████████| 646/646 [00:00<00:00, 3545.72it/s]\n"
     ]
    },
    {
     "name": "stdout",
     "output_type": "stream",
     "text": [
      "Picked experiment 10 out of 10, sample 34346\n",
      "DTL progress [0.2283367, 0.2283367, 0.2283367, 0.2690671]\n",
      "Updating precision...\n",
      "Evidence -187.910\n",
      "Updating precision...\n",
      "Evidence 1239.383\n",
      "Updating precision...\n",
      "Evidence 2395.596\n",
      "Updating precision...\n",
      "Evidence 3271.628\n",
      "Updating precision...\n",
      "Evidence 3743.771\n",
      "Updating precision...\n",
      "Evidence 3859.329\n",
      "Updating precision...\n",
      "Evidence 3877.530\n",
      "Updating precision...\n",
      "Evidence 3884.703\n",
      "Updating precision...\n",
      "Evidence 3887.146\n",
      "Pass count  1\n"
     ]
    },
    {
     "name": "stderr",
     "output_type": "stream",
     "text": [
      "100%|███████████████████████████████████████| 646/646 [00:00<00:00, 2508.05it/s]\n"
     ]
    },
    {
     "name": "stdout",
     "output_type": "stream",
     "text": [
      "Picked experiment 1 out of 10, sample 34336\n"
     ]
    },
    {
     "name": "stderr",
     "output_type": "stream",
     "text": [
      "100%|███████████████████████████████████████| 646/646 [00:00<00:00, 3426.77it/s]\n"
     ]
    },
    {
     "name": "stdout",
     "output_type": "stream",
     "text": [
      "Picked experiment 2 out of 10, sample 34272\n"
     ]
    },
    {
     "name": "stderr",
     "output_type": "stream",
     "text": [
      "100%|███████████████████████████████████████| 646/646 [00:00<00:00, 3466.32it/s]\n"
     ]
    },
    {
     "name": "stdout",
     "output_type": "stream",
     "text": [
      "Picked experiment 3 out of 10, sample 34337\n"
     ]
    },
    {
     "name": "stderr",
     "output_type": "stream",
     "text": [
      "100%|███████████████████████████████████████| 646/646 [00:00<00:00, 3449.54it/s]\n"
     ]
    },
    {
     "name": "stdout",
     "output_type": "stream",
     "text": [
      "Picked experiment 4 out of 10, sample 34338\n"
     ]
    },
    {
     "name": "stderr",
     "output_type": "stream",
     "text": [
      "100%|███████████████████████████████████████| 646/646 [00:00<00:00, 3558.79it/s]\n"
     ]
    },
    {
     "name": "stdout",
     "output_type": "stream",
     "text": [
      "Picked experiment 5 out of 10, sample 34339\n"
     ]
    },
    {
     "name": "stderr",
     "output_type": "stream",
     "text": [
      "100%|███████████████████████████████████████| 646/646 [00:00<00:00, 3729.25it/s]\n"
     ]
    },
    {
     "name": "stdout",
     "output_type": "stream",
     "text": [
      "Picked experiment 6 out of 10, sample 34345\n"
     ]
    },
    {
     "name": "stderr",
     "output_type": "stream",
     "text": [
      "100%|███████████████████████████████████████| 646/646 [00:00<00:00, 3296.87it/s]\n"
     ]
    },
    {
     "name": "stdout",
     "output_type": "stream",
     "text": [
      "Picked experiment 7 out of 10, sample 39473\n"
     ]
    },
    {
     "name": "stderr",
     "output_type": "stream",
     "text": [
      "100%|███████████████████████████████████████| 646/646 [00:00<00:00, 3383.49it/s]\n"
     ]
    },
    {
     "name": "stdout",
     "output_type": "stream",
     "text": [
      "Picked experiment 8 out of 10, sample 34273\n"
     ]
    },
    {
     "name": "stderr",
     "output_type": "stream",
     "text": [
      "100%|███████████████████████████████████████| 646/646 [00:00<00:00, 3428.18it/s]\n"
     ]
    },
    {
     "name": "stdout",
     "output_type": "stream",
     "text": [
      "Picked experiment 9 out of 10, sample 34274\n"
     ]
    },
    {
     "name": "stderr",
     "output_type": "stream",
     "text": [
      "100%|███████████████████████████████████████| 646/646 [00:00<00:00, 3446.21it/s]\n"
     ]
    },
    {
     "name": "stdout",
     "output_type": "stream",
     "text": [
      "Picked experiment 10 out of 10, sample 34281\n",
      "DTL progress [0.2283367, 0.2283367, 0.2283367, 0.2690671, 0.2690671]\n",
      "Updating precision...\n",
      "Evidence -202.512\n",
      "Updating precision...\n",
      "Evidence 1887.631\n",
      "Updating precision...\n",
      "Evidence 3552.582\n",
      "Updating precision...\n",
      "Evidence 4725.985\n",
      "Updating precision...\n",
      "Evidence 5189.790\n",
      "Updating precision...\n",
      "Evidence 5264.551\n",
      "Updating precision...\n",
      "Evidence 5273.219\n",
      "Updating precision...\n",
      "Evidence 5275.194\n",
      "Pass count  1\n"
     ]
    },
    {
     "name": "stderr",
     "output_type": "stream",
     "text": [
      "100%|███████████████████████████████████████| 646/646 [00:00<00:00, 2423.09it/s]\n"
     ]
    },
    {
     "name": "stdout",
     "output_type": "stream",
     "text": [
      "Picked experiment 1 out of 10, sample 34336\n"
     ]
    },
    {
     "name": "stderr",
     "output_type": "stream",
     "text": [
      "100%|███████████████████████████████████████| 646/646 [00:00<00:00, 3479.08it/s]\n"
     ]
    },
    {
     "name": "stdout",
     "output_type": "stream",
     "text": [
      "Picked experiment 2 out of 10, sample 34337\n"
     ]
    },
    {
     "name": "stderr",
     "output_type": "stream",
     "text": [
      "100%|███████████████████████████████████████| 646/646 [00:00<00:00, 3568.50it/s]\n"
     ]
    },
    {
     "name": "stdout",
     "output_type": "stream",
     "text": [
      "Picked experiment 3 out of 10, sample 34272\n"
     ]
    },
    {
     "name": "stderr",
     "output_type": "stream",
     "text": [
      "100%|███████████████████████████████████████| 646/646 [00:00<00:00, 3484.40it/s]\n"
     ]
    },
    {
     "name": "stdout",
     "output_type": "stream",
     "text": [
      "Picked experiment 4 out of 10, sample 34338\n"
     ]
    },
    {
     "name": "stderr",
     "output_type": "stream",
     "text": [
      "100%|███████████████████████████████████████| 646/646 [00:00<00:00, 3434.47it/s]\n"
     ]
    },
    {
     "name": "stdout",
     "output_type": "stream",
     "text": [
      "Picked experiment 5 out of 10, sample 34273\n"
     ]
    },
    {
     "name": "stderr",
     "output_type": "stream",
     "text": [
      "100%|███████████████████████████████████████| 646/646 [00:00<00:00, 3461.30it/s]\n"
     ]
    },
    {
     "name": "stdout",
     "output_type": "stream",
     "text": [
      "Picked experiment 6 out of 10, sample 34339\n"
     ]
    },
    {
     "name": "stderr",
     "output_type": "stream",
     "text": [
      "100%|███████████████████████████████████████| 646/646 [00:00<00:00, 3326.65it/s]\n"
     ]
    },
    {
     "name": "stdout",
     "output_type": "stream",
     "text": [
      "Picked experiment 7 out of 10, sample 34345\n"
     ]
    },
    {
     "name": "stderr",
     "output_type": "stream",
     "text": [
      "100%|███████████████████████████████████████| 646/646 [00:00<00:00, 3433.52it/s]\n"
     ]
    },
    {
     "name": "stdout",
     "output_type": "stream",
     "text": [
      "Picked experiment 8 out of 10, sample 34274\n"
     ]
    },
    {
     "name": "stderr",
     "output_type": "stream",
     "text": [
      "100%|███████████████████████████████████████| 646/646 [00:00<00:00, 3554.77it/s]\n"
     ]
    },
    {
     "name": "stdout",
     "output_type": "stream",
     "text": [
      "Picked experiment 9 out of 10, sample 34275\n"
     ]
    },
    {
     "name": "stderr",
     "output_type": "stream",
     "text": [
      "100%|███████████████████████████████████████| 646/646 [00:00<00:00, 3483.30it/s]\n"
     ]
    },
    {
     "name": "stdout",
     "output_type": "stream",
     "text": [
      "Picked experiment 10 out of 10, sample 34281\n",
      "DTL progress [0.2283367, 0.2283367, 0.2283367, 0.2690671, 0.2690671, 0.2690671]\n"
     ]
    },
    {
     "name": "stderr",
     "output_type": "stream",
     "text": [
      "100%|███████████████████████████████████████| 45/45.0 [00:00<00:00, 1650.48it/s]\n"
     ]
    },
    {
     "name": "stdout",
     "output_type": "stream",
     "text": [
      "Starting with best value 0.1711538\n",
      "Updating precision...\n",
      "Evidence -75.411\n",
      "Updating precision...\n",
      "Evidence 31.696\n",
      "Updating precision...\n",
      "Evidence 97.464\n",
      "Updating precision...\n",
      "Evidence 143.261\n",
      "Updating precision...\n",
      "Evidence 181.168\n",
      "Updating precision...\n",
      "Evidence 209.288\n",
      "Updating precision...\n",
      "Evidence 225.918\n",
      "Updating precision...\n",
      "Evidence 237.795\n",
      "Updating precision...\n",
      "Evidence 245.526\n",
      "Updating precision...\n",
      "Evidence 250.970\n",
      "Updating precision...\n",
      "Evidence 254.814\n",
      "Updating precision...\n",
      "Evidence 257.875\n",
      "Updating precision...\n",
      "Evidence 259.619\n",
      "Updating precision...\n",
      "Evidence 260.626\n",
      "Updating precision...\n",
      "Evidence 261.595\n",
      "Updating precision...\n",
      "Evidence 262.108\n",
      "Updating precision...\n",
      "Evidence 262.155\n",
      "Pass count  1\n"
     ]
    },
    {
     "name": "stderr",
     "output_type": "stream",
     "text": [
      "100%|███████████████████████████████████████| 646/646 [00:00<00:00, 2021.58it/s]\n"
     ]
    },
    {
     "name": "stdout",
     "output_type": "stream",
     "text": [
      "Picked experiment 1 out of 10, sample 163525\n"
     ]
    },
    {
     "name": "stderr",
     "output_type": "stream",
     "text": [
      "100%|███████████████████████████████████████| 646/646 [00:00<00:00, 3507.99it/s]\n"
     ]
    },
    {
     "name": "stdout",
     "output_type": "stream",
     "text": [
      "Picked experiment 2 out of 10, sample 34777\n"
     ]
    },
    {
     "name": "stderr",
     "output_type": "stream",
     "text": [
      "100%|███████████████████████████████████████| 646/646 [00:00<00:00, 3536.59it/s]\n"
     ]
    },
    {
     "name": "stdout",
     "output_type": "stream",
     "text": [
      "Picked experiment 3 out of 10, sample 92446\n"
     ]
    },
    {
     "name": "stderr",
     "output_type": "stream",
     "text": [
      "100%|███████████████████████████████████████| 646/646 [00:00<00:00, 3481.02it/s]\n"
     ]
    },
    {
     "name": "stdout",
     "output_type": "stream",
     "text": [
      "Picked experiment 4 out of 10, sample 92382\n"
     ]
    },
    {
     "name": "stderr",
     "output_type": "stream",
     "text": [
      "100%|███████████████████████████████████████| 646/646 [00:00<00:00, 3479.28it/s]\n"
     ]
    },
    {
     "name": "stdout",
     "output_type": "stream",
     "text": [
      "Picked experiment 5 out of 10, sample 147454\n"
     ]
    },
    {
     "name": "stderr",
     "output_type": "stream",
     "text": [
      "100%|███████████████████████████████████████| 646/646 [00:00<00:00, 3329.02it/s]\n"
     ]
    },
    {
     "name": "stdout",
     "output_type": "stream",
     "text": [
      "Picked experiment 6 out of 10, sample 147323\n"
     ]
    },
    {
     "name": "stderr",
     "output_type": "stream",
     "text": [
      "100%|███████████████████████████████████████| 646/646 [00:00<00:00, 3368.13it/s]\n"
     ]
    },
    {
     "name": "stdout",
     "output_type": "stream",
     "text": [
      "Picked experiment 7 out of 10, sample 132125\n"
     ]
    },
    {
     "name": "stderr",
     "output_type": "stream",
     "text": [
      "100%|███████████████████████████████████████| 646/646 [00:00<00:00, 3588.60it/s]\n"
     ]
    },
    {
     "name": "stdout",
     "output_type": "stream",
     "text": [
      "Picked experiment 8 out of 10, sample 565\n"
     ]
    },
    {
     "name": "stderr",
     "output_type": "stream",
     "text": [
      "100%|███████████████████████████████████████| 646/646 [00:00<00:00, 3475.57it/s]\n"
     ]
    },
    {
     "name": "stdout",
     "output_type": "stream",
     "text": [
      "Picked experiment 9 out of 10, sample 130564\n"
     ]
    },
    {
     "name": "stderr",
     "output_type": "stream",
     "text": [
      "100%|███████████████████████████████████████| 646/646 [00:00<00:00, 3471.71it/s]\n"
     ]
    },
    {
     "name": "stdout",
     "output_type": "stream",
     "text": [
      "Picked experiment 10 out of 10, sample 1139\n",
      "DTL progress [0.1711538, 0.1711538]\n",
      "Updating precision...\n",
      "Evidence -137.599\n",
      "Updating precision...\n",
      "Evidence 270.356\n",
      "Updating precision...\n",
      "Evidence 574.062\n",
      "Updating precision...\n",
      "Evidence 793.537\n",
      "Updating precision...\n",
      "Evidence 915.130\n",
      "Updating precision...\n",
      "Evidence 1016.036\n",
      "Updating precision...\n",
      "Evidence 1075.839\n",
      "Updating precision...\n",
      "Evidence 1103.832\n",
      "Updating precision...\n",
      "Evidence 1112.268\n",
      "Updating precision...\n",
      "Evidence 1114.433\n",
      "Updating precision...\n",
      "Evidence 1114.547\n",
      "Pass count  1\n"
     ]
    },
    {
     "name": "stderr",
     "output_type": "stream",
     "text": [
      "100%|███████████████████████████████████████| 646/646 [00:00<00:00, 2017.51it/s]\n"
     ]
    },
    {
     "name": "stdout",
     "output_type": "stream",
     "text": [
      "Picked experiment 1 out of 10, sample 122782\n"
     ]
    },
    {
     "name": "stderr",
     "output_type": "stream",
     "text": [
      "100%|███████████████████████████████████████| 646/646 [00:00<00:00, 3463.84it/s]\n"
     ]
    },
    {
     "name": "stdout",
     "output_type": "stream",
     "text": [
      "Picked experiment 2 out of 10, sample 125383\n"
     ]
    },
    {
     "name": "stderr",
     "output_type": "stream",
     "text": [
      "100%|███████████████████████████████████████| 646/646 [00:00<00:00, 3604.64it/s]\n"
     ]
    },
    {
     "name": "stdout",
     "output_type": "stream",
     "text": [
      "Picked experiment 3 out of 10, sample 101996\n"
     ]
    },
    {
     "name": "stderr",
     "output_type": "stream",
     "text": [
      "100%|███████████████████████████████████████| 646/646 [00:00<00:00, 3476.23it/s]\n"
     ]
    },
    {
     "name": "stdout",
     "output_type": "stream",
     "text": [
      "Picked experiment 4 out of 10, sample 139436\n"
     ]
    },
    {
     "name": "stderr",
     "output_type": "stream",
     "text": [
      "100%|███████████████████████████████████████| 646/646 [00:00<00:00, 3424.20it/s]\n"
     ]
    },
    {
     "name": "stdout",
     "output_type": "stream",
     "text": [
      "Picked experiment 5 out of 10, sample 143414\n"
     ]
    },
    {
     "name": "stderr",
     "output_type": "stream",
     "text": [
      "100%|███████████████████████████████████████| 646/646 [00:00<00:00, 3352.76it/s]\n"
     ]
    },
    {
     "name": "stdout",
     "output_type": "stream",
     "text": [
      "Picked experiment 6 out of 10, sample 127885\n"
     ]
    },
    {
     "name": "stderr",
     "output_type": "stream",
     "text": [
      "100%|███████████████████████████████████████| 646/646 [00:00<00:00, 3405.90it/s]\n"
     ]
    },
    {
     "name": "stdout",
     "output_type": "stream",
     "text": [
      "Picked experiment 7 out of 10, sample 163643\n"
     ]
    },
    {
     "name": "stderr",
     "output_type": "stream",
     "text": [
      "100%|███████████████████████████████████████| 646/646 [00:00<00:00, 3393.92it/s]\n"
     ]
    },
    {
     "name": "stdout",
     "output_type": "stream",
     "text": [
      "Picked experiment 8 out of 10, sample 127867\n"
     ]
    },
    {
     "name": "stderr",
     "output_type": "stream",
     "text": [
      "100%|███████████████████████████████████████| 646/646 [00:00<00:00, 3433.85it/s]\n"
     ]
    },
    {
     "name": "stdout",
     "output_type": "stream",
     "text": [
      "Picked experiment 9 out of 10, sample 127876\n"
     ]
    },
    {
     "name": "stderr",
     "output_type": "stream",
     "text": [
      "100%|███████████████████████████████████████| 646/646 [00:00<00:00, 3451.77it/s]\n"
     ]
    },
    {
     "name": "stdout",
     "output_type": "stream",
     "text": [
      "Picked experiment 10 out of 10, sample 102014\n",
      "DTL progress [0.1711538, 0.1711538, 0.1711538]\n",
      "Updating precision...\n",
      "Evidence -188.445\n",
      "Updating precision...\n",
      "Evidence 660.997\n",
      "Updating precision...\n",
      "Evidence 1352.916\n",
      "Updating precision...\n",
      "Evidence 1821.486\n",
      "Updating precision...\n",
      "Evidence 2064.489\n",
      "Updating precision...\n",
      "Evidence 2164.214\n",
      "Updating precision...\n",
      "Evidence 2203.427\n",
      "Updating precision...\n",
      "Evidence 2230.624\n",
      "Updating precision...\n",
      "Evidence 2241.877\n",
      "Updating precision...\n",
      "Evidence 2244.092\n",
      "Pass count  1\n"
     ]
    },
    {
     "name": "stderr",
     "output_type": "stream",
     "text": [
      "100%|███████████████████████████████████████| 646/646 [00:00<00:00, 2283.74it/s]\n"
     ]
    },
    {
     "name": "stdout",
     "output_type": "stream",
     "text": [
      "Picked experiment 1 out of 10, sample 93332\n"
     ]
    },
    {
     "name": "stderr",
     "output_type": "stream",
     "text": [
      "100%|███████████████████████████████████████| 646/646 [00:00<00:00, 3351.52it/s]\n"
     ]
    },
    {
     "name": "stdout",
     "output_type": "stream",
     "text": [
      "Picked experiment 2 out of 10, sample 4758\n"
     ]
    },
    {
     "name": "stderr",
     "output_type": "stream",
     "text": [
      "100%|███████████████████████████████████████| 646/646 [00:00<00:00, 3435.65it/s]\n"
     ]
    },
    {
     "name": "stdout",
     "output_type": "stream",
     "text": [
      "Picked experiment 3 out of 10, sample 4759\n"
     ]
    },
    {
     "name": "stderr",
     "output_type": "stream",
     "text": [
      "100%|███████████████████████████████████████| 646/646 [00:00<00:00, 3484.67it/s]\n"
     ]
    },
    {
     "name": "stdout",
     "output_type": "stream",
     "text": [
      "Picked experiment 4 out of 10, sample 149116\n"
     ]
    },
    {
     "name": "stderr",
     "output_type": "stream",
     "text": [
      "100%|███████████████████████████████████████| 646/646 [00:00<00:00, 3437.23it/s]\n"
     ]
    },
    {
     "name": "stdout",
     "output_type": "stream",
     "text": [
      "Picked experiment 5 out of 10, sample 4768\n"
     ]
    },
    {
     "name": "stderr",
     "output_type": "stream",
     "text": [
      "100%|███████████████████████████████████████| 646/646 [00:00<00:00, 3478.99it/s]\n"
     ]
    },
    {
     "name": "stdout",
     "output_type": "stream",
     "text": [
      "Picked experiment 6 out of 10, sample 4760\n"
     ]
    },
    {
     "name": "stderr",
     "output_type": "stream",
     "text": [
      "100%|███████████████████████████████████████| 646/646 [00:00<00:00, 3431.82it/s]\n"
     ]
    },
    {
     "name": "stdout",
     "output_type": "stream",
     "text": [
      "Picked experiment 7 out of 10, sample 4731\n"
     ]
    },
    {
     "name": "stderr",
     "output_type": "stream",
     "text": [
      "100%|███████████████████████████████████████| 646/646 [00:00<00:00, 3449.91it/s]\n"
     ]
    },
    {
     "name": "stdout",
     "output_type": "stream",
     "text": [
      "Picked experiment 8 out of 10, sample 4741\n"
     ]
    },
    {
     "name": "stderr",
     "output_type": "stream",
     "text": [
      "100%|███████████████████████████████████████| 646/646 [00:00<00:00, 3436.31it/s]\n"
     ]
    },
    {
     "name": "stdout",
     "output_type": "stream",
     "text": [
      "Picked experiment 9 out of 10, sample 4676\n"
     ]
    },
    {
     "name": "stderr",
     "output_type": "stream",
     "text": [
      "100%|███████████████████████████████████████| 646/646 [00:00<00:00, 3430.01it/s]\n"
     ]
    },
    {
     "name": "stdout",
     "output_type": "stream",
     "text": [
      "Picked experiment 10 out of 10, sample 62\n",
      "DTL progress [0.1711538, 0.1711538, 0.1711538, 0.20561533]\n",
      "Updating precision...\n",
      "Evidence -188.270\n",
      "Updating precision...\n",
      "Evidence 1154.014\n",
      "Updating precision...\n",
      "Evidence 2246.907\n",
      "Updating precision...\n",
      "Evidence 2961.413\n",
      "Updating precision...\n",
      "Evidence 3226.522\n",
      "Updating precision...\n",
      "Evidence 3279.556\n",
      "Updating precision...\n",
      "Evidence 3291.255\n",
      "Updating precision...\n",
      "Evidence 3294.985\n",
      "Updating precision...\n",
      "Evidence 3295.839\n",
      "Pass count  1\n"
     ]
    },
    {
     "name": "stderr",
     "output_type": "stream",
     "text": [
      "100%|███████████████████████████████████████| 646/646 [00:00<00:00, 2306.84it/s]\n"
     ]
    },
    {
     "name": "stdout",
     "output_type": "stream",
     "text": [
      "Picked experiment 1 out of 10, sample 93452\n"
     ]
    },
    {
     "name": "stderr",
     "output_type": "stream",
     "text": [
      "100%|███████████████████████████████████████| 646/646 [00:00<00:00, 3471.32it/s]\n"
     ]
    },
    {
     "name": "stdout",
     "output_type": "stream",
     "text": [
      "Picked experiment 2 out of 10, sample 88515\n"
     ]
    },
    {
     "name": "stderr",
     "output_type": "stream",
     "text": [
      "100%|███████████████████████████████████████| 646/646 [00:00<00:00, 3596.24it/s]\n"
     ]
    },
    {
     "name": "stdout",
     "output_type": "stream",
     "text": [
      "Picked experiment 3 out of 10, sample 93822\n"
     ]
    },
    {
     "name": "stderr",
     "output_type": "stream",
     "text": [
      "100%|███████████████████████████████████████| 646/646 [00:00<00:00, 3558.48it/s]\n"
     ]
    },
    {
     "name": "stdout",
     "output_type": "stream",
     "text": [
      "Picked experiment 4 out of 10, sample 93958\n"
     ]
    },
    {
     "name": "stderr",
     "output_type": "stream",
     "text": [
      "100%|███████████████████████████████████████| 646/646 [00:00<00:00, 3521.07it/s]\n"
     ]
    },
    {
     "name": "stdout",
     "output_type": "stream",
     "text": [
      "Picked experiment 5 out of 10, sample 93894\n"
     ]
    },
    {
     "name": "stderr",
     "output_type": "stream",
     "text": [
      "100%|███████████████████████████████████████| 646/646 [00:00<00:00, 3368.45it/s]\n"
     ]
    },
    {
     "name": "stdout",
     "output_type": "stream",
     "text": [
      "Picked experiment 6 out of 10, sample 93830\n"
     ]
    },
    {
     "name": "stderr",
     "output_type": "stream",
     "text": [
      "100%|███████████████████████████████████████| 646/646 [00:00<00:00, 3452.73it/s]\n"
     ]
    },
    {
     "name": "stdout",
     "output_type": "stream",
     "text": [
      "Picked experiment 7 out of 10, sample 88907\n"
     ]
    },
    {
     "name": "stderr",
     "output_type": "stream",
     "text": [
      "100%|███████████████████████████████████████| 646/646 [00:00<00:00, 3564.10it/s]\n"
     ]
    },
    {
     "name": "stdout",
     "output_type": "stream",
     "text": [
      "Picked experiment 8 out of 10, sample 93453\n"
     ]
    },
    {
     "name": "stderr",
     "output_type": "stream",
     "text": [
      "100%|███████████████████████████████████████| 646/646 [00:00<00:00, 3421.60it/s]\n"
     ]
    },
    {
     "name": "stdout",
     "output_type": "stream",
     "text": [
      "Picked experiment 9 out of 10, sample 97260\n"
     ]
    },
    {
     "name": "stderr",
     "output_type": "stream",
     "text": [
      "100%|███████████████████████████████████████| 646/646 [00:00<00:00, 3323.07it/s]\n"
     ]
    },
    {
     "name": "stdout",
     "output_type": "stream",
     "text": [
      "Picked experiment 10 out of 10, sample 96818\n",
      "DTL progress [0.1711538, 0.1711538, 0.1711538, 0.20561533, 0.2598249]\n",
      "Updating precision...\n",
      "Evidence -221.027\n",
      "Updating precision...\n",
      "Evidence 1704.126\n",
      "Updating precision...\n",
      "Evidence 3231.722\n",
      "Updating precision...\n",
      "Evidence 4063.299\n",
      "Updating precision...\n",
      "Evidence 4253.917\n",
      "Updating precision...\n",
      "Evidence 4281.355\n",
      "Updating precision...\n",
      "Evidence 4287.491\n",
      "Updating precision...\n",
      "Evidence 4318.593\n",
      "Updating precision...\n",
      "Evidence 4344.216\n",
      "Updating precision...\n",
      "Evidence 4357.855\n",
      "Updating precision...\n",
      "Evidence 4383.565\n",
      "Updating precision...\n",
      "Evidence 4392.983\n",
      "Updating precision...\n",
      "Evidence 4394.654\n",
      "Pass count  1\n"
     ]
    },
    {
     "name": "stderr",
     "output_type": "stream",
     "text": [
      "100%|███████████████████████████████████████| 646/646 [00:00<00:00, 2214.07it/s]\n"
     ]
    },
    {
     "name": "stdout",
     "output_type": "stream",
     "text": [
      "Picked experiment 1 out of 10, sample 93830\n"
     ]
    },
    {
     "name": "stderr",
     "output_type": "stream",
     "text": [
      "100%|███████████████████████████████████████| 646/646 [00:00<00:00, 3465.47it/s]\n"
     ]
    },
    {
     "name": "stdout",
     "output_type": "stream",
     "text": [
      "Picked experiment 2 out of 10, sample 103334\n"
     ]
    },
    {
     "name": "stderr",
     "output_type": "stream",
     "text": [
      "100%|███████████████████████████████████████| 646/646 [00:00<00:00, 3389.18it/s]\n"
     ]
    },
    {
     "name": "stdout",
     "output_type": "stream",
     "text": [
      "Picked experiment 3 out of 10, sample 93821\n"
     ]
    },
    {
     "name": "stderr",
     "output_type": "stream",
     "text": [
      "100%|███████████████████████████████████████| 646/646 [00:00<00:00, 3614.18it/s]\n"
     ]
    },
    {
     "name": "stdout",
     "output_type": "stream",
     "text": [
      "Picked experiment 4 out of 10, sample 97196\n"
     ]
    },
    {
     "name": "stderr",
     "output_type": "stream",
     "text": [
      "100%|███████████████████████████████████████| 646/646 [00:00<00:00, 3507.89it/s]\n"
     ]
    },
    {
     "name": "stdout",
     "output_type": "stream",
     "text": [
      "Picked experiment 5 out of 10, sample 93451\n"
     ]
    },
    {
     "name": "stderr",
     "output_type": "stream",
     "text": [
      "100%|███████████████████████████████████████| 646/646 [00:00<00:00, 3167.93it/s]\n"
     ]
    },
    {
     "name": "stdout",
     "output_type": "stream",
     "text": [
      "Picked experiment 6 out of 10, sample 97187\n"
     ]
    },
    {
     "name": "stderr",
     "output_type": "stream",
     "text": [
      "100%|███████████████████████████████████████| 646/646 [00:00<00:00, 3554.03it/s]\n"
     ]
    },
    {
     "name": "stdout",
     "output_type": "stream",
     "text": [
      "Picked experiment 7 out of 10, sample 100481\n"
     ]
    },
    {
     "name": "stderr",
     "output_type": "stream",
     "text": [
      "100%|███████████████████████████████████████| 646/646 [00:00<00:00, 3493.02it/s]\n"
     ]
    },
    {
     "name": "stdout",
     "output_type": "stream",
     "text": [
      "Picked experiment 8 out of 10, sample 103335\n"
     ]
    },
    {
     "name": "stderr",
     "output_type": "stream",
     "text": [
      "100%|███████████████████████████████████████| 646/646 [00:00<00:00, 3455.23it/s]\n"
     ]
    },
    {
     "name": "stdout",
     "output_type": "stream",
     "text": [
      "Picked experiment 9 out of 10, sample 103686\n"
     ]
    },
    {
     "name": "stderr",
     "output_type": "stream",
     "text": [
      "100%|███████████████████████████████████████| 646/646 [00:00<00:00, 3448.10it/s]\n"
     ]
    },
    {
     "name": "stdout",
     "output_type": "stream",
     "text": [
      "Picked experiment 10 out of 10, sample 102981\n",
      "DTL progress [0.1711538, 0.1711538, 0.1711538, 0.20561533, 0.2598249, 0.2598249]\n"
     ]
    },
    {
     "name": "stderr",
     "output_type": "stream",
     "text": [
      "100%|███████████████████████████████████████| 45/45.0 [00:00<00:00, 1667.41it/s]\n"
     ]
    },
    {
     "name": "stdout",
     "output_type": "stream",
     "text": [
      "Starting with best value 0.1256456\n",
      "Updating precision...\n",
      "Evidence -68.871\n",
      "Updating precision...\n",
      "Evidence 37.018\n",
      "Updating precision...\n",
      "Evidence 103.950\n",
      "Updating precision...\n",
      "Evidence 123.290\n",
      "Updating precision...\n",
      "Evidence 144.575\n",
      "Updating precision...\n",
      "Evidence 157.055\n",
      "Updating precision...\n",
      "Evidence 158.174\n",
      "Updating precision...\n",
      "Evidence 164.388\n",
      "Updating precision...\n",
      "Evidence 168.917\n",
      "Updating precision...\n",
      "Evidence 173.176\n",
      "Updating precision...\n",
      "Evidence 177.442\n",
      "Updating precision...\n",
      "Evidence 181.429\n",
      "Updating precision...\n",
      "Evidence 185.285\n",
      "Updating precision...\n",
      "Evidence 188.612\n",
      "Updating precision...\n",
      "Evidence 191.518\n",
      "Updating precision...\n",
      "Evidence 194.511\n",
      "Updating precision...\n",
      "Evidence 196.182\n",
      "Updating precision...\n",
      "Evidence 185.585\n",
      "Fail count  1\n",
      "Updating precision...\n",
      "Evidence 185.836\n",
      "Updating precision...\n",
      "Evidence 186.568\n",
      "Updating precision...\n",
      "Evidence 188.358\n",
      "Updating precision...\n",
      "Evidence 188.172\n",
      "Pass count  1\n",
      "Fail count  2\n"
     ]
    },
    {
     "name": "stderr",
     "output_type": "stream",
     "text": [
      "100%|███████████████████████████████████████| 646/646 [00:00<00:00, 2316.12it/s]\n"
     ]
    },
    {
     "name": "stdout",
     "output_type": "stream",
     "text": [
      "Picked experiment 1 out of 10, sample 157453\n"
     ]
    },
    {
     "name": "stderr",
     "output_type": "stream",
     "text": [
      "100%|███████████████████████████████████████| 646/646 [00:00<00:00, 3599.26it/s]\n"
     ]
    },
    {
     "name": "stdout",
     "output_type": "stream",
     "text": [
      "Picked experiment 2 out of 10, sample 69455\n"
     ]
    },
    {
     "name": "stderr",
     "output_type": "stream",
     "text": [
      "100%|███████████████████████████████████████| 646/646 [00:00<00:00, 3526.54it/s]\n"
     ]
    },
    {
     "name": "stdout",
     "output_type": "stream",
     "text": [
      "Picked experiment 3 out of 10, sample 165562\n"
     ]
    },
    {
     "name": "stderr",
     "output_type": "stream",
     "text": [
      "100%|███████████████████████████████████████| 646/646 [00:00<00:00, 3497.59it/s]\n"
     ]
    },
    {
     "name": "stdout",
     "output_type": "stream",
     "text": [
      "Picked experiment 4 out of 10, sample 2828\n"
     ]
    },
    {
     "name": "stderr",
     "output_type": "stream",
     "text": [
      "100%|███████████████████████████████████████| 646/646 [00:00<00:00, 3568.73it/s]\n"
     ]
    },
    {
     "name": "stdout",
     "output_type": "stream",
     "text": [
      "Picked experiment 5 out of 10, sample 130619\n"
     ]
    },
    {
     "name": "stderr",
     "output_type": "stream",
     "text": [
      "100%|███████████████████████████████████████| 646/646 [00:00<00:00, 3391.72it/s]\n"
     ]
    },
    {
     "name": "stdout",
     "output_type": "stream",
     "text": [
      "Picked experiment 6 out of 10, sample 130564\n"
     ]
    },
    {
     "name": "stderr",
     "output_type": "stream",
     "text": [
      "100%|███████████████████████████████████████| 646/646 [00:00<00:00, 3479.00it/s]\n"
     ]
    },
    {
     "name": "stdout",
     "output_type": "stream",
     "text": [
      "Picked experiment 7 out of 10, sample 117385\n"
     ]
    },
    {
     "name": "stderr",
     "output_type": "stream",
     "text": [
      "100%|███████████████████████████████████████| 646/646 [00:00<00:00, 3608.76it/s]\n"
     ]
    },
    {
     "name": "stdout",
     "output_type": "stream",
     "text": [
      "Picked experiment 8 out of 10, sample 69010\n"
     ]
    },
    {
     "name": "stderr",
     "output_type": "stream",
     "text": [
      "100%|███████████████████████████████████████| 646/646 [00:00<00:00, 3512.79it/s]\n"
     ]
    },
    {
     "name": "stdout",
     "output_type": "stream",
     "text": [
      "Picked experiment 9 out of 10, sample 113578\n"
     ]
    },
    {
     "name": "stderr",
     "output_type": "stream",
     "text": [
      "100%|███████████████████████████████████████| 646/646 [00:00<00:00, 3569.70it/s]\n"
     ]
    },
    {
     "name": "stdout",
     "output_type": "stream",
     "text": [
      "Picked experiment 10 out of 10, sample 111643\n",
      "DTL progress [0.1256456, 0.1256456]\n",
      "Updating precision...\n",
      "Evidence -138.774\n",
      "Updating precision...\n",
      "Evidence 288.540\n",
      "Updating precision...\n",
      "Evidence 604.038\n",
      "Updating precision...\n",
      "Evidence 810.884\n",
      "Updating precision...\n",
      "Evidence 940.075\n",
      "Updating precision...\n",
      "Evidence 1020.695\n",
      "Updating precision...\n",
      "Evidence 1066.956\n",
      "Updating precision...\n",
      "Evidence 1086.970\n",
      "Updating precision...\n",
      "Evidence 1093.804\n",
      "Updating precision...\n",
      "Evidence 1094.558\n",
      "Pass count  1\n"
     ]
    },
    {
     "name": "stderr",
     "output_type": "stream",
     "text": [
      "100%|███████████████████████████████████████| 646/646 [00:00<00:00, 2233.84it/s]\n"
     ]
    },
    {
     "name": "stdout",
     "output_type": "stream",
     "text": [
      "Picked experiment 1 out of 10, sample 91680\n"
     ]
    },
    {
     "name": "stderr",
     "output_type": "stream",
     "text": [
      "100%|███████████████████████████████████████| 646/646 [00:00<00:00, 3452.24it/s]\n"
     ]
    },
    {
     "name": "stdout",
     "output_type": "stream",
     "text": [
      "Picked experiment 2 out of 10, sample 546\n"
     ]
    },
    {
     "name": "stderr",
     "output_type": "stream",
     "text": [
      "100%|███████████████████████████████████████| 646/646 [00:00<00:00, 3630.84it/s]\n"
     ]
    },
    {
     "name": "stdout",
     "output_type": "stream",
     "text": [
      "Picked experiment 3 out of 10, sample 67622\n"
     ]
    },
    {
     "name": "stderr",
     "output_type": "stream",
     "text": [
      "100%|███████████████████████████████████████| 646/646 [00:00<00:00, 3611.67it/s]\n"
     ]
    },
    {
     "name": "stdout",
     "output_type": "stream",
     "text": [
      "Picked experiment 4 out of 10, sample 65074\n"
     ]
    },
    {
     "name": "stderr",
     "output_type": "stream",
     "text": [
      "100%|███████████████████████████████████████| 646/646 [00:00<00:00, 3527.03it/s]\n"
     ]
    },
    {
     "name": "stdout",
     "output_type": "stream",
     "text": [
      "Picked experiment 5 out of 10, sample 90365\n"
     ]
    },
    {
     "name": "stderr",
     "output_type": "stream",
     "text": [
      "100%|███████████████████████████████████████| 646/646 [00:00<00:00, 3520.83it/s]\n"
     ]
    },
    {
     "name": "stdout",
     "output_type": "stream",
     "text": [
      "Picked experiment 6 out of 10, sample 126\n"
     ]
    },
    {
     "name": "stderr",
     "output_type": "stream",
     "text": [
      "100%|███████████████████████████████████████| 646/646 [00:00<00:00, 3608.58it/s]\n"
     ]
    },
    {
     "name": "stdout",
     "output_type": "stream",
     "text": [
      "Picked experiment 7 out of 10, sample 162835\n"
     ]
    },
    {
     "name": "stderr",
     "output_type": "stream",
     "text": [
      "100%|███████████████████████████████████████| 646/646 [00:00<00:00, 3522.18it/s]\n"
     ]
    },
    {
     "name": "stdout",
     "output_type": "stream",
     "text": [
      "Picked experiment 8 out of 10, sample 67677\n"
     ]
    },
    {
     "name": "stderr",
     "output_type": "stream",
     "text": [
      "100%|███████████████████████████████████████| 646/646 [00:00<00:00, 3483.57it/s]\n"
     ]
    },
    {
     "name": "stdout",
     "output_type": "stream",
     "text": [
      "Picked experiment 9 out of 10, sample 65534\n"
     ]
    },
    {
     "name": "stderr",
     "output_type": "stream",
     "text": [
      "100%|███████████████████████████████████████| 646/646 [00:00<00:00, 3554.76it/s]\n"
     ]
    },
    {
     "name": "stdout",
     "output_type": "stream",
     "text": [
      "Picked experiment 10 out of 10, sample 23233\n",
      "DTL progress [0.1256456, 0.1256456, 0.2553892]\n",
      "Updating precision...\n",
      "Evidence -159.127\n",
      "Updating precision...\n",
      "Evidence 707.519\n",
      "Updating precision...\n",
      "Evidence 1365.946\n",
      "Updating precision...\n",
      "Evidence 1783.565\n",
      "Updating precision...\n",
      "Evidence 2000.593\n",
      "Updating precision...\n",
      "Evidence 2087.608\n",
      "Updating precision...\n",
      "Evidence 2115.503\n",
      "Updating precision...\n",
      "Evidence 2125.447\n",
      "Updating precision...\n",
      "Evidence 2129.780\n",
      "Updating precision...\n",
      "Evidence 2131.508\n",
      "Pass count  1\n"
     ]
    },
    {
     "name": "stderr",
     "output_type": "stream",
     "text": [
      "100%|███████████████████████████████████████| 646/646 [00:00<00:00, 2402.33it/s]\n"
     ]
    },
    {
     "name": "stdout",
     "output_type": "stream",
     "text": [
      "Picked experiment 1 out of 10, sample 73765\n"
     ]
    },
    {
     "name": "stderr",
     "output_type": "stream",
     "text": [
      "100%|███████████████████████████████████████| 646/646 [00:00<00:00, 3332.27it/s]\n"
     ]
    },
    {
     "name": "stdout",
     "output_type": "stream",
     "text": [
      "Picked experiment 2 out of 10, sample 88415\n"
     ]
    },
    {
     "name": "stderr",
     "output_type": "stream",
     "text": [
      "100%|███████████████████████████████████████| 646/646 [00:00<00:00, 3447.61it/s]\n"
     ]
    },
    {
     "name": "stdout",
     "output_type": "stream",
     "text": [
      "Picked experiment 3 out of 10, sample 92427\n"
     ]
    },
    {
     "name": "stderr",
     "output_type": "stream",
     "text": [
      "100%|███████████████████████████████████████| 646/646 [00:00<00:00, 3465.02it/s]\n"
     ]
    },
    {
     "name": "stdout",
     "output_type": "stream",
     "text": [
      "Picked experiment 4 out of 10, sample 88424\n"
     ]
    },
    {
     "name": "stderr",
     "output_type": "stream",
     "text": [
      "100%|███████████████████████████████████████| 646/646 [00:00<00:00, 3521.89it/s]\n"
     ]
    },
    {
     "name": "stdout",
     "output_type": "stream",
     "text": [
      "Picked experiment 5 out of 10, sample 162835\n"
     ]
    },
    {
     "name": "stderr",
     "output_type": "stream",
     "text": [
      "100%|███████████████████████████████████████| 646/646 [00:00<00:00, 3425.57it/s]\n"
     ]
    },
    {
     "name": "stdout",
     "output_type": "stream",
     "text": [
      "Picked experiment 6 out of 10, sample 111569\n"
     ]
    },
    {
     "name": "stderr",
     "output_type": "stream",
     "text": [
      "100%|███████████████████████████████████████| 646/646 [00:00<00:00, 3369.66it/s]\n"
     ]
    },
    {
     "name": "stdout",
     "output_type": "stream",
     "text": [
      "Picked experiment 7 out of 10, sample 111897\n"
     ]
    },
    {
     "name": "stderr",
     "output_type": "stream",
     "text": [
      "100%|███████████████████████████████████████| 646/646 [00:00<00:00, 3420.02it/s]\n"
     ]
    },
    {
     "name": "stdout",
     "output_type": "stream",
     "text": [
      "Picked experiment 8 out of 10, sample 88479\n"
     ]
    },
    {
     "name": "stderr",
     "output_type": "stream",
     "text": [
      "100%|███████████████████████████████████████| 646/646 [00:00<00:00, 3513.76it/s]\n"
     ]
    },
    {
     "name": "stdout",
     "output_type": "stream",
     "text": [
      "Picked experiment 9 out of 10, sample 35248\n"
     ]
    },
    {
     "name": "stderr",
     "output_type": "stream",
     "text": [
      "100%|███████████████████████████████████████| 646/646 [00:00<00:00, 3463.22it/s]\n"
     ]
    },
    {
     "name": "stdout",
     "output_type": "stream",
     "text": [
      "Picked experiment 10 out of 10, sample 163456\n",
      "DTL progress [0.1256456, 0.1256456, 0.2553892, 0.2553892]\n",
      "Updating precision...\n",
      "Evidence -204.394\n",
      "Updating precision...\n",
      "Evidence 1137.704\n",
      "Updating precision...\n",
      "Evidence 2248.166\n",
      "Updating precision...\n",
      "Evidence 2906.284\n",
      "Updating precision...\n",
      "Evidence 3134.105\n",
      "Updating precision...\n",
      "Evidence 3184.816\n",
      "Updating precision...\n",
      "Evidence 3235.292\n",
      "Updating precision...\n",
      "Evidence 3256.273\n",
      "Updating precision...\n",
      "Evidence 3260.794\n",
      "Updating precision...\n",
      "Evidence 3262.146\n",
      "Pass count  1\n"
     ]
    },
    {
     "name": "stderr",
     "output_type": "stream",
     "text": [
      "100%|███████████████████████████████████████| 646/646 [00:00<00:00, 2456.46it/s]\n"
     ]
    },
    {
     "name": "stdout",
     "output_type": "stream",
     "text": [
      "Picked experiment 1 out of 10, sample 114868\n"
     ]
    },
    {
     "name": "stderr",
     "output_type": "stream",
     "text": [
      "100%|███████████████████████████████████████| 646/646 [00:00<00:00, 3593.79it/s]\n"
     ]
    },
    {
     "name": "stdout",
     "output_type": "stream",
     "text": [
      "Picked experiment 2 out of 10, sample 115819\n"
     ]
    },
    {
     "name": "stderr",
     "output_type": "stream",
     "text": [
      "100%|███████████████████████████████████████| 646/646 [00:00<00:00, 3513.39it/s]\n"
     ]
    },
    {
     "name": "stdout",
     "output_type": "stream",
     "text": [
      "Picked experiment 3 out of 10, sample 115186\n"
     ]
    },
    {
     "name": "stderr",
     "output_type": "stream",
     "text": [
      "100%|███████████████████████████████████████| 646/646 [00:00<00:00, 3413.84it/s]\n"
     ]
    },
    {
     "name": "stdout",
     "output_type": "stream",
     "text": [
      "Picked experiment 4 out of 10, sample 111633\n"
     ]
    },
    {
     "name": "stderr",
     "output_type": "stream",
     "text": [
      "100%|███████████████████████████████████████| 646/646 [00:00<00:00, 3500.86it/s]\n"
     ]
    },
    {
     "name": "stdout",
     "output_type": "stream",
     "text": [
      "Picked experiment 5 out of 10, sample 111961\n"
     ]
    },
    {
     "name": "stderr",
     "output_type": "stream",
     "text": [
      "100%|███████████████████████████████████████| 646/646 [00:00<00:00, 3457.04it/s]\n"
     ]
    },
    {
     "name": "stdout",
     "output_type": "stream",
     "text": [
      "Picked experiment 6 out of 10, sample 115503\n"
     ]
    },
    {
     "name": "stderr",
     "output_type": "stream",
     "text": [
      "100%|███████████████████████████████████████| 646/646 [00:00<00:00, 3516.73it/s]\n"
     ]
    },
    {
     "name": "stdout",
     "output_type": "stream",
     "text": [
      "Picked experiment 7 out of 10, sample 112288\n"
     ]
    },
    {
     "name": "stderr",
     "output_type": "stream",
     "text": [
      "100%|███████████████████████████████████████| 646/646 [00:00<00:00, 3577.12it/s]\n"
     ]
    },
    {
     "name": "stdout",
     "output_type": "stream",
     "text": [
      "Picked experiment 8 out of 10, sample 111641\n"
     ]
    },
    {
     "name": "stderr",
     "output_type": "stream",
     "text": [
      "100%|███████████████████████████████████████| 646/646 [00:00<00:00, 3331.03it/s]\n"
     ]
    },
    {
     "name": "stdout",
     "output_type": "stream",
     "text": [
      "Picked experiment 9 out of 10, sample 116134\n"
     ]
    },
    {
     "name": "stderr",
     "output_type": "stream",
     "text": [
      "100%|███████████████████████████████████████| 646/646 [00:00<00:00, 3316.16it/s]\n"
     ]
    },
    {
     "name": "stdout",
     "output_type": "stream",
     "text": [
      "Picked experiment 10 out of 10, sample 133203\n",
      "DTL progress [0.1256456, 0.1256456, 0.2553892, 0.2553892, 0.2553892]\n",
      "Updating precision...\n",
      "Evidence -211.849\n",
      "Updating precision...\n",
      "Evidence 1839.224\n",
      "Updating precision...\n",
      "Evidence 3378.350\n",
      "Updating precision...\n",
      "Evidence 4272.883\n",
      "Updating precision...\n",
      "Evidence 4595.747\n",
      "Updating precision...\n",
      "Evidence 4667.794\n",
      "Updating precision...\n",
      "Evidence 4689.444\n",
      "Updating precision...\n",
      "Evidence 4694.115\n",
      "Pass count  1\n"
     ]
    },
    {
     "name": "stderr",
     "output_type": "stream",
     "text": [
      "100%|███████████████████████████████████████| 646/646 [00:00<00:00, 2401.89it/s]\n"
     ]
    },
    {
     "name": "stdout",
     "output_type": "stream",
     "text": [
      "Picked experiment 1 out of 10, sample 82543\n"
     ]
    },
    {
     "name": "stderr",
     "output_type": "stream",
     "text": [
      "100%|███████████████████████████████████████| 646/646 [00:00<00:00, 3460.72it/s]\n"
     ]
    },
    {
     "name": "stdout",
     "output_type": "stream",
     "text": [
      "Picked experiment 2 out of 10, sample 20580\n"
     ]
    },
    {
     "name": "stderr",
     "output_type": "stream",
     "text": [
      "100%|███████████████████████████████████████| 646/646 [00:00<00:00, 3485.28it/s]\n"
     ]
    },
    {
     "name": "stdout",
     "output_type": "stream",
     "text": [
      "Picked experiment 3 out of 10, sample 54424\n"
     ]
    },
    {
     "name": "stderr",
     "output_type": "stream",
     "text": [
      "100%|███████████████████████████████████████| 646/646 [00:00<00:00, 3394.72it/s]\n"
     ]
    },
    {
     "name": "stdout",
     "output_type": "stream",
     "text": [
      "Picked experiment 4 out of 10, sample 82959\n"
     ]
    },
    {
     "name": "stderr",
     "output_type": "stream",
     "text": [
      "100%|███████████████████████████████████████| 646/646 [00:00<00:00, 3434.89it/s]\n"
     ]
    },
    {
     "name": "stdout",
     "output_type": "stream",
     "text": [
      "Picked experiment 5 out of 10, sample 82552\n"
     ]
    },
    {
     "name": "stderr",
     "output_type": "stream",
     "text": [
      "100%|███████████████████████████████████████| 646/646 [00:00<00:00, 3571.14it/s]\n"
     ]
    },
    {
     "name": "stdout",
     "output_type": "stream",
     "text": [
      "Picked experiment 6 out of 10, sample 34272\n"
     ]
    },
    {
     "name": "stderr",
     "output_type": "stream",
     "text": [
      "100%|███████████████████████████████████████| 646/646 [00:00<00:00, 3437.38it/s]\n"
     ]
    },
    {
     "name": "stdout",
     "output_type": "stream",
     "text": [
      "Picked experiment 7 out of 10, sample 54415\n"
     ]
    },
    {
     "name": "stderr",
     "output_type": "stream",
     "text": [
      "100%|███████████████████████████████████████| 646/646 [00:00<00:00, 3479.82it/s]\n"
     ]
    },
    {
     "name": "stdout",
     "output_type": "stream",
     "text": [
      "Picked experiment 8 out of 10, sample 25386\n"
     ]
    },
    {
     "name": "stderr",
     "output_type": "stream",
     "text": [
      "100%|███████████████████████████████████████| 646/646 [00:00<00:00, 3461.02it/s]\n"
     ]
    },
    {
     "name": "stdout",
     "output_type": "stream",
     "text": [
      "Picked experiment 9 out of 10, sample 52996\n"
     ]
    },
    {
     "name": "stderr",
     "output_type": "stream",
     "text": [
      "100%|███████████████████████████████████████| 646/646 [00:00<00:00, 3467.23it/s]\n"
     ]
    },
    {
     "name": "stdout",
     "output_type": "stream",
     "text": [
      "Picked experiment 10 out of 10, sample 34273\n",
      "DTL progress [0.1256456, 0.1256456, 0.2553892, 0.2553892, 0.2553892, 0.2553892]\n"
     ]
    },
    {
     "name": "stderr",
     "output_type": "stream",
     "text": [
      "100%|███████████████████████████████████████| 45/45.0 [00:00<00:00, 1812.04it/s]\n"
     ]
    },
    {
     "name": "stdout",
     "output_type": "stream",
     "text": [
      "Starting with best value 0.09138033\n",
      "Updating precision...\n",
      "Evidence -68.857\n",
      "Updating precision...\n",
      "Evidence 44.072\n",
      "Updating precision...\n",
      "Evidence 124.962\n",
      "Updating precision...\n",
      "Evidence 174.627\n",
      "Updating precision...\n",
      "Evidence 198.329\n",
      "Updating precision...\n",
      "Evidence 223.126\n",
      "Updating precision...\n",
      "Evidence 240.010\n",
      "Updating precision...\n",
      "Evidence 251.492\n",
      "Updating precision...\n",
      "Evidence 259.857\n",
      "Updating precision...\n",
      "Evidence 266.204\n",
      "Updating precision...\n",
      "Evidence 271.343\n",
      "Updating precision...\n",
      "Evidence 275.188\n",
      "Updating precision...\n",
      "Evidence 278.196\n",
      "Updating precision...\n",
      "Evidence 280.217\n",
      "Updating precision...\n",
      "Evidence 275.140\n",
      "Fail count  1\n",
      "Updating precision...\n",
      "Evidence 273.662\n",
      "Fail count  2\n",
      "Updating precision...\n",
      "Evidence 272.797\n",
      "Fail count  3\n",
      "Updating precision...\n",
      "Evidence 273.395\n",
      "Updating precision...\n",
      "Evidence 273.052\n",
      "Fail count  4\n",
      "Updating precision...\n",
      "Evidence 273.488\n",
      "Updating precision...\n",
      "Evidence 274.011\n",
      "Updating precision...\n",
      "Evidence 274.285\n",
      "Pass count  1\n"
     ]
    },
    {
     "name": "stderr",
     "output_type": "stream",
     "text": [
      "100%|███████████████████████████████████████| 646/646 [00:00<00:00, 2170.13it/s]\n"
     ]
    },
    {
     "name": "stdout",
     "output_type": "stream",
     "text": [
      "Picked experiment 1 out of 10, sample 34208\n"
     ]
    },
    {
     "name": "stderr",
     "output_type": "stream",
     "text": [
      "100%|███████████████████████████████████████| 646/646 [00:00<00:00, 3424.23it/s]\n"
     ]
    },
    {
     "name": "stdout",
     "output_type": "stream",
     "text": [
      "Picked experiment 2 out of 10, sample 114496\n"
     ]
    },
    {
     "name": "stderr",
     "output_type": "stream",
     "text": [
      "100%|███████████████████████████████████████| 646/646 [00:00<00:00, 3509.41it/s]\n"
     ]
    },
    {
     "name": "stdout",
     "output_type": "stream",
     "text": [
      "Picked experiment 3 out of 10, sample 125404\n"
     ]
    },
    {
     "name": "stderr",
     "output_type": "stream",
     "text": [
      "100%|███████████████████████████████████████| 646/646 [00:00<00:00, 3505.03it/s]\n"
     ]
    },
    {
     "name": "stdout",
     "output_type": "stream",
     "text": [
      "Picked experiment 4 out of 10, sample 92000\n"
     ]
    },
    {
     "name": "stderr",
     "output_type": "stream",
     "text": [
      "100%|███████████████████████████████████████| 646/646 [00:00<00:00, 3514.53it/s]\n"
     ]
    },
    {
     "name": "stdout",
     "output_type": "stream",
     "text": [
      "Picked experiment 5 out of 10, sample 10725\n"
     ]
    },
    {
     "name": "stderr",
     "output_type": "stream",
     "text": [
      "100%|███████████████████████████████████████| 646/646 [00:00<00:00, 3463.66it/s]\n"
     ]
    },
    {
     "name": "stdout",
     "output_type": "stream",
     "text": [
      "Picked experiment 6 out of 10, sample 114497\n"
     ]
    },
    {
     "name": "stderr",
     "output_type": "stream",
     "text": [
      "100%|███████████████████████████████████████| 646/646 [00:00<00:00, 3339.40it/s]\n"
     ]
    },
    {
     "name": "stdout",
     "output_type": "stream",
     "text": [
      "Picked experiment 7 out of 10, sample 34262\n"
     ]
    },
    {
     "name": "stderr",
     "output_type": "stream",
     "text": [
      "100%|███████████████████████████████████████| 646/646 [00:00<00:00, 3514.29it/s]\n"
     ]
    },
    {
     "name": "stdout",
     "output_type": "stream",
     "text": [
      "Picked experiment 8 out of 10, sample 34720\n"
     ]
    },
    {
     "name": "stderr",
     "output_type": "stream",
     "text": [
      "100%|███████████████████████████████████████| 646/646 [00:00<00:00, 3500.72it/s]\n"
     ]
    },
    {
     "name": "stdout",
     "output_type": "stream",
     "text": [
      "Picked experiment 9 out of 10, sample 61403\n"
     ]
    },
    {
     "name": "stderr",
     "output_type": "stream",
     "text": [
      "100%|███████████████████████████████████████| 646/646 [00:00<00:00, 3433.36it/s]\n"
     ]
    },
    {
     "name": "stdout",
     "output_type": "stream",
     "text": [
      "Picked experiment 10 out of 10, sample 4937\n",
      "DTL progress [0.09138033, 0.18883018]\n",
      "Updating precision...\n",
      "Evidence -152.039\n",
      "Updating precision...\n",
      "Evidence 230.404\n",
      "Updating precision...\n",
      "Evidence 532.322\n",
      "Updating precision...\n",
      "Evidence 754.034\n",
      "Updating precision...\n",
      "Evidence 897.308\n",
      "Updating precision...\n",
      "Evidence 991.404\n",
      "Updating precision...\n",
      "Evidence 1042.818\n",
      "Updating precision...\n",
      "Evidence 1064.082\n",
      "Updating precision...\n",
      "Evidence 1070.327\n",
      "Updating precision...\n",
      "Evidence 1074.009\n",
      "Updating precision...\n",
      "Evidence 1075.343\n",
      "Updating precision...\n",
      "Evidence 1100.681\n",
      "Updating precision...\n",
      "Evidence 1110.843\n",
      "Updating precision...\n",
      "Evidence 1116.435\n",
      "Updating precision...\n",
      "Evidence 1119.399\n",
      "Updating precision...\n",
      "Evidence 1120.991\n",
      "Updating precision...\n",
      "Evidence 1121.259\n",
      "Pass count  1\n"
     ]
    },
    {
     "name": "stderr",
     "output_type": "stream",
     "text": [
      "100%|███████████████████████████████████████| 646/646 [00:00<00:00, 2142.25it/s]\n"
     ]
    },
    {
     "name": "stdout",
     "output_type": "stream",
     "text": [
      "Picked experiment 1 out of 10, sample 133204\n"
     ]
    },
    {
     "name": "stderr",
     "output_type": "stream",
     "text": [
      "100%|███████████████████████████████████████| 646/646 [00:00<00:00, 3507.46it/s]\n"
     ]
    },
    {
     "name": "stdout",
     "output_type": "stream",
     "text": [
      "Picked experiment 2 out of 10, sample 48594\n"
     ]
    },
    {
     "name": "stderr",
     "output_type": "stream",
     "text": [
      "100%|███████████████████████████████████████| 646/646 [00:00<00:00, 3478.00it/s]\n"
     ]
    },
    {
     "name": "stdout",
     "output_type": "stream",
     "text": [
      "Picked experiment 3 out of 10, sample 32546\n"
     ]
    },
    {
     "name": "stderr",
     "output_type": "stream",
     "text": [
      "100%|███████████████████████████████████████| 646/646 [00:00<00:00, 3485.52it/s]\n"
     ]
    },
    {
     "name": "stdout",
     "output_type": "stream",
     "text": [
      "Picked experiment 4 out of 10, sample 82795\n"
     ]
    },
    {
     "name": "stderr",
     "output_type": "stream",
     "text": [
      "100%|███████████████████████████████████████| 646/646 [00:00<00:00, 3498.78it/s]\n"
     ]
    },
    {
     "name": "stdout",
     "output_type": "stream",
     "text": [
      "Picked experiment 5 out of 10, sample 157588\n"
     ]
    },
    {
     "name": "stderr",
     "output_type": "stream",
     "text": [
      "100%|███████████████████████████████████████| 646/646 [00:00<00:00, 3377.86it/s]\n"
     ]
    },
    {
     "name": "stdout",
     "output_type": "stream",
     "text": [
      "Picked experiment 6 out of 10, sample 147444\n"
     ]
    },
    {
     "name": "stderr",
     "output_type": "stream",
     "text": [
      "100%|███████████████████████████████████████| 646/646 [00:00<00:00, 3449.83it/s]\n"
     ]
    },
    {
     "name": "stdout",
     "output_type": "stream",
     "text": [
      "Picked experiment 7 out of 10, sample 34336\n"
     ]
    },
    {
     "name": "stderr",
     "output_type": "stream",
     "text": [
      "100%|███████████████████████████████████████| 646/646 [00:00<00:00, 3472.51it/s]\n"
     ]
    },
    {
     "name": "stdout",
     "output_type": "stream",
     "text": [
      "Picked experiment 8 out of 10, sample 133458\n"
     ]
    },
    {
     "name": "stderr",
     "output_type": "stream",
     "text": [
      "100%|███████████████████████████████████████| 646/646 [00:00<00:00, 3437.34it/s]\n"
     ]
    },
    {
     "name": "stdout",
     "output_type": "stream",
     "text": [
      "Picked experiment 9 out of 10, sample 20425\n"
     ]
    },
    {
     "name": "stderr",
     "output_type": "stream",
     "text": [
      "100%|███████████████████████████████████████| 646/646 [00:00<00:00, 3316.13it/s]\n"
     ]
    },
    {
     "name": "stdout",
     "output_type": "stream",
     "text": [
      "Picked experiment 10 out of 10, sample 157714\n",
      "DTL progress [0.09138033, 0.18883018, 0.26654503]\n",
      "Updating precision...\n",
      "Evidence -177.042\n",
      "Updating precision...\n",
      "Evidence 664.043\n",
      "Updating precision...\n",
      "Evidence 1334.585\n",
      "Updating precision...\n",
      "Evidence 1811.248\n",
      "Updating precision...\n",
      "Evidence 2080.839\n",
      "Updating precision...\n",
      "Evidence 2194.557\n",
      "Updating precision...\n",
      "Evidence 2230.355\n",
      "Updating precision...\n",
      "Evidence 2241.911\n",
      "Updating precision...\n",
      "Evidence 2245.292\n",
      "Updating precision...\n",
      "Evidence 2247.232\n",
      "Pass count  1\n"
     ]
    },
    {
     "name": "stderr",
     "output_type": "stream",
     "text": [
      "100%|███████████████████████████████████████| 646/646 [00:00<00:00, 2371.58it/s]\n"
     ]
    },
    {
     "name": "stdout",
     "output_type": "stream",
     "text": [
      "Picked experiment 1 out of 10, sample 34336\n"
     ]
    },
    {
     "name": "stderr",
     "output_type": "stream",
     "text": [
      "100%|███████████████████████████████████████| 646/646 [00:00<00:00, 3544.09it/s]\n"
     ]
    },
    {
     "name": "stdout",
     "output_type": "stream",
     "text": [
      "Picked experiment 2 out of 10, sample 34337\n"
     ]
    },
    {
     "name": "stderr",
     "output_type": "stream",
     "text": [
      "100%|███████████████████████████████████████| 646/646 [00:00<00:00, 3544.39it/s]\n"
     ]
    },
    {
     "name": "stdout",
     "output_type": "stream",
     "text": [
      "Picked experiment 3 out of 10, sample 34338\n"
     ]
    },
    {
     "name": "stderr",
     "output_type": "stream",
     "text": [
      "100%|███████████████████████████████████████| 646/646 [00:00<00:00, 3515.81it/s]\n"
     ]
    },
    {
     "name": "stdout",
     "output_type": "stream",
     "text": [
      "Picked experiment 4 out of 10, sample 111633\n"
     ]
    },
    {
     "name": "stderr",
     "output_type": "stream",
     "text": [
      "100%|███████████████████████████████████████| 646/646 [00:00<00:00, 3624.54it/s]\n"
     ]
    },
    {
     "name": "stdout",
     "output_type": "stream",
     "text": [
      "Picked experiment 5 out of 10, sample 34339\n"
     ]
    },
    {
     "name": "stderr",
     "output_type": "stream",
     "text": [
      "100%|███████████████████████████████████████| 646/646 [00:00<00:00, 2965.97it/s]\n"
     ]
    },
    {
     "name": "stdout",
     "output_type": "stream",
     "text": [
      "Picked experiment 6 out of 10, sample 34345\n"
     ]
    },
    {
     "name": "stderr",
     "output_type": "stream",
     "text": [
      "100%|███████████████████████████████████████| 646/646 [00:00<00:00, 3479.12it/s]\n"
     ]
    },
    {
     "name": "stdout",
     "output_type": "stream",
     "text": [
      "Picked experiment 7 out of 10, sample 111961\n"
     ]
    },
    {
     "name": "stderr",
     "output_type": "stream",
     "text": [
      "100%|███████████████████████████████████████| 646/646 [00:00<00:00, 3472.43it/s]\n"
     ]
    },
    {
     "name": "stdout",
     "output_type": "stream",
     "text": [
      "Picked experiment 8 out of 10, sample 34346\n"
     ]
    },
    {
     "name": "stderr",
     "output_type": "stream",
     "text": [
      "100%|███████████████████████████████████████| 646/646 [00:00<00:00, 3439.28it/s]\n"
     ]
    },
    {
     "name": "stdout",
     "output_type": "stream",
     "text": [
      "Picked experiment 9 out of 10, sample 112288\n"
     ]
    },
    {
     "name": "stderr",
     "output_type": "stream",
     "text": [
      "100%|███████████████████████████████████████| 646/646 [00:00<00:00, 3444.57it/s]\n"
     ]
    },
    {
     "name": "stdout",
     "output_type": "stream",
     "text": [
      "Picked experiment 10 out of 10, sample 65707\n",
      "DTL progress [0.09138033, 0.18883018, 0.26654503, 0.2690671]\n",
      "Updating precision...\n",
      "Evidence -185.934\n",
      "Updating precision...\n",
      "Evidence 1225.230\n",
      "Updating precision...\n",
      "Evidence 2334.418\n",
      "Updating precision...\n",
      "Evidence 3091.322\n",
      "Updating precision...\n",
      "Evidence 3443.958\n",
      "Updating precision...\n",
      "Evidence 3555.569\n",
      "Updating precision...\n",
      "Evidence 3578.631\n",
      "Updating precision...\n",
      "Evidence 3584.112\n",
      "Updating precision...\n",
      "Evidence 3586.101\n",
      "Pass count  1\n"
     ]
    },
    {
     "name": "stderr",
     "output_type": "stream",
     "text": [
      "100%|███████████████████████████████████████| 646/646 [00:00<00:00, 2266.38it/s]\n"
     ]
    },
    {
     "name": "stdout",
     "output_type": "stream",
     "text": [
      "Picked experiment 1 out of 10, sample 34336\n"
     ]
    },
    {
     "name": "stderr",
     "output_type": "stream",
     "text": [
      "100%|███████████████████████████████████████| 646/646 [00:00<00:00, 3529.04it/s]\n"
     ]
    },
    {
     "name": "stdout",
     "output_type": "stream",
     "text": [
      "Picked experiment 2 out of 10, sample 34337\n"
     ]
    },
    {
     "name": "stderr",
     "output_type": "stream",
     "text": [
      "100%|███████████████████████████████████████| 646/646 [00:00<00:00, 3464.38it/s]\n"
     ]
    },
    {
     "name": "stdout",
     "output_type": "stream",
     "text": [
      "Picked experiment 3 out of 10, sample 34338\n"
     ]
    },
    {
     "name": "stderr",
     "output_type": "stream",
     "text": [
      "100%|███████████████████████████████████████| 646/646 [00:00<00:00, 3700.52it/s]\n"
     ]
    },
    {
     "name": "stdout",
     "output_type": "stream",
     "text": [
      "Picked experiment 4 out of 10, sample 34339\n"
     ]
    },
    {
     "name": "stderr",
     "output_type": "stream",
     "text": [
      "100%|███████████████████████████████████████| 646/646 [00:00<00:00, 3339.55it/s]\n"
     ]
    },
    {
     "name": "stdout",
     "output_type": "stream",
     "text": [
      "Picked experiment 5 out of 10, sample 65024\n"
     ]
    },
    {
     "name": "stderr",
     "output_type": "stream",
     "text": [
      "100%|███████████████████████████████████████| 646/646 [00:00<00:00, 3570.70it/s]\n"
     ]
    },
    {
     "name": "stdout",
     "output_type": "stream",
     "text": [
      "Picked experiment 6 out of 10, sample 34345\n"
     ]
    },
    {
     "name": "stderr",
     "output_type": "stream",
     "text": [
      "100%|███████████████████████████████████████| 646/646 [00:00<00:00, 3425.63it/s]\n"
     ]
    },
    {
     "name": "stdout",
     "output_type": "stream",
     "text": [
      "Picked experiment 7 out of 10, sample 34346\n"
     ]
    },
    {
     "name": "stderr",
     "output_type": "stream",
     "text": [
      "100%|███████████████████████████████████████| 646/646 [00:00<00:00, 3482.41it/s]\n"
     ]
    },
    {
     "name": "stdout",
     "output_type": "stream",
     "text": [
      "Picked experiment 8 out of 10, sample 111633\n"
     ]
    },
    {
     "name": "stderr",
     "output_type": "stream",
     "text": [
      "100%|███████████████████████████████████████| 646/646 [00:00<00:00, 3419.07it/s]\n"
     ]
    },
    {
     "name": "stdout",
     "output_type": "stream",
     "text": [
      "Picked experiment 9 out of 10, sample 34347\n"
     ]
    },
    {
     "name": "stderr",
     "output_type": "stream",
     "text": [
      "100%|███████████████████████████████████████| 646/646 [00:00<00:00, 3745.53it/s]\n"
     ]
    },
    {
     "name": "stdout",
     "output_type": "stream",
     "text": [
      "Picked experiment 10 out of 10, sample 34348\n",
      "DTL progress [0.09138033, 0.18883018, 0.26654503, 0.2690671, 0.2690671]\n",
      "Updating precision...\n",
      "Evidence -196.939\n",
      "Updating precision...\n",
      "Evidence 1874.528\n",
      "Updating precision...\n",
      "Evidence 3478.642\n",
      "Updating precision...\n",
      "Evidence 4510.388\n",
      "Updating precision...\n",
      "Evidence 4913.806\n",
      "Updating precision...\n",
      "Evidence 5013.958\n",
      "Updating precision...\n",
      "Evidence 5029.638\n",
      "Updating precision...\n",
      "Evidence 5034.708\n",
      "Updating precision...\n",
      "Evidence 5037.695\n",
      "Pass count  1\n"
     ]
    },
    {
     "name": "stderr",
     "output_type": "stream",
     "text": [
      "100%|███████████████████████████████████████| 646/646 [00:00<00:00, 2450.06it/s]\n"
     ]
    },
    {
     "name": "stdout",
     "output_type": "stream",
     "text": [
      "Picked experiment 1 out of 10, sample 34336\n"
     ]
    },
    {
     "name": "stderr",
     "output_type": "stream",
     "text": [
      "100%|███████████████████████████████████████| 646/646 [00:00<00:00, 3787.28it/s]\n"
     ]
    },
    {
     "name": "stdout",
     "output_type": "stream",
     "text": [
      "Picked experiment 2 out of 10, sample 34337\n"
     ]
    },
    {
     "name": "stderr",
     "output_type": "stream",
     "text": [
      "100%|███████████████████████████████████████| 646/646 [00:00<00:00, 3621.49it/s]\n"
     ]
    },
    {
     "name": "stdout",
     "output_type": "stream",
     "text": [
      "Picked experiment 3 out of 10, sample 34338\n"
     ]
    },
    {
     "name": "stderr",
     "output_type": "stream",
     "text": [
      "100%|███████████████████████████████████████| 646/646 [00:00<00:00, 3639.31it/s]\n"
     ]
    },
    {
     "name": "stdout",
     "output_type": "stream",
     "text": [
      "Picked experiment 4 out of 10, sample 34339\n"
     ]
    },
    {
     "name": "stderr",
     "output_type": "stream",
     "text": [
      "100%|███████████████████████████████████████| 646/646 [00:00<00:00, 3547.01it/s]\n"
     ]
    },
    {
     "name": "stdout",
     "output_type": "stream",
     "text": [
      "Picked experiment 5 out of 10, sample 34345\n"
     ]
    },
    {
     "name": "stderr",
     "output_type": "stream",
     "text": [
      "100%|███████████████████████████████████████| 646/646 [00:00<00:00, 3554.09it/s]\n"
     ]
    },
    {
     "name": "stdout",
     "output_type": "stream",
     "text": [
      "Picked experiment 6 out of 10, sample 34346\n"
     ]
    },
    {
     "name": "stderr",
     "output_type": "stream",
     "text": [
      "100%|███████████████████████████████████████| 646/646 [00:00<00:00, 3516.10it/s]\n"
     ]
    },
    {
     "name": "stdout",
     "output_type": "stream",
     "text": [
      "Picked experiment 7 out of 10, sample 34347\n"
     ]
    },
    {
     "name": "stderr",
     "output_type": "stream",
     "text": [
      "100%|███████████████████████████████████████| 646/646 [00:00<00:00, 3326.64it/s]\n"
     ]
    },
    {
     "name": "stdout",
     "output_type": "stream",
     "text": [
      "Picked experiment 8 out of 10, sample 111633\n"
     ]
    },
    {
     "name": "stderr",
     "output_type": "stream",
     "text": [
      "100%|███████████████████████████████████████| 646/646 [00:00<00:00, 3464.53it/s]\n"
     ]
    },
    {
     "name": "stdout",
     "output_type": "stream",
     "text": [
      "Picked experiment 9 out of 10, sample 34348\n"
     ]
    },
    {
     "name": "stderr",
     "output_type": "stream",
     "text": [
      "100%|███████████████████████████████████████| 646/646 [00:00<00:00, 3383.38it/s]\n"
     ]
    },
    {
     "name": "stdout",
     "output_type": "stream",
     "text": [
      "Picked experiment 10 out of 10, sample 34281\n",
      "DTL progress [0.09138033, 0.18883018, 0.26654503, 0.2690671, 0.2690671, 0.2690671]\n"
     ]
    },
    {
     "name": "stderr",
     "output_type": "stream",
     "text": [
      "100%|███████████████████████████████████████| 45/45.0 [00:00<00:00, 1630.53it/s]\n"
     ]
    },
    {
     "name": "stdout",
     "output_type": "stream",
     "text": [
      "Starting with best value 0.223677\n",
      "Updating precision...\n",
      "Evidence -83.813\n",
      "Updating precision...\n",
      "Evidence 19.510\n",
      "Updating precision...\n",
      "Evidence 84.866\n",
      "Updating precision...\n",
      "Evidence 114.253\n",
      "Updating precision...\n",
      "Evidence 138.188\n",
      "Updating precision...\n",
      "Evidence 152.991\n",
      "Updating precision...\n",
      "Evidence 160.537\n",
      "Updating precision...\n",
      "Evidence 162.936\n",
      "Updating precision...\n",
      "Evidence 163.901\n",
      "Updating precision...\n",
      "Evidence 164.428\n",
      "Updating precision...\n",
      "Evidence 163.756\n",
      "Fail count  1\n",
      "Updating precision...\n",
      "Evidence 163.629\n",
      "Pass count  1\n",
      "Fail count  2\n"
     ]
    },
    {
     "name": "stderr",
     "output_type": "stream",
     "text": [
      "100%|███████████████████████████████████████| 646/646 [00:00<00:00, 2338.74it/s]\n"
     ]
    },
    {
     "name": "stdout",
     "output_type": "stream",
     "text": [
      "Picked experiment 1 out of 10, sample 147200\n"
     ]
    },
    {
     "name": "stderr",
     "output_type": "stream",
     "text": [
      "100%|███████████████████████████████████████| 646/646 [00:00<00:00, 3470.11it/s]\n"
     ]
    },
    {
     "name": "stdout",
     "output_type": "stream",
     "text": [
      "Picked experiment 2 out of 10, sample 147218\n"
     ]
    },
    {
     "name": "stderr",
     "output_type": "stream",
     "text": [
      "100%|███████████████████████████████████████| 646/646 [00:00<00:00, 3433.41it/s]\n"
     ]
    },
    {
     "name": "stdout",
     "output_type": "stream",
     "text": [
      "Picked experiment 3 out of 10, sample 574\n"
     ]
    },
    {
     "name": "stderr",
     "output_type": "stream",
     "text": [
      "100%|███████████████████████████████████████| 646/646 [00:00<00:00, 3562.21it/s]\n"
     ]
    },
    {
     "name": "stdout",
     "output_type": "stream",
     "text": [
      "Picked experiment 4 out of 10, sample 15711\n"
     ]
    },
    {
     "name": "stderr",
     "output_type": "stream",
     "text": [
      "100%|███████████████████████████████████████| 646/646 [00:00<00:00, 3437.94it/s]\n"
     ]
    },
    {
     "name": "stdout",
     "output_type": "stream",
     "text": [
      "Picked experiment 5 out of 10, sample 89681\n"
     ]
    },
    {
     "name": "stderr",
     "output_type": "stream",
     "text": [
      "100%|███████████████████████████████████████| 646/646 [00:00<00:00, 3357.12it/s]\n"
     ]
    },
    {
     "name": "stdout",
     "output_type": "stream",
     "text": [
      "Picked experiment 6 out of 10, sample 34262\n"
     ]
    },
    {
     "name": "stderr",
     "output_type": "stream",
     "text": [
      "100%|███████████████████████████████████████| 646/646 [00:00<00:00, 3443.11it/s]\n"
     ]
    },
    {
     "name": "stdout",
     "output_type": "stream",
     "text": [
      "Picked experiment 7 out of 10, sample 92018\n"
     ]
    },
    {
     "name": "stderr",
     "output_type": "stream",
     "text": [
      "100%|███████████████████████████████████████| 646/646 [00:00<00:00, 3341.71it/s]\n"
     ]
    },
    {
     "name": "stdout",
     "output_type": "stream",
     "text": [
      "Picked experiment 8 out of 10, sample 57199\n"
     ]
    },
    {
     "name": "stderr",
     "output_type": "stream",
     "text": [
      "100%|███████████████████████████████████████| 646/646 [00:00<00:00, 3453.37it/s]\n"
     ]
    },
    {
     "name": "stdout",
     "output_type": "stream",
     "text": [
      "Picked experiment 9 out of 10, sample 5120\n"
     ]
    },
    {
     "name": "stderr",
     "output_type": "stream",
     "text": [
      "100%|███████████████████████████████████████| 646/646 [00:00<00:00, 3350.42it/s]\n"
     ]
    },
    {
     "name": "stdout",
     "output_type": "stream",
     "text": [
      "Picked experiment 10 out of 10, sample 145442\n",
      "DTL progress [0.223677, 0.223677]\n",
      "Updating precision...\n",
      "Evidence -162.862\n",
      "Updating precision...\n",
      "Evidence 212.867\n",
      "Updating precision...\n",
      "Evidence 516.818\n",
      "Updating precision...\n",
      "Evidence 738.311\n",
      "Updating precision...\n",
      "Evidence 876.746\n",
      "Updating precision...\n",
      "Evidence 959.553\n",
      "Updating precision...\n",
      "Evidence 1008.769\n",
      "Updating precision...\n",
      "Evidence 1042.953\n",
      "Updating precision...\n",
      "Evidence 1059.615\n",
      "Updating precision...\n",
      "Evidence 1064.823\n",
      "Updating precision...\n",
      "Evidence 1066.398\n",
      "Updating precision...\n",
      "Evidence 1066.904\n",
      "Pass count  1\n"
     ]
    },
    {
     "name": "stderr",
     "output_type": "stream",
     "text": [
      "100%|███████████████████████████████████████| 646/646 [00:00<00:00, 2309.75it/s]\n"
     ]
    },
    {
     "name": "stdout",
     "output_type": "stream",
     "text": [
      "Picked experiment 1 out of 10, sample 33225\n"
     ]
    },
    {
     "name": "stderr",
     "output_type": "stream",
     "text": [
      "100%|███████████████████████████████████████| 646/646 [00:00<00:00, 3468.13it/s]\n"
     ]
    },
    {
     "name": "stdout",
     "output_type": "stream",
     "text": [
      "Picked experiment 2 out of 10, sample 88478\n"
     ]
    },
    {
     "name": "stderr",
     "output_type": "stream",
     "text": [
      "100%|███████████████████████████████████████| 646/646 [00:00<00:00, 3416.12it/s]\n"
     ]
    },
    {
     "name": "stdout",
     "output_type": "stream",
     "text": [
      "Picked experiment 3 out of 10, sample 33216\n"
     ]
    },
    {
     "name": "stderr",
     "output_type": "stream",
     "text": [
      "100%|███████████████████████████████████████| 646/646 [00:00<00:00, 3395.12it/s]\n"
     ]
    },
    {
     "name": "stdout",
     "output_type": "stream",
     "text": [
      "Picked experiment 4 out of 10, sample 133075\n"
     ]
    },
    {
     "name": "stderr",
     "output_type": "stream",
     "text": [
      "100%|███████████████████████████████████████| 646/646 [00:00<00:00, 3483.35it/s]\n"
     ]
    },
    {
     "name": "stdout",
     "output_type": "stream",
     "text": [
      "Picked experiment 5 out of 10, sample 28262\n"
     ]
    },
    {
     "name": "stderr",
     "output_type": "stream",
     "text": [
      "100%|███████████████████████████████████████| 646/646 [00:00<00:00, 3438.14it/s]\n"
     ]
    },
    {
     "name": "stdout",
     "output_type": "stream",
     "text": [
      "Picked experiment 6 out of 10, sample 27738\n"
     ]
    },
    {
     "name": "stderr",
     "output_type": "stream",
     "text": [
      "100%|███████████████████████████████████████| 646/646 [00:00<00:00, 3424.77it/s]\n"
     ]
    },
    {
     "name": "stdout",
     "output_type": "stream",
     "text": [
      "Picked experiment 7 out of 10, sample 133329\n"
     ]
    },
    {
     "name": "stderr",
     "output_type": "stream",
     "text": [
      "100%|███████████████████████████████████████| 646/646 [00:00<00:00, 3422.12it/s]\n"
     ]
    },
    {
     "name": "stdout",
     "output_type": "stream",
     "text": [
      "Picked experiment 8 out of 10, sample 133582\n"
     ]
    },
    {
     "name": "stderr",
     "output_type": "stream",
     "text": [
      "100%|███████████████████████████████████████| 646/646 [00:00<00:00, 3610.31it/s]\n"
     ]
    },
    {
     "name": "stdout",
     "output_type": "stream",
     "text": [
      "Picked experiment 9 out of 10, sample 88423\n"
     ]
    },
    {
     "name": "stderr",
     "output_type": "stream",
     "text": [
      "100%|███████████████████████████████████████| 646/646 [00:00<00:00, 3781.52it/s]\n"
     ]
    },
    {
     "name": "stdout",
     "output_type": "stream",
     "text": [
      "Picked experiment 10 out of 10, sample 88870\n",
      "DTL progress [0.223677, 0.223677, 0.223677]\n",
      "Updating precision...\n",
      "Evidence -189.326\n",
      "Updating precision...\n",
      "Evidence 647.213\n",
      "Updating precision...\n",
      "Evidence 1324.805\n",
      "Updating precision...\n",
      "Evidence 1788.398\n",
      "Updating precision...\n",
      "Evidence 2024.498\n",
      "Updating precision...\n",
      "Evidence 2107.034\n",
      "Updating precision...\n",
      "Evidence 2141.772\n",
      "Updating precision...\n",
      "Evidence 2152.694\n",
      "Updating precision...\n",
      "Evidence 2156.316\n",
      "Updating precision...\n",
      "Evidence 2157.730\n",
      "Pass count  1\n"
     ]
    },
    {
     "name": "stderr",
     "output_type": "stream",
     "text": [
      "100%|███████████████████████████████████████| 646/646 [00:00<00:00, 2161.63it/s]\n"
     ]
    },
    {
     "name": "stdout",
     "output_type": "stream",
     "text": [
      "Picked experiment 1 out of 10, sample 157587\n"
     ]
    },
    {
     "name": "stderr",
     "output_type": "stream",
     "text": [
      "100%|███████████████████████████████████████| 646/646 [00:00<00:00, 3517.32it/s]\n"
     ]
    },
    {
     "name": "stdout",
     "output_type": "stream",
     "text": [
      "Picked experiment 2 out of 10, sample 88551\n"
     ]
    },
    {
     "name": "stderr",
     "output_type": "stream",
     "text": [
      "100%|███████████████████████████████████████| 646/646 [00:00<00:00, 3548.03it/s]\n"
     ]
    },
    {
     "name": "stdout",
     "output_type": "stream",
     "text": [
      "Picked experiment 3 out of 10, sample 33207\n"
     ]
    },
    {
     "name": "stderr",
     "output_type": "stream",
     "text": [
      "100%|███████████████████████████████████████| 646/646 [00:00<00:00, 3574.42it/s]\n"
     ]
    },
    {
     "name": "stdout",
     "output_type": "stream",
     "text": [
      "Picked experiment 4 out of 10, sample 147443\n"
     ]
    },
    {
     "name": "stderr",
     "output_type": "stream",
     "text": [
      "100%|███████████████████████████████████████| 646/646 [00:00<00:00, 3356.04it/s]\n"
     ]
    },
    {
     "name": "stdout",
     "output_type": "stream",
     "text": [
      "Picked experiment 5 out of 10, sample 157588\n"
     ]
    },
    {
     "name": "stderr",
     "output_type": "stream",
     "text": [
      "100%|███████████████████████████████████████| 646/646 [00:00<00:00, 3418.24it/s]\n"
     ]
    },
    {
     "name": "stdout",
     "output_type": "stream",
     "text": [
      "Picked experiment 6 out of 10, sample 157713\n"
     ]
    },
    {
     "name": "stderr",
     "output_type": "stream",
     "text": [
      "100%|███████████████████████████████████████| 646/646 [00:00<00:00, 3459.13it/s]\n"
     ]
    },
    {
     "name": "stdout",
     "output_type": "stream",
     "text": [
      "Picked experiment 7 out of 10, sample 147444\n"
     ]
    },
    {
     "name": "stderr",
     "output_type": "stream",
     "text": [
      "100%|███████████████████████████████████████| 646/646 [00:00<00:00, 3533.34it/s]\n"
     ]
    },
    {
     "name": "stdout",
     "output_type": "stream",
     "text": [
      "Picked experiment 8 out of 10, sample 34682\n"
     ]
    },
    {
     "name": "stderr",
     "output_type": "stream",
     "text": [
      "100%|███████████████████████████████████████| 646/646 [00:00<00:00, 3423.65it/s]\n"
     ]
    },
    {
     "name": "stdout",
     "output_type": "stream",
     "text": [
      "Picked experiment 9 out of 10, sample 147633\n"
     ]
    },
    {
     "name": "stderr",
     "output_type": "stream",
     "text": [
      "100%|███████████████████████████████████████| 646/646 [00:00<00:00, 3500.66it/s]\n"
     ]
    },
    {
     "name": "stdout",
     "output_type": "stream",
     "text": [
      "Picked experiment 10 out of 10, sample 147634\n",
      "DTL progress [0.223677, 0.223677, 0.223677, 0.223677]\n",
      "Updating precision...\n",
      "Evidence -198.618\n",
      "Updating precision...\n",
      "Evidence 1182.450\n",
      "Updating precision...\n",
      "Evidence 2283.138\n",
      "Updating precision...\n",
      "Evidence 2956.462\n",
      "Updating precision...\n",
      "Evidence 3226.561\n",
      "Updating precision...\n",
      "Evidence 3299.971\n",
      "Updating precision...\n",
      "Evidence 3312.895\n",
      "Updating precision...\n",
      "Evidence 3318.974\n",
      "Updating precision...\n",
      "Evidence 3324.316\n",
      "Updating precision...\n",
      "Evidence 3326.535\n",
      "Pass count  1\n"
     ]
    },
    {
     "name": "stderr",
     "output_type": "stream",
     "text": [
      "100%|███████████████████████████████████████| 646/646 [00:00<00:00, 2118.89it/s]\n"
     ]
    },
    {
     "name": "stdout",
     "output_type": "stream",
     "text": [
      "Picked experiment 1 out of 10, sample 163643\n"
     ]
    },
    {
     "name": "stderr",
     "output_type": "stream",
     "text": [
      "100%|███████████████████████████████████████| 646/646 [00:00<00:00, 3586.41it/s]\n"
     ]
    },
    {
     "name": "stdout",
     "output_type": "stream",
     "text": [
      "Picked experiment 2 out of 10, sample 157595\n"
     ]
    },
    {
     "name": "stderr",
     "output_type": "stream",
     "text": [
      "100%|███████████████████████████████████████| 646/646 [00:00<00:00, 3524.05it/s]\n"
     ]
    },
    {
     "name": "stdout",
     "output_type": "stream",
     "text": [
      "Picked experiment 3 out of 10, sample 111640\n"
     ]
    },
    {
     "name": "stderr",
     "output_type": "stream",
     "text": [
      "100%|███████████████████████████████████████| 646/646 [00:00<00:00, 3542.89it/s]\n"
     ]
    },
    {
     "name": "stdout",
     "output_type": "stream",
     "text": [
      "Picked experiment 4 out of 10, sample 147451\n"
     ]
    },
    {
     "name": "stderr",
     "output_type": "stream",
     "text": [
      "100%|███████████████████████████████████████| 646/646 [00:00<00:00, 3526.83it/s]\n"
     ]
    },
    {
     "name": "stdout",
     "output_type": "stream",
     "text": [
      "Picked experiment 5 out of 10, sample 157721\n"
     ]
    },
    {
     "name": "stderr",
     "output_type": "stream",
     "text": [
      "100%|███████████████████████████████████████| 646/646 [00:00<00:00, 3118.83it/s]\n"
     ]
    },
    {
     "name": "stdout",
     "output_type": "stream",
     "text": [
      "Picked experiment 6 out of 10, sample 113587\n"
     ]
    },
    {
     "name": "stderr",
     "output_type": "stream",
     "text": [
      "100%|███████████████████████████████████████| 646/646 [00:00<00:00, 3459.73it/s]\n"
     ]
    },
    {
     "name": "stdout",
     "output_type": "stream",
     "text": [
      "Picked experiment 7 out of 10, sample 147641\n"
     ]
    },
    {
     "name": "stderr",
     "output_type": "stream",
     "text": [
      "100%|███████████████████████████████████████| 646/646 [00:00<00:00, 3345.08it/s]\n"
     ]
    },
    {
     "name": "stdout",
     "output_type": "stream",
     "text": [
      "Picked experiment 8 out of 10, sample 157846\n"
     ]
    },
    {
     "name": "stderr",
     "output_type": "stream",
     "text": [
      "100%|███████████████████████████████████████| 646/646 [00:00<00:00, 3499.96it/s]\n"
     ]
    },
    {
     "name": "stdout",
     "output_type": "stream",
     "text": [
      "Picked experiment 9 out of 10, sample 111968\n"
     ]
    },
    {
     "name": "stderr",
     "output_type": "stream",
     "text": [
      "100%|███████████████████████████████████████| 646/646 [00:00<00:00, 3456.82it/s]\n"
     ]
    },
    {
     "name": "stdout",
     "output_type": "stream",
     "text": [
      "Picked experiment 10 out of 10, sample 112295\n",
      "DTL progress [0.223677, 0.223677, 0.223677, 0.223677, 0.223677]\n",
      "Updating precision...\n",
      "Evidence -184.370\n",
      "Updating precision...\n",
      "Evidence 1845.900\n",
      "Updating precision...\n",
      "Evidence 3393.541\n",
      "Updating precision...\n",
      "Evidence 4337.007\n",
      "Updating precision...\n",
      "Evidence 4629.636\n",
      "Updating precision...\n",
      "Evidence 4657.788\n",
      "Updating precision...\n",
      "Evidence 4660.252\n",
      "Pass count  1\n"
     ]
    },
    {
     "name": "stderr",
     "output_type": "stream",
     "text": [
      "100%|███████████████████████████████████████| 646/646 [00:00<00:00, 2004.44it/s]\n"
     ]
    },
    {
     "name": "stdout",
     "output_type": "stream",
     "text": [
      "Picked experiment 1 out of 10, sample 92372\n"
     ]
    },
    {
     "name": "stderr",
     "output_type": "stream",
     "text": [
      "100%|███████████████████████████████████████| 646/646 [00:00<00:00, 3453.73it/s]\n"
     ]
    },
    {
     "name": "stdout",
     "output_type": "stream",
     "text": [
      "Picked experiment 2 out of 10, sample 92436\n"
     ]
    },
    {
     "name": "stderr",
     "output_type": "stream",
     "text": [
      "100%|███████████████████████████████████████| 646/646 [00:00<00:00, 3492.71it/s]\n"
     ]
    },
    {
     "name": "stdout",
     "output_type": "stream",
     "text": [
      "Picked experiment 3 out of 10, sample 95774\n"
     ]
    },
    {
     "name": "stderr",
     "output_type": "stream",
     "text": [
      "100%|███████████████████████████████████████| 646/646 [00:00<00:00, 3423.47it/s]\n"
     ]
    },
    {
     "name": "stdout",
     "output_type": "stream",
     "text": [
      "Picked experiment 4 out of 10, sample 88524\n"
     ]
    },
    {
     "name": "stderr",
     "output_type": "stream",
     "text": [
      "100%|███████████████████████████████████████| 646/646 [00:00<00:00, 3439.49it/s]\n"
     ]
    },
    {
     "name": "stdout",
     "output_type": "stream",
     "text": [
      "Picked experiment 5 out of 10, sample 92754\n"
     ]
    },
    {
     "name": "stderr",
     "output_type": "stream",
     "text": [
      "100%|███████████████████████████████████████| 646/646 [00:00<00:00, 3314.08it/s]\n"
     ]
    },
    {
     "name": "stdout",
     "output_type": "stream",
     "text": [
      "Picked experiment 6 out of 10, sample 93135\n"
     ]
    },
    {
     "name": "stderr",
     "output_type": "stream",
     "text": [
      "100%|███████████████████████████████████████| 646/646 [00:00<00:00, 3508.61it/s]\n"
     ]
    },
    {
     "name": "stdout",
     "output_type": "stream",
     "text": [
      "Picked experiment 7 out of 10, sample 52996\n"
     ]
    },
    {
     "name": "stderr",
     "output_type": "stream",
     "text": [
      "100%|███████████████████████████████████████| 646/646 [00:00<00:00, 3569.90it/s]\n"
     ]
    },
    {
     "name": "stdout",
     "output_type": "stream",
     "text": [
      "Picked experiment 8 out of 10, sample 92308\n"
     ]
    },
    {
     "name": "stderr",
     "output_type": "stream",
     "text": [
      "100%|███████████████████████████████████████| 646/646 [00:00<00:00, 3643.41it/s]\n"
     ]
    },
    {
     "name": "stdout",
     "output_type": "stream",
     "text": [
      "Picked experiment 9 out of 10, sample 54886\n"
     ]
    },
    {
     "name": "stderr",
     "output_type": "stream",
     "text": [
      "100%|███████████████████████████████████████| 646/646 [00:00<00:00, 3520.10it/s]\n"
     ]
    },
    {
     "name": "stdout",
     "output_type": "stream",
     "text": [
      "Picked experiment 10 out of 10, sample 92690\n",
      "DTL progress [0.223677, 0.223677, 0.223677, 0.223677, 0.223677, 0.250221]\n"
     ]
    },
    {
     "name": "stderr",
     "output_type": "stream",
     "text": [
      "100%|███████████████████████████████████████| 45/45.0 [00:00<00:00, 1584.50it/s]\n"
     ]
    },
    {
     "name": "stdout",
     "output_type": "stream",
     "text": [
      "Starting with best value 0.19799311\n",
      "Updating precision...\n",
      "Evidence -75.481\n",
      "Updating precision...\n",
      "Evidence 38.101\n",
      "Updating precision...\n",
      "Evidence 107.652\n",
      "Updating precision...\n",
      "Evidence 147.664\n",
      "Updating precision...\n",
      "Evidence 180.947\n",
      "Updating precision...\n",
      "Evidence 204.026\n",
      "Updating precision...\n",
      "Evidence 217.901\n",
      "Updating precision...\n",
      "Evidence 225.691\n",
      "Updating precision...\n",
      "Evidence 229.829\n",
      "Updating precision...\n",
      "Evidence 232.287\n",
      "Updating precision...\n",
      "Evidence 233.501\n",
      "Updating precision...\n",
      "Evidence 225.202\n",
      "Fail count  1\n",
      "Updating precision...\n",
      "Evidence 225.871\n",
      "Updating precision...\n",
      "Evidence 227.594\n",
      "Updating precision...\n",
      "Evidence 229.869\n",
      "Updating precision...\n",
      "Evidence 231.489\n",
      "Updating precision...\n",
      "Evidence 233.534\n",
      "Updating precision...\n",
      "Evidence 235.371\n",
      "Updating precision...\n",
      "Evidence 237.599\n",
      "Updating precision...\n",
      "Evidence 238.818\n",
      "Updating precision...\n",
      "Evidence 239.671\n",
      "Updating precision...\n",
      "Evidence 241.427\n",
      "Updating precision...\n",
      "Evidence 242.169\n",
      "Updating precision...\n",
      "Evidence 242.580\n",
      "Updating precision...\n",
      "Evidence 243.449\n",
      "Updating precision...\n",
      "Evidence 243.924\n",
      "Updating precision...\n",
      "Evidence 244.406\n",
      "Updating precision...\n",
      "Evidence 244.402\n",
      "Pass count  1\n",
      "Fail count  2\n"
     ]
    },
    {
     "name": "stderr",
     "output_type": "stream",
     "text": [
      "100%|███████████████████████████████████████| 646/646 [00:00<00:00, 2355.67it/s]\n"
     ]
    },
    {
     "name": "stdout",
     "output_type": "stream",
     "text": [
      "Picked experiment 1 out of 10, sample 3361\n"
     ]
    },
    {
     "name": "stderr",
     "output_type": "stream",
     "text": [
      "100%|███████████████████████████████████████| 646/646 [00:00<00:00, 3578.08it/s]\n"
     ]
    },
    {
     "name": "stdout",
     "output_type": "stream",
     "text": [
      "Picked experiment 2 out of 10, sample 111643\n"
     ]
    },
    {
     "name": "stderr",
     "output_type": "stream",
     "text": [
      "100%|███████████████████████████████████████| 646/646 [00:00<00:00, 3499.98it/s]\n"
     ]
    },
    {
     "name": "stdout",
     "output_type": "stream",
     "text": [
      "Picked experiment 3 out of 10, sample 565\n"
     ]
    },
    {
     "name": "stderr",
     "output_type": "stream",
     "text": [
      "100%|███████████████████████████████████████| 646/646 [00:00<00:00, 3554.57it/s]\n"
     ]
    },
    {
     "name": "stdout",
     "output_type": "stream",
     "text": [
      "Picked experiment 4 out of 10, sample 30075\n"
     ]
    },
    {
     "name": "stderr",
     "output_type": "stream",
     "text": [
      "100%|███████████████████████████████████████| 646/646 [00:00<00:00, 3558.36it/s]\n"
     ]
    },
    {
     "name": "stdout",
     "output_type": "stream",
     "text": [
      "Picked experiment 5 out of 10, sample 20060\n"
     ]
    },
    {
     "name": "stderr",
     "output_type": "stream",
     "text": [
      "100%|███████████████████████████████████████| 646/646 [00:00<00:00, 3453.66it/s]\n"
     ]
    },
    {
     "name": "stdout",
     "output_type": "stream",
     "text": [
      "Picked experiment 6 out of 10, sample 111971\n"
     ]
    },
    {
     "name": "stderr",
     "output_type": "stream",
     "text": [
      "100%|███████████████████████████████████████| 646/646 [00:00<00:00, 3499.61it/s]\n"
     ]
    },
    {
     "name": "stdout",
     "output_type": "stream",
     "text": [
      "Picked experiment 7 out of 10, sample 30139\n"
     ]
    },
    {
     "name": "stderr",
     "output_type": "stream",
     "text": [
      "100%|███████████████████████████████████████| 646/646 [00:00<00:00, 3419.06it/s]\n"
     ]
    },
    {
     "name": "stdout",
     "output_type": "stream",
     "text": [
      "Picked experiment 8 out of 10, sample 15721\n"
     ]
    },
    {
     "name": "stderr",
     "output_type": "stream",
     "text": [
      "100%|███████████████████████████████████████| 646/646 [00:00<00:00, 3462.34it/s]\n"
     ]
    },
    {
     "name": "stdout",
     "output_type": "stream",
     "text": [
      "Picked experiment 9 out of 10, sample 162916\n"
     ]
    },
    {
     "name": "stderr",
     "output_type": "stream",
     "text": [
      "100%|███████████████████████████████████████| 646/646 [00:00<00:00, 3391.05it/s]\n"
     ]
    },
    {
     "name": "stdout",
     "output_type": "stream",
     "text": [
      "Picked experiment 10 out of 10, sample 1139\n",
      "DTL progress [0.19799311, 0.19799311]\n",
      "Updating precision...\n",
      "Evidence -156.500\n",
      "Updating precision...\n",
      "Evidence 230.533\n",
      "Updating precision...\n",
      "Evidence 542.306\n",
      "Updating precision...\n",
      "Evidence 773.660\n",
      "Updating precision...\n",
      "Evidence 917.143\n",
      "Updating precision...\n",
      "Evidence 1011.404\n",
      "Updating precision...\n",
      "Evidence 1069.916\n",
      "Updating precision...\n",
      "Evidence 1117.703\n",
      "Updating precision...\n",
      "Evidence 1139.724\n",
      "Updating precision...\n",
      "Evidence 1152.310\n",
      "Updating precision...\n",
      "Evidence 1157.738\n",
      "Updating precision...\n",
      "Evidence 1159.985\n",
      "Updating precision...\n",
      "Evidence 1161.048\n",
      "Pass count  1\n"
     ]
    },
    {
     "name": "stderr",
     "output_type": "stream",
     "text": [
      "100%|███████████████████████████████████████| 646/646 [00:00<00:00, 2205.30it/s]\n"
     ]
    },
    {
     "name": "stdout",
     "output_type": "stream",
     "text": [
      "Picked experiment 1 out of 10, sample 139426\n"
     ]
    },
    {
     "name": "stderr",
     "output_type": "stream",
     "text": [
      "100%|███████████████████████████████████████| 646/646 [00:00<00:00, 3500.79it/s]\n"
     ]
    },
    {
     "name": "stdout",
     "output_type": "stream",
     "text": [
      "Picked experiment 2 out of 10, sample 141442\n"
     ]
    },
    {
     "name": "stderr",
     "output_type": "stream",
     "text": [
      "100%|███████████████████████████████████████| 646/646 [00:00<00:00, 3425.98it/s]\n"
     ]
    },
    {
     "name": "stdout",
     "output_type": "stream",
     "text": [
      "Picked experiment 3 out of 10, sample 163643\n"
     ]
    },
    {
     "name": "stderr",
     "output_type": "stream",
     "text": [
      "100%|███████████████████████████████████████| 646/646 [00:00<00:00, 3451.04it/s]\n"
     ]
    },
    {
     "name": "stdout",
     "output_type": "stream",
     "text": [
      "Picked experiment 4 out of 10, sample 141378\n"
     ]
    },
    {
     "name": "stderr",
     "output_type": "stream",
     "text": [
      "100%|███████████████████████████████████████| 646/646 [00:00<00:00, 3390.45it/s]\n"
     ]
    },
    {
     "name": "stdout",
     "output_type": "stream",
     "text": [
      "Picked experiment 5 out of 10, sample 141506\n"
     ]
    },
    {
     "name": "stderr",
     "output_type": "stream",
     "text": [
      "100%|███████████████████████████████████████| 646/646 [00:00<00:00, 3360.95it/s]\n"
     ]
    },
    {
     "name": "stdout",
     "output_type": "stream",
     "text": [
      "Picked experiment 6 out of 10, sample 139490\n"
     ]
    },
    {
     "name": "stderr",
     "output_type": "stream",
     "text": [
      "100%|███████████████████████████████████████| 646/646 [00:00<00:00, 3381.79it/s]\n"
     ]
    },
    {
     "name": "stdout",
     "output_type": "stream",
     "text": [
      "Picked experiment 7 out of 10, sample 143377\n"
     ]
    },
    {
     "name": "stderr",
     "output_type": "stream",
     "text": [
      "100%|███████████████████████████████████████| 646/646 [00:00<00:00, 3370.18it/s]\n"
     ]
    },
    {
     "name": "stdout",
     "output_type": "stream",
     "text": [
      "Picked experiment 8 out of 10, sample 143441\n"
     ]
    },
    {
     "name": "stderr",
     "output_type": "stream",
     "text": [
      "100%|███████████████████████████████████████| 646/646 [00:00<00:00, 3476.05it/s]\n"
     ]
    },
    {
     "name": "stdout",
     "output_type": "stream",
     "text": [
      "Picked experiment 9 out of 10, sample 137329\n"
     ]
    },
    {
     "name": "stderr",
     "output_type": "stream",
     "text": [
      "100%|███████████████████████████████████████| 646/646 [00:00<00:00, 3422.33it/s]\n"
     ]
    },
    {
     "name": "stdout",
     "output_type": "stream",
     "text": [
      "Picked experiment 10 out of 10, sample 120081\n",
      "DTL progress [0.19799311, 0.19799311, 0.19799311]\n",
      "Updating precision...\n",
      "Evidence -168.296\n",
      "Updating precision...\n",
      "Evidence 701.546\n",
      "Updating precision...\n",
      "Evidence 1371.813\n",
      "Updating precision...\n",
      "Evidence 1847.576\n",
      "Updating precision...\n",
      "Evidence 2129.427\n",
      "Updating precision...\n",
      "Evidence 2234.483\n",
      "Updating precision...\n",
      "Evidence 2259.949\n",
      "Updating precision...\n",
      "Evidence 2269.789\n",
      "Updating precision...\n",
      "Evidence 2275.379\n",
      "Updating precision...\n",
      "Evidence 2278.294\n",
      "Updating precision...\n",
      "Evidence 2280.706\n",
      "Updating precision...\n",
      "Evidence 2282.049\n",
      "Pass count  1\n"
     ]
    },
    {
     "name": "stderr",
     "output_type": "stream",
     "text": [
      "100%|███████████████████████████████████████| 646/646 [00:00<00:00, 2106.76it/s]\n"
     ]
    },
    {
     "name": "stdout",
     "output_type": "stream",
     "text": [
      "Picked experiment 1 out of 10, sample 114368\n"
     ]
    },
    {
     "name": "stderr",
     "output_type": "stream",
     "text": [
      "100%|███████████████████████████████████████| 646/646 [00:00<00:00, 3475.24it/s]\n"
     ]
    },
    {
     "name": "stdout",
     "output_type": "stream",
     "text": [
      "Picked experiment 2 out of 10, sample 10305\n"
     ]
    },
    {
     "name": "stderr",
     "output_type": "stream",
     "text": [
      "100%|███████████████████████████████████████| 646/646 [00:00<00:00, 3432.85it/s]\n"
     ]
    },
    {
     "name": "stdout",
     "output_type": "stream",
     "text": [
      "Picked experiment 3 out of 10, sample 190\n"
     ]
    },
    {
     "name": "stderr",
     "output_type": "stream",
     "text": [
      "100%|███████████████████████████████████████| 646/646 [00:00<00:00, 3329.68it/s]\n"
     ]
    },
    {
     "name": "stdout",
     "output_type": "stream",
     "text": [
      "Picked experiment 4 out of 10, sample 114432\n"
     ]
    },
    {
     "name": "stderr",
     "output_type": "stream",
     "text": [
      "100%|███████████████████████████████████████| 646/646 [00:00<00:00, 3383.38it/s]\n"
     ]
    },
    {
     "name": "stdout",
     "output_type": "stream",
     "text": [
      "Picked experiment 5 out of 10, sample 114433\n"
     ]
    },
    {
     "name": "stderr",
     "output_type": "stream",
     "text": [
      "100%|███████████████████████████████████████| 646/646 [00:00<00:00, 3385.07it/s]\n"
     ]
    },
    {
     "name": "stdout",
     "output_type": "stream",
     "text": [
      "Picked experiment 6 out of 10, sample 157577\n"
     ]
    },
    {
     "name": "stderr",
     "output_type": "stream",
     "text": [
      "100%|███████████████████████████████████████| 646/646 [00:00<00:00, 3439.15it/s]\n"
     ]
    },
    {
     "name": "stdout",
     "output_type": "stream",
     "text": [
      "Picked experiment 7 out of 10, sample 126\n"
     ]
    },
    {
     "name": "stderr",
     "output_type": "stream",
     "text": [
      "100%|███████████████████████████████████████| 646/646 [00:00<00:00, 3366.80it/s]\n"
     ]
    },
    {
     "name": "stdout",
     "output_type": "stream",
     "text": [
      "Picked experiment 8 out of 10, sample 114441\n"
     ]
    },
    {
     "name": "stderr",
     "output_type": "stream",
     "text": [
      "100%|███████████████████████████████████████| 646/646 [00:00<00:00, 3214.46it/s]\n"
     ]
    },
    {
     "name": "stdout",
     "output_type": "stream",
     "text": [
      "Picked experiment 9 out of 10, sample 764\n"
     ]
    },
    {
     "name": "stderr",
     "output_type": "stream",
     "text": [
      "100%|███████████████████████████████████████| 646/646 [00:00<00:00, 3499.17it/s]\n"
     ]
    },
    {
     "name": "stdout",
     "output_type": "stream",
     "text": [
      "Picked experiment 10 out of 10, sample 1337\n",
      "DTL progress [0.19799311, 0.19799311, 0.19799311, 0.20590146]\n",
      "Updating precision...\n",
      "Evidence -200.417\n",
      "Updating precision...\n",
      "Evidence 1180.582\n",
      "Updating precision...\n",
      "Evidence 2258.283\n",
      "Updating precision...\n",
      "Evidence 3003.631\n",
      "Updating precision...\n",
      "Evidence 3372.271\n",
      "Updating precision...\n",
      "Evidence 3457.681\n",
      "Updating precision...\n",
      "Evidence 3469.102\n",
      "Updating precision...\n",
      "Evidence 3470.901\n",
      "Pass count  1\n"
     ]
    },
    {
     "name": "stderr",
     "output_type": "stream",
     "text": [
      "100%|███████████████████████████████████████| 646/646 [00:00<00:00, 2188.44it/s]\n"
     ]
    },
    {
     "name": "stdout",
     "output_type": "stream",
     "text": [
      "Picked experiment 1 out of 10, sample 111631\n"
     ]
    },
    {
     "name": "stderr",
     "output_type": "stream",
     "text": [
      "100%|███████████████████████████████████████| 646/646 [00:00<00:00, 3543.00it/s]\n"
     ]
    },
    {
     "name": "stdout",
     "output_type": "stream",
     "text": [
      "Picked experiment 2 out of 10, sample 111640\n"
     ]
    },
    {
     "name": "stderr",
     "output_type": "stream",
     "text": [
      "100%|███████████████████████████████████████| 646/646 [00:00<00:00, 3464.42it/s]\n"
     ]
    },
    {
     "name": "stdout",
     "output_type": "stream",
     "text": [
      "Picked experiment 3 out of 10, sample 116456\n"
     ]
    },
    {
     "name": "stderr",
     "output_type": "stream",
     "text": [
      "100%|███████████████████████████████████████| 646/646 [00:00<00:00, 3518.16it/s]\n"
     ]
    },
    {
     "name": "stdout",
     "output_type": "stream",
     "text": [
      "Picked experiment 4 out of 10, sample 111959\n"
     ]
    },
    {
     "name": "stderr",
     "output_type": "stream",
     "text": [
      "100%|███████████████████████████████████████| 646/646 [00:00<00:00, 3400.81it/s]\n"
     ]
    },
    {
     "name": "stdout",
     "output_type": "stream",
     "text": [
      "Picked experiment 5 out of 10, sample 116321\n"
     ]
    },
    {
     "name": "stderr",
     "output_type": "stream",
     "text": [
      "100%|███████████████████████████████████████| 646/646 [00:00<00:00, 3268.74it/s]\n"
     ]
    },
    {
     "name": "stdout",
     "output_type": "stream",
     "text": [
      "Picked experiment 6 out of 10, sample 119237\n"
     ]
    },
    {
     "name": "stderr",
     "output_type": "stream",
     "text": [
      "100%|███████████████████████████████████████| 646/646 [00:00<00:00, 3493.65it/s]\n"
     ]
    },
    {
     "name": "stdout",
     "output_type": "stream",
     "text": [
      "Picked experiment 7 out of 10, sample 119229\n"
     ]
    },
    {
     "name": "stderr",
     "output_type": "stream",
     "text": [
      "100%|███████████████████████████████████████| 646/646 [00:00<00:00, 3504.80it/s]\n"
     ]
    },
    {
     "name": "stdout",
     "output_type": "stream",
     "text": [
      "Picked experiment 8 out of 10, sample 112286\n"
     ]
    },
    {
     "name": "stderr",
     "output_type": "stream",
     "text": [
      "100%|███████████████████████████████████████| 646/646 [00:00<00:00, 3365.55it/s]\n"
     ]
    },
    {
     "name": "stdout",
     "output_type": "stream",
     "text": [
      "Picked experiment 9 out of 10, sample 34275\n"
     ]
    },
    {
     "name": "stderr",
     "output_type": "stream",
     "text": [
      "100%|███████████████████████████████████████| 646/646 [00:00<00:00, 3375.13it/s]\n"
     ]
    },
    {
     "name": "stdout",
     "output_type": "stream",
     "text": [
      "Picked experiment 10 out of 10, sample 116448\n",
      "DTL progress [0.19799311, 0.19799311, 0.19799311, 0.20590146, 0.23513067]\n",
      "Updating precision...\n",
      "Evidence -190.325\n",
      "Updating precision...\n",
      "Evidence 1783.791\n",
      "Updating precision...\n",
      "Evidence 3310.678\n",
      "Updating precision...\n",
      "Evidence 4160.511\n",
      "Updating precision...\n",
      "Evidence 4400.490\n",
      "Updating precision...\n",
      "Evidence 4461.043\n",
      "Updating precision...\n",
      "Evidence 4473.018\n",
      "Updating precision...\n",
      "Evidence 4475.880\n",
      "Pass count  1\n"
     ]
    },
    {
     "name": "stderr",
     "output_type": "stream",
     "text": [
      "100%|███████████████████████████████████████| 646/646 [00:00<00:00, 2372.70it/s]\n"
     ]
    },
    {
     "name": "stdout",
     "output_type": "stream",
     "text": [
      "Picked experiment 1 out of 10, sample 163635\n"
     ]
    },
    {
     "name": "stderr",
     "output_type": "stream",
     "text": [
      "100%|███████████████████████████████████████| 646/646 [00:00<00:00, 3512.41it/s]\n"
     ]
    },
    {
     "name": "stdout",
     "output_type": "stream",
     "text": [
      "Picked experiment 2 out of 10, sample 34272\n"
     ]
    },
    {
     "name": "stderr",
     "output_type": "stream",
     "text": [
      "100%|███████████████████████████████████████| 646/646 [00:00<00:00, 3492.78it/s]\n"
     ]
    },
    {
     "name": "stdout",
     "output_type": "stream",
     "text": [
      "Picked experiment 3 out of 10, sample 34273\n"
     ]
    },
    {
     "name": "stderr",
     "output_type": "stream",
     "text": [
      "100%|███████████████████████████████████████| 646/646 [00:00<00:00, 3482.20it/s]\n"
     ]
    },
    {
     "name": "stdout",
     "output_type": "stream",
     "text": [
      "Picked experiment 4 out of 10, sample 163697\n"
     ]
    },
    {
     "name": "stderr",
     "output_type": "stream",
     "text": [
      "100%|███████████████████████████████████████| 646/646 [00:00<00:00, 3478.40it/s]\n"
     ]
    },
    {
     "name": "stdout",
     "output_type": "stream",
     "text": [
      "Picked experiment 5 out of 10, sample 34274\n"
     ]
    },
    {
     "name": "stderr",
     "output_type": "stream",
     "text": [
      "100%|███████████████████████████████████████| 646/646 [00:00<00:00, 3381.93it/s]\n"
     ]
    },
    {
     "name": "stdout",
     "output_type": "stream",
     "text": [
      "Picked experiment 6 out of 10, sample 111631\n"
     ]
    },
    {
     "name": "stderr",
     "output_type": "stream",
     "text": [
      "100%|███████████████████████████████████████| 646/646 [00:00<00:00, 3413.52it/s]\n"
     ]
    },
    {
     "name": "stdout",
     "output_type": "stream",
     "text": [
      "Picked experiment 7 out of 10, sample 34336\n"
     ]
    },
    {
     "name": "stderr",
     "output_type": "stream",
     "text": [
      "100%|███████████████████████████████████████| 646/646 [00:00<00:00, 3501.13it/s]\n"
     ]
    },
    {
     "name": "stdout",
     "output_type": "stream",
     "text": [
      "Picked experiment 8 out of 10, sample 111959\n"
     ]
    },
    {
     "name": "stderr",
     "output_type": "stream",
     "text": [
      "100%|███████████████████████████████████████| 646/646 [00:00<00:00, 3418.97it/s]\n"
     ]
    },
    {
     "name": "stdout",
     "output_type": "stream",
     "text": [
      "Picked experiment 9 out of 10, sample 163634\n"
     ]
    },
    {
     "name": "stderr",
     "output_type": "stream",
     "text": [
      "100%|███████████████████████████████████████| 646/646 [00:00<00:00, 3391.33it/s]\n"
     ]
    },
    {
     "name": "stdout",
     "output_type": "stream",
     "text": [
      "Picked experiment 10 out of 10, sample 34275\n",
      "DTL progress [0.19799311, 0.19799311, 0.19799311, 0.20590146, 0.23513067, 0.26654503]\n"
     ]
    },
    {
     "name": "stderr",
     "output_type": "stream",
     "text": [
      "100%|███████████████████████████████████████| 45/45.0 [00:00<00:00, 1306.96it/s]\n"
     ]
    },
    {
     "name": "stdout",
     "output_type": "stream",
     "text": [
      "Starting with best value 0.18459761\n",
      "Updating precision...\n",
      "Evidence -83.729\n",
      "Updating precision...\n",
      "Evidence 16.780\n",
      "Updating precision...\n",
      "Evidence 80.683\n",
      "Updating precision...\n",
      "Evidence 127.755\n",
      "Updating precision...\n",
      "Evidence 163.534\n",
      "Updating precision...\n",
      "Evidence 173.776\n",
      "Updating precision...\n",
      "Evidence 185.924\n",
      "Updating precision...\n",
      "Evidence 193.459\n",
      "Updating precision...\n",
      "Evidence 199.000\n",
      "Updating precision...\n",
      "Evidence 203.468\n",
      "Updating precision...\n",
      "Evidence 207.261\n",
      "Updating precision...\n",
      "Evidence 210.583\n",
      "Updating precision...\n",
      "Evidence 213.498\n",
      "Updating precision...\n",
      "Evidence 216.063\n",
      "Updating precision...\n",
      "Evidence 218.380\n",
      "Updating precision...\n",
      "Evidence 220.456\n",
      "Updating precision...\n",
      "Evidence 222.303\n",
      "Updating precision...\n",
      "Evidence 224.010\n",
      "Updating precision...\n",
      "Evidence 225.457\n",
      "Updating precision...\n",
      "Evidence 226.598\n",
      "Updating precision...\n",
      "Evidence 210.427\n",
      "Fail count  1\n",
      "Updating precision...\n",
      "Evidence 211.555\n",
      "Updating precision...\n",
      "Evidence 212.205\n",
      "Updating precision...\n",
      "Evidence 211.828\n",
      "Fail count  2\n",
      "Updating precision...\n",
      "Evidence 212.646\n",
      "Updating precision...\n",
      "Evidence 213.799\n",
      "Updating precision...\n",
      "Evidence 213.875\n",
      "Pass count  1\n"
     ]
    },
    {
     "name": "stderr",
     "output_type": "stream",
     "text": [
      "100%|███████████████████████████████████████| 646/646 [00:00<00:00, 2378.95it/s]\n"
     ]
    },
    {
     "name": "stdout",
     "output_type": "stream",
     "text": [
      "Picked experiment 1 out of 10, sample 141728\n"
     ]
    },
    {
     "name": "stderr",
     "output_type": "stream",
     "text": [
      "100%|███████████████████████████████████████| 646/646 [00:00<00:00, 3632.19it/s]\n"
     ]
    },
    {
     "name": "stdout",
     "output_type": "stream",
     "text": [
      "Picked experiment 2 out of 10, sample 95081\n"
     ]
    },
    {
     "name": "stderr",
     "output_type": "stream",
     "text": [
      "100%|███████████████████████████████████████| 646/646 [00:00<00:00, 3476.45it/s]\n"
     ]
    },
    {
     "name": "stdout",
     "output_type": "stream",
     "text": [
      "Picked experiment 3 out of 10, sample 65918\n"
     ]
    },
    {
     "name": "stderr",
     "output_type": "stream",
     "text": [
      "100%|███████████████████████████████████████| 646/646 [00:00<00:00, 3418.02it/s]\n"
     ]
    },
    {
     "name": "stdout",
     "output_type": "stream",
     "text": [
      "Picked experiment 4 out of 10, sample 147454\n"
     ]
    },
    {
     "name": "stderr",
     "output_type": "stream",
     "text": [
      "100%|███████████████████████████████████████| 646/646 [00:00<00:00, 3351.84it/s]\n"
     ]
    },
    {
     "name": "stdout",
     "output_type": "stream",
     "text": [
      "Picked experiment 5 out of 10, sample 25414\n"
     ]
    },
    {
     "name": "stderr",
     "output_type": "stream",
     "text": [
      "100%|███████████████████████████████████████| 646/646 [00:00<00:00, 3261.62it/s]\n"
     ]
    },
    {
     "name": "stdout",
     "output_type": "stream",
     "text": [
      "Picked experiment 6 out of 10, sample 88571\n"
     ]
    },
    {
     "name": "stderr",
     "output_type": "stream",
     "text": [
      "100%|███████████████████████████████████████| 646/646 [00:00<00:00, 3478.39it/s]\n"
     ]
    },
    {
     "name": "stdout",
     "output_type": "stream",
     "text": [
      "Picked experiment 7 out of 10, sample 92446\n"
     ]
    },
    {
     "name": "stderr",
     "output_type": "stream",
     "text": [
      "100%|███████████████████████████████████████| 646/646 [00:00<00:00, 3438.05it/s]\n"
     ]
    },
    {
     "name": "stdout",
     "output_type": "stream",
     "text": [
      "Picked experiment 8 out of 10, sample 4571\n"
     ]
    },
    {
     "name": "stderr",
     "output_type": "stream",
     "text": [
      "100%|███████████████████████████████████████| 646/646 [00:00<00:00, 3301.40it/s]\n"
     ]
    },
    {
     "name": "stdout",
     "output_type": "stream",
     "text": [
      "Picked experiment 9 out of 10, sample 163646\n"
     ]
    },
    {
     "name": "stderr",
     "output_type": "stream",
     "text": [
      "100%|███████████████████████████████████████| 646/646 [00:00<00:00, 3627.09it/s]\n"
     ]
    },
    {
     "name": "stdout",
     "output_type": "stream",
     "text": [
      "Picked experiment 10 out of 10, sample 111624\n",
      "DTL progress [0.18459761, 0.2009079]\n",
      "Updating precision...\n",
      "Evidence -162.603\n",
      "Updating precision...\n",
      "Evidence 251.090\n",
      "Updating precision...\n",
      "Evidence 590.756\n",
      "Updating precision...\n",
      "Evidence 853.862\n",
      "Updating precision...\n",
      "Evidence 1029.448\n",
      "Updating precision...\n",
      "Evidence 1139.313\n",
      "Updating precision...\n",
      "Evidence 1202.375\n",
      "Updating precision...\n",
      "Evidence 1228.185\n",
      "Updating precision...\n",
      "Evidence 1237.258\n",
      "Updating precision...\n",
      "Evidence 1240.050\n",
      "Updating precision...\n",
      "Evidence 1239.486\n",
      "Pass count  1\n",
      "Fail count  1\n"
     ]
    },
    {
     "name": "stderr",
     "output_type": "stream",
     "text": [
      "100%|███████████████████████████████████████| 646/646 [00:00<00:00, 2108.62it/s]\n"
     ]
    },
    {
     "name": "stdout",
     "output_type": "stream",
     "text": [
      "Picked experiment 1 out of 10, sample 132956\n"
     ]
    },
    {
     "name": "stderr",
     "output_type": "stream",
     "text": [
      "100%|███████████████████████████████████████| 646/646 [00:00<00:00, 3468.16it/s]\n"
     ]
    },
    {
     "name": "stdout",
     "output_type": "stream",
     "text": [
      "Picked experiment 2 out of 10, sample 147260\n"
     ]
    },
    {
     "name": "stderr",
     "output_type": "stream",
     "text": [
      "100%|███████████████████████████████████████| 646/646 [00:00<00:00, 3450.91it/s]\n"
     ]
    },
    {
     "name": "stdout",
     "output_type": "stream",
     "text": [
      "Picked experiment 3 out of 10, sample 132947\n"
     ]
    },
    {
     "name": "stderr",
     "output_type": "stream",
     "text": [
      "100%|███████████████████████████████████████| 646/646 [00:00<00:00, 3439.25it/s]\n"
     ]
    },
    {
     "name": "stdout",
     "output_type": "stream",
     "text": [
      "Picked experiment 4 out of 10, sample 114529\n"
     ]
    },
    {
     "name": "stderr",
     "output_type": "stream",
     "text": [
      "100%|███████████████████████████████████████| 646/646 [00:00<00:00, 3384.04it/s]\n"
     ]
    },
    {
     "name": "stdout",
     "output_type": "stream",
     "text": [
      "Picked experiment 5 out of 10, sample 147251\n"
     ]
    },
    {
     "name": "stderr",
     "output_type": "stream",
     "text": [
      "100%|███████████████████████████████████████| 646/646 [00:00<00:00, 3277.26it/s]\n"
     ]
    },
    {
     "name": "stdout",
     "output_type": "stream",
     "text": [
      "Picked experiment 6 out of 10, sample 132957\n"
     ]
    },
    {
     "name": "stderr",
     "output_type": "stream",
     "text": [
      "100%|███████████████████████████████████████| 646/646 [00:00<00:00, 3629.88it/s]\n"
     ]
    },
    {
     "name": "stdout",
     "output_type": "stream",
     "text": [
      "Picked experiment 7 out of 10, sample 114556\n"
     ]
    },
    {
     "name": "stderr",
     "output_type": "stream",
     "text": [
      "100%|███████████████████████████████████████| 646/646 [00:00<00:00, 3415.13it/s]\n"
     ]
    },
    {
     "name": "stdout",
     "output_type": "stream",
     "text": [
      "Picked experiment 8 out of 10, sample 114547\n"
     ]
    },
    {
     "name": "stderr",
     "output_type": "stream",
     "text": [
      "100%|███████████████████████████████████████| 646/646 [00:00<00:00, 3688.24it/s]\n"
     ]
    },
    {
     "name": "stdout",
     "output_type": "stream",
     "text": [
      "Picked experiment 9 out of 10, sample 132955\n"
     ]
    },
    {
     "name": "stderr",
     "output_type": "stream",
     "text": [
      "100%|███████████████████████████████████████| 646/646 [00:00<00:00, 3334.02it/s]\n"
     ]
    },
    {
     "name": "stdout",
     "output_type": "stream",
     "text": [
      "Picked experiment 10 out of 10, sample 132938\n",
      "DTL progress [0.18459761, 0.2009079, 0.2009079]\n",
      "Updating precision...\n",
      "Evidence -176.699\n",
      "Updating precision...\n",
      "Evidence 698.153\n",
      "Updating precision...\n",
      "Evidence 1392.541\n",
      "Updating precision...\n",
      "Evidence 1893.689\n",
      "Updating precision...\n",
      "Evidence 2196.087\n",
      "Updating precision...\n",
      "Evidence 2344.935\n",
      "Updating precision...\n",
      "Evidence 2375.623\n",
      "Updating precision...\n",
      "Evidence 2381.089\n",
      "Updating precision...\n",
      "Evidence 2381.656\n",
      "Pass count  1\n"
     ]
    },
    {
     "name": "stderr",
     "output_type": "stream",
     "text": [
      "100%|███████████████████████████████████████| 646/646 [00:00<00:00, 2339.50it/s]\n"
     ]
    },
    {
     "name": "stdout",
     "output_type": "stream",
     "text": [
      "Picked experiment 1 out of 10, sample 34763\n"
     ]
    },
    {
     "name": "stderr",
     "output_type": "stream",
     "text": [
      "100%|███████████████████████████████████████| 646/646 [00:00<00:00, 3415.90it/s]\n"
     ]
    },
    {
     "name": "stdout",
     "output_type": "stream",
     "text": [
      "Picked experiment 2 out of 10, sample 34754\n"
     ]
    },
    {
     "name": "stderr",
     "output_type": "stream",
     "text": [
      "100%|███████████████████████████████████████| 646/646 [00:00<00:00, 3252.19it/s]\n"
     ]
    },
    {
     "name": "stdout",
     "output_type": "stream",
     "text": [
      "Picked experiment 3 out of 10, sample 65451\n"
     ]
    },
    {
     "name": "stderr",
     "output_type": "stream",
     "text": [
      "100%|███████████████████████████████████████| 646/646 [00:00<00:00, 2884.50it/s]\n"
     ]
    },
    {
     "name": "stdout",
     "output_type": "stream",
     "text": [
      "Picked experiment 4 out of 10, sample 114183\n"
     ]
    },
    {
     "name": "stderr",
     "output_type": "stream",
     "text": [
      "100%|███████████████████████████████████████| 646/646 [00:00<00:00, 3374.43it/s]\n"
     ]
    },
    {
     "name": "stdout",
     "output_type": "stream",
     "text": [
      "Picked experiment 5 out of 10, sample 34699\n"
     ]
    },
    {
     "name": "stderr",
     "output_type": "stream",
     "text": [
      "100%|███████████████████████████████████████| 646/646 [00:00<00:00, 3393.55it/s]\n"
     ]
    },
    {
     "name": "stdout",
     "output_type": "stream",
     "text": [
      "Picked experiment 6 out of 10, sample 132646\n"
     ]
    },
    {
     "name": "stderr",
     "output_type": "stream",
     "text": [
      "100%|███████████████████████████████████████| 646/646 [00:00<00:00, 3388.96it/s]\n"
     ]
    },
    {
     "name": "stdout",
     "output_type": "stream",
     "text": [
      "Picked experiment 7 out of 10, sample 33042\n"
     ]
    },
    {
     "name": "stderr",
     "output_type": "stream",
     "text": [
      "100%|███████████████████████████████████████| 646/646 [00:00<00:00, 3333.97it/s]\n"
     ]
    },
    {
     "name": "stdout",
     "output_type": "stream",
     "text": [
      "Picked experiment 8 out of 10, sample 34708\n"
     ]
    },
    {
     "name": "stderr",
     "output_type": "stream",
     "text": [
      "100%|███████████████████████████████████████| 646/646 [00:00<00:00, 3360.82it/s]\n"
     ]
    },
    {
     "name": "stdout",
     "output_type": "stream",
     "text": [
      "Picked experiment 9 out of 10, sample 34772\n"
     ]
    },
    {
     "name": "stderr",
     "output_type": "stream",
     "text": [
      "100%|███████████████████████████████████████| 646/646 [00:00<00:00, 3525.38it/s]\n"
     ]
    },
    {
     "name": "stdout",
     "output_type": "stream",
     "text": [
      "Picked experiment 10 out of 10, sample 114182\n",
      "DTL progress [0.18459761, 0.2009079, 0.2009079, 0.2009079]\n",
      "Updating precision...\n",
      "Evidence -203.088\n",
      "Updating precision...\n",
      "Evidence 1133.492\n",
      "Updating precision...\n",
      "Evidence 2200.152\n",
      "Updating precision...\n",
      "Evidence 2944.188\n",
      "Updating precision...\n",
      "Evidence 3298.154\n",
      "Updating precision...\n",
      "Evidence 3405.181\n",
      "Updating precision...\n",
      "Evidence 3416.311\n",
      "Updating precision...\n",
      "Evidence 3418.123\n",
      "Pass count  1\n"
     ]
    },
    {
     "name": "stderr",
     "output_type": "stream",
     "text": [
      "100%|███████████████████████████████████████| 646/646 [00:00<00:00, 2472.05it/s]\n"
     ]
    },
    {
     "name": "stdout",
     "output_type": "stream",
     "text": [
      "Picked experiment 1 out of 10, sample 34955\n"
     ]
    },
    {
     "name": "stderr",
     "output_type": "stream",
     "text": [
      "100%|███████████████████████████████████████| 646/646 [00:00<00:00, 3446.37it/s]\n"
     ]
    },
    {
     "name": "stdout",
     "output_type": "stream",
     "text": [
      "Picked experiment 2 out of 10, sample 34946\n"
     ]
    },
    {
     "name": "stderr",
     "output_type": "stream",
     "text": [
      "100%|███████████████████████████████████████| 646/646 [00:00<00:00, 3493.73it/s]\n"
     ]
    },
    {
     "name": "stdout",
     "output_type": "stream",
     "text": [
      "Picked experiment 3 out of 10, sample 70856\n"
     ]
    },
    {
     "name": "stderr",
     "output_type": "stream",
     "text": [
      "100%|███████████████████████████████████████| 646/646 [00:00<00:00, 3465.32it/s]\n"
     ]
    },
    {
     "name": "stdout",
     "output_type": "stream",
     "text": [
      "Picked experiment 4 out of 10, sample 67348\n"
     ]
    },
    {
     "name": "stderr",
     "output_type": "stream",
     "text": [
      "100%|███████████████████████████████████████| 646/646 [00:00<00:00, 3535.24it/s]\n"
     ]
    },
    {
     "name": "stdout",
     "output_type": "stream",
     "text": [
      "Picked experiment 5 out of 10, sample 34339\n"
     ]
    },
    {
     "name": "stderr",
     "output_type": "stream",
     "text": [
      "100%|███████████████████████████████████████| 646/646 [00:00<00:00, 3460.79it/s]\n"
     ]
    },
    {
     "name": "stdout",
     "output_type": "stream",
     "text": [
      "Picked experiment 6 out of 10, sample 34336\n"
     ]
    },
    {
     "name": "stderr",
     "output_type": "stream",
     "text": [
      "100%|███████████████████████████████████████| 646/646 [00:00<00:00, 3412.85it/s]\n"
     ]
    },
    {
     "name": "stdout",
     "output_type": "stream",
     "text": [
      "Picked experiment 7 out of 10, sample 111632\n"
     ]
    },
    {
     "name": "stderr",
     "output_type": "stream",
     "text": [
      "100%|███████████████████████████████████████| 646/646 [00:00<00:00, 3435.13it/s]\n"
     ]
    },
    {
     "name": "stdout",
     "output_type": "stream",
     "text": [
      "Picked experiment 8 out of 10, sample 65570\n"
     ]
    },
    {
     "name": "stderr",
     "output_type": "stream",
     "text": [
      "100%|███████████████████████████████████████| 646/646 [00:00<00:00, 3352.77it/s]\n"
     ]
    },
    {
     "name": "stdout",
     "output_type": "stream",
     "text": [
      "Picked experiment 9 out of 10, sample 67357\n"
     ]
    },
    {
     "name": "stderr",
     "output_type": "stream",
     "text": [
      "100%|███████████████████████████████████████| 646/646 [00:00<00:00, 3456.66it/s]\n"
     ]
    },
    {
     "name": "stdout",
     "output_type": "stream",
     "text": [
      "Picked experiment 10 out of 10, sample 163636\n",
      "DTL progress [0.18459761, 0.2009079, 0.2009079, 0.2009079, 0.26654503]\n",
      "Updating precision...\n",
      "Evidence -191.083\n",
      "Updating precision...\n",
      "Evidence 1780.538\n",
      "Updating precision...\n",
      "Evidence 3321.090\n",
      "Updating precision...\n",
      "Evidence 4297.602\n",
      "Updating precision...\n",
      "Evidence 4602.557\n",
      "Updating precision...\n",
      "Evidence 4643.325\n",
      "Updating precision...\n",
      "Evidence 4646.111\n",
      "Pass count  1\n"
     ]
    },
    {
     "name": "stderr",
     "output_type": "stream",
     "text": [
      "100%|███████████████████████████████████████| 646/646 [00:00<00:00, 2024.65it/s]\n"
     ]
    },
    {
     "name": "stdout",
     "output_type": "stream",
     "text": [
      "Picked experiment 1 out of 10, sample 34272\n"
     ]
    },
    {
     "name": "stderr",
     "output_type": "stream",
     "text": [
      "100%|███████████████████████████████████████| 646/646 [00:00<00:00, 3419.47it/s]\n"
     ]
    },
    {
     "name": "stdout",
     "output_type": "stream",
     "text": [
      "Picked experiment 2 out of 10, sample 34336\n"
     ]
    },
    {
     "name": "stderr",
     "output_type": "stream",
     "text": [
      "100%|███████████████████████████████████████| 646/646 [00:00<00:00, 3448.79it/s]\n"
     ]
    },
    {
     "name": "stdout",
     "output_type": "stream",
     "text": [
      "Picked experiment 3 out of 10, sample 111632\n"
     ]
    },
    {
     "name": "stderr",
     "output_type": "stream",
     "text": [
      "100%|███████████████████████████████████████| 646/646 [00:00<00:00, 3422.99it/s]\n"
     ]
    },
    {
     "name": "stdout",
     "output_type": "stream",
     "text": [
      "Picked experiment 4 out of 10, sample 34337\n"
     ]
    },
    {
     "name": "stderr",
     "output_type": "stream",
     "text": [
      "100%|███████████████████████████████████████| 646/646 [00:00<00:00, 3314.47it/s]\n"
     ]
    },
    {
     "name": "stdout",
     "output_type": "stream",
     "text": [
      "Picked experiment 5 out of 10, sample 34338\n"
     ]
    },
    {
     "name": "stderr",
     "output_type": "stream",
     "text": [
      "100%|███████████████████████████████████████| 646/646 [00:00<00:00, 3428.47it/s]\n"
     ]
    },
    {
     "name": "stdout",
     "output_type": "stream",
     "text": [
      "Picked experiment 6 out of 10, sample 34273\n"
     ]
    },
    {
     "name": "stderr",
     "output_type": "stream",
     "text": [
      "100%|███████████████████████████████████████| 646/646 [00:00<00:00, 3474.41it/s]\n"
     ]
    },
    {
     "name": "stdout",
     "output_type": "stream",
     "text": [
      "Picked experiment 7 out of 10, sample 34339\n"
     ]
    },
    {
     "name": "stderr",
     "output_type": "stream",
     "text": [
      "100%|███████████████████████████████████████| 646/646 [00:00<00:00, 3314.79it/s]\n"
     ]
    },
    {
     "name": "stdout",
     "output_type": "stream",
     "text": [
      "Picked experiment 8 out of 10, sample 34274\n"
     ]
    },
    {
     "name": "stderr",
     "output_type": "stream",
     "text": [
      "100%|███████████████████████████████████████| 646/646 [00:00<00:00, 3358.45it/s]\n"
     ]
    },
    {
     "name": "stdout",
     "output_type": "stream",
     "text": [
      "Picked experiment 9 out of 10, sample 34281\n"
     ]
    },
    {
     "name": "stderr",
     "output_type": "stream",
     "text": [
      "100%|███████████████████████████████████████| 646/646 [00:00<00:00, 3357.57it/s]\n"
     ]
    },
    {
     "name": "stdout",
     "output_type": "stream",
     "text": [
      "Picked experiment 10 out of 10, sample 34282\n",
      "DTL progress [0.18459761, 0.2009079, 0.2009079, 0.2009079, 0.26654503, 0.26654503]\n"
     ]
    },
    {
     "name": "stderr",
     "output_type": "stream",
     "text": [
      "100%|███████████████████████████████████████| 45/45.0 [00:00<00:00, 1634.65it/s]\n"
     ]
    },
    {
     "name": "stdout",
     "output_type": "stream",
     "text": [
      "Starting with best value 0.22017725\n",
      "Updating precision...\n",
      "Evidence -79.339\n",
      "Updating precision...\n",
      "Evidence 27.088\n",
      "Updating precision...\n",
      "Evidence 102.932\n",
      "Updating precision...\n",
      "Evidence 154.146\n",
      "Updating precision...\n",
      "Evidence 190.795\n",
      "Updating precision...\n",
      "Evidence 217.854\n",
      "Updating precision...\n",
      "Evidence 227.185\n",
      "Updating precision...\n",
      "Evidence 238.226\n",
      "Updating precision...\n",
      "Evidence 245.112\n",
      "Updating precision...\n",
      "Evidence 248.424\n",
      "Updating precision...\n",
      "Evidence 248.318\n",
      "Pass count  1\n",
      "Fail count  1\n"
     ]
    },
    {
     "name": "stderr",
     "output_type": "stream",
     "text": [
      "100%|███████████████████████████████████████| 646/646 [00:00<00:00, 2413.42it/s]\n"
     ]
    },
    {
     "name": "stdout",
     "output_type": "stream",
     "text": [
      "Picked experiment 1 out of 10, sample 92126\n"
     ]
    },
    {
     "name": "stderr",
     "output_type": "stream",
     "text": [
      "100%|███████████████████████████████████████| 646/646 [00:00<00:00, 3484.08it/s]\n"
     ]
    },
    {
     "name": "stdout",
     "output_type": "stream",
     "text": [
      "Picked experiment 2 out of 10, sample 30084\n"
     ]
    },
    {
     "name": "stderr",
     "output_type": "stream",
     "text": [
      "100%|███████████████████████████████████████| 646/646 [00:00<00:00, 3489.66it/s]\n"
     ]
    },
    {
     "name": "stdout",
     "output_type": "stream",
     "text": [
      "Picked experiment 3 out of 10, sample 33235\n"
     ]
    },
    {
     "name": "stderr",
     "output_type": "stream",
     "text": [
      "100%|███████████████████████████████████████| 646/646 [00:00<00:00, 3412.31it/s]\n"
     ]
    },
    {
     "name": "stdout",
     "output_type": "stream",
     "text": [
      "Picked experiment 4 out of 10, sample 94337\n"
     ]
    },
    {
     "name": "stderr",
     "output_type": "stream",
     "text": [
      "100%|███████████████████████████████████████| 646/646 [00:00<00:00, 3464.39it/s]\n"
     ]
    },
    {
     "name": "stdout",
     "output_type": "stream",
     "text": [
      "Picked experiment 5 out of 10, sample 34400\n"
     ]
    },
    {
     "name": "stderr",
     "output_type": "stream",
     "text": [
      "100%|███████████████████████████████████████| 646/646 [00:00<00:00, 3528.27it/s]\n"
     ]
    },
    {
     "name": "stdout",
     "output_type": "stream",
     "text": [
      "Picked experiment 6 out of 10, sample 116135\n"
     ]
    },
    {
     "name": "stderr",
     "output_type": "stream",
     "text": [
      "100%|███████████████████████████████████████| 646/646 [00:00<00:00, 3546.85it/s]\n"
     ]
    },
    {
     "name": "stdout",
     "output_type": "stream",
     "text": [
      "Picked experiment 7 out of 10, sample 2860\n"
     ]
    },
    {
     "name": "stderr",
     "output_type": "stream",
     "text": [
      "100%|███████████████████████████████████████| 646/646 [00:00<00:00, 3446.05it/s]\n"
     ]
    },
    {
     "name": "stdout",
     "output_type": "stream",
     "text": [
      "Picked experiment 8 out of 10, sample 2220\n"
     ]
    },
    {
     "name": "stderr",
     "output_type": "stream",
     "text": [
      "100%|███████████████████████████████████████| 646/646 [00:00<00:00, 3481.36it/s]\n"
     ]
    },
    {
     "name": "stdout",
     "output_type": "stream",
     "text": [
      "Picked experiment 9 out of 10, sample 34720\n"
     ]
    },
    {
     "name": "stderr",
     "output_type": "stream",
     "text": [
      "100%|███████████████████████████████████████| 646/646 [00:00<00:00, 3386.35it/s]\n"
     ]
    },
    {
     "name": "stdout",
     "output_type": "stream",
     "text": [
      "Picked experiment 10 out of 10, sample 4498\n",
      "DTL progress [0.22017725, 0.22017725]\n",
      "Updating precision...\n",
      "Evidence -159.056\n",
      "Updating precision...\n",
      "Evidence 235.727\n",
      "Updating precision...\n",
      "Evidence 533.713\n",
      "Updating precision...\n",
      "Evidence 749.444\n",
      "Updating precision...\n",
      "Evidence 901.351\n",
      "Updating precision...\n",
      "Evidence 1006.274\n",
      "Updating precision...\n",
      "Evidence 1061.607\n",
      "Updating precision...\n",
      "Evidence 1085.114\n",
      "Updating precision...\n",
      "Evidence 1095.027\n",
      "Updating precision...\n",
      "Evidence 1106.274\n",
      "Updating precision...\n",
      "Evidence 1109.666\n",
      "Updating precision...\n",
      "Evidence 1111.260\n",
      "Updating precision...\n",
      "Evidence 1112.172\n",
      "Pass count  1\n"
     ]
    },
    {
     "name": "stderr",
     "output_type": "stream",
     "text": [
      "100%|███████████████████████████████████████| 646/646 [00:00<00:00, 2447.75it/s]\n"
     ]
    },
    {
     "name": "stdout",
     "output_type": "stream",
     "text": [
      "Picked experiment 1 out of 10, sample 147453\n"
     ]
    },
    {
     "name": "stderr",
     "output_type": "stream",
     "text": [
      "100%|███████████████████████████████████████| 646/646 [00:00<00:00, 3516.01it/s]\n"
     ]
    },
    {
     "name": "stdout",
     "output_type": "stream",
     "text": [
      "Picked experiment 2 out of 10, sample 147643\n"
     ]
    },
    {
     "name": "stderr",
     "output_type": "stream",
     "text": [
      "100%|███████████████████████████████████████| 646/646 [00:00<00:00, 3505.99it/s]\n"
     ]
    },
    {
     "name": "stdout",
     "output_type": "stream",
     "text": [
      "Picked experiment 3 out of 10, sample 156283\n"
     ]
    },
    {
     "name": "stderr",
     "output_type": "stream",
     "text": [
      "100%|███████████████████████████████████████| 646/646 [00:00<00:00, 3446.51it/s]\n"
     ]
    },
    {
     "name": "stdout",
     "output_type": "stream",
     "text": [
      "Picked experiment 4 out of 10, sample 100482\n"
     ]
    },
    {
     "name": "stderr",
     "output_type": "stream",
     "text": [
      "100%|███████████████████████████████████████| 646/646 [00:00<00:00, 3383.61it/s]\n"
     ]
    },
    {
     "name": "stdout",
     "output_type": "stream",
     "text": [
      "Picked experiment 5 out of 10, sample 156419\n"
     ]
    },
    {
     "name": "stderr",
     "output_type": "stream",
     "text": [
      "100%|███████████████████████████████████████| 646/646 [00:00<00:00, 3431.94it/s]\n"
     ]
    },
    {
     "name": "stdout",
     "output_type": "stream",
     "text": [
      "Picked experiment 6 out of 10, sample 34272\n"
     ]
    },
    {
     "name": "stderr",
     "output_type": "stream",
     "text": [
      "100%|███████████████████████████████████████| 646/646 [00:00<00:00, 3438.05it/s]\n"
     ]
    },
    {
     "name": "stdout",
     "output_type": "stream",
     "text": [
      "Picked experiment 7 out of 10, sample 155014\n"
     ]
    },
    {
     "name": "stderr",
     "output_type": "stream",
     "text": [
      "100%|███████████████████████████████████████| 646/646 [00:00<00:00, 3465.65it/s]\n"
     ]
    },
    {
     "name": "stdout",
     "output_type": "stream",
     "text": [
      "Picked experiment 8 out of 10, sample 156554\n"
     ]
    },
    {
     "name": "stderr",
     "output_type": "stream",
     "text": [
      "100%|███████████████████████████████████████| 646/646 [00:00<00:00, 3288.04it/s]\n"
     ]
    },
    {
     "name": "stdout",
     "output_type": "stream",
     "text": [
      "Picked experiment 9 out of 10, sample 155159\n"
     ]
    },
    {
     "name": "stderr",
     "output_type": "stream",
     "text": [
      "100%|███████████████████████████████████████| 646/646 [00:00<00:00, 3376.06it/s]\n"
     ]
    },
    {
     "name": "stdout",
     "output_type": "stream",
     "text": [
      "Picked experiment 10 out of 10, sample 149127\n",
      "DTL progress [0.22017725, 0.22017725, 0.23723325]\n",
      "Updating precision...\n",
      "Evidence -195.691\n",
      "Updating precision...\n",
      "Evidence 601.440\n",
      "Updating precision...\n",
      "Evidence 1278.617\n",
      "Updating precision...\n",
      "Evidence 1775.249\n",
      "Updating precision...\n",
      "Evidence 2082.798\n",
      "Updating precision...\n",
      "Evidence 2200.271\n",
      "Updating precision...\n",
      "Evidence 2235.012\n",
      "Updating precision...\n",
      "Evidence 2243.456\n",
      "Updating precision...\n",
      "Evidence 2245.540\n",
      "Pass count  1\n"
     ]
    },
    {
     "name": "stderr",
     "output_type": "stream",
     "text": [
      "100%|███████████████████████████████████████| 646/646 [00:00<00:00, 2437.97it/s]\n"
     ]
    },
    {
     "name": "stdout",
     "output_type": "stream",
     "text": [
      "Picked experiment 1 out of 10, sample 92244\n"
     ]
    },
    {
     "name": "stderr",
     "output_type": "stream",
     "text": [
      "100%|███████████████████████████████████████| 646/646 [00:00<00:00, 3535.41it/s]\n"
     ]
    },
    {
     "name": "stdout",
     "output_type": "stream",
     "text": [
      "Picked experiment 2 out of 10, sample 157588\n"
     ]
    },
    {
     "name": "stderr",
     "output_type": "stream",
     "text": [
      "100%|███████████████████████████████████████| 646/646 [00:00<00:00, 3545.42it/s]\n"
     ]
    },
    {
     "name": "stdout",
     "output_type": "stream",
     "text": [
      "Picked experiment 3 out of 10, sample 34272\n"
     ]
    },
    {
     "name": "stderr",
     "output_type": "stream",
     "text": [
      "100%|███████████████████████████████████████| 646/646 [00:00<00:00, 3569.48it/s]\n"
     ]
    },
    {
     "name": "stdout",
     "output_type": "stream",
     "text": [
      "Picked experiment 4 out of 10, sample 99087\n"
     ]
    },
    {
     "name": "stderr",
     "output_type": "stream",
     "text": [
      "100%|███████████████████████████████████████| 646/646 [00:00<00:00, 3395.23it/s]\n"
     ]
    },
    {
     "name": "stdout",
     "output_type": "stream",
     "text": [
      "Picked experiment 5 out of 10, sample 102272\n"
     ]
    },
    {
     "name": "stderr",
     "output_type": "stream",
     "text": [
      "100%|███████████████████████████████████████| 646/646 [00:00<00:00, 3358.00it/s]\n"
     ]
    },
    {
     "name": "stdout",
     "output_type": "stream",
     "text": [
      "Picked experiment 6 out of 10, sample 99032\n"
     ]
    },
    {
     "name": "stderr",
     "output_type": "stream",
     "text": [
      "100%|███████████████████████████████████████| 646/646 [00:00<00:00, 3532.30it/s]\n"
     ]
    },
    {
     "name": "stdout",
     "output_type": "stream",
     "text": [
      "Picked experiment 7 out of 10, sample 102273\n"
     ]
    },
    {
     "name": "stderr",
     "output_type": "stream",
     "text": [
      "100%|███████████████████████████████████████| 646/646 [00:00<00:00, 3332.40it/s]\n"
     ]
    },
    {
     "name": "stdout",
     "output_type": "stream",
     "text": [
      "Picked experiment 8 out of 10, sample 99033\n"
     ]
    },
    {
     "name": "stderr",
     "output_type": "stream",
     "text": [
      "100%|███████████████████████████████████████| 646/646 [00:00<00:00, 3502.76it/s]\n"
     ]
    },
    {
     "name": "stdout",
     "output_type": "stream",
     "text": [
      "Picked experiment 9 out of 10, sample 92235\n"
     ]
    },
    {
     "name": "stderr",
     "output_type": "stream",
     "text": [
      "100%|███████████████████████████████████████| 646/646 [00:00<00:00, 3407.40it/s]\n"
     ]
    },
    {
     "name": "stdout",
     "output_type": "stream",
     "text": [
      "Picked experiment 10 out of 10, sample 34273\n",
      "DTL progress [0.22017725, 0.22017725, 0.23723325, 0.23723325]\n",
      "Updating precision...\n",
      "Evidence -201.986\n",
      "Updating precision...\n",
      "Evidence 1157.880\n",
      "Updating precision...\n",
      "Evidence 2251.586\n",
      "Updating precision...\n",
      "Evidence 3028.550\n",
      "Updating precision...\n",
      "Evidence 3368.919\n",
      "Updating precision...\n",
      "Evidence 3433.958\n",
      "Updating precision...\n",
      "Evidence 3443.378\n",
      "Updating precision...\n",
      "Evidence 3444.761\n",
      "Pass count  1\n"
     ]
    },
    {
     "name": "stderr",
     "output_type": "stream",
     "text": [
      "100%|███████████████████████████████████████| 646/646 [00:00<00:00, 2241.91it/s]\n"
     ]
    },
    {
     "name": "stdout",
     "output_type": "stream",
     "text": [
      "Picked experiment 1 out of 10, sample 20580\n"
     ]
    },
    {
     "name": "stderr",
     "output_type": "stream",
     "text": [
      "100%|███████████████████████████████████████| 646/646 [00:00<00:00, 3437.31it/s]\n"
     ]
    },
    {
     "name": "stdout",
     "output_type": "stream",
     "text": [
      "Picked experiment 2 out of 10, sample 163391\n"
     ]
    },
    {
     "name": "stderr",
     "output_type": "stream",
     "text": [
      "100%|███████████████████████████████████████| 646/646 [00:00<00:00, 3477.85it/s]\n"
     ]
    },
    {
     "name": "stdout",
     "output_type": "stream",
     "text": [
      "Picked experiment 3 out of 10, sample 34336\n"
     ]
    },
    {
     "name": "stderr",
     "output_type": "stream",
     "text": [
      "100%|███████████████████████████████████████| 646/646 [00:00<00:00, 3371.63it/s]\n"
     ]
    },
    {
     "name": "stdout",
     "output_type": "stream",
     "text": [
      "Picked experiment 4 out of 10, sample 163392\n"
     ]
    },
    {
     "name": "stderr",
     "output_type": "stream",
     "text": [
      "100%|███████████████████████████████████████| 646/646 [00:00<00:00, 3478.59it/s]\n"
     ]
    },
    {
     "name": "stdout",
     "output_type": "stream",
     "text": [
      "Picked experiment 5 out of 10, sample 163393\n"
     ]
    },
    {
     "name": "stderr",
     "output_type": "stream",
     "text": [
      "100%|███████████████████████████████████████| 646/646 [00:00<00:00, 3444.66it/s]\n"
     ]
    },
    {
     "name": "stdout",
     "output_type": "stream",
     "text": [
      "Picked experiment 6 out of 10, sample 147435\n"
     ]
    },
    {
     "name": "stderr",
     "output_type": "stream",
     "text": [
      "100%|███████████████████████████████████████| 646/646 [00:00<00:00, 3460.22it/s]\n"
     ]
    },
    {
     "name": "stdout",
     "output_type": "stream",
     "text": [
      "Picked experiment 7 out of 10, sample 157151\n"
     ]
    },
    {
     "name": "stderr",
     "output_type": "stream",
     "text": [
      "100%|███████████████████████████████████████| 646/646 [00:00<00:00, 3515.16it/s]\n"
     ]
    },
    {
     "name": "stdout",
     "output_type": "stream",
     "text": [
      "Picked experiment 8 out of 10, sample 65881\n"
     ]
    },
    {
     "name": "stderr",
     "output_type": "stream",
     "text": [
      "100%|███████████████████████████████████████| 646/646 [00:00<00:00, 3441.83it/s]\n"
     ]
    },
    {
     "name": "stdout",
     "output_type": "stream",
     "text": [
      "Picked experiment 9 out of 10, sample 82950\n"
     ]
    },
    {
     "name": "stderr",
     "output_type": "stream",
     "text": [
      "100%|███████████████████████████████████████| 646/646 [00:00<00:00, 3428.60it/s]\n"
     ]
    },
    {
     "name": "stdout",
     "output_type": "stream",
     "text": [
      "Picked experiment 10 out of 10, sample 48685\n",
      "DTL progress [0.22017725, 0.22017725, 0.23723325, 0.23723325, 0.26654503]\n",
      "Updating precision...\n",
      "Evidence -200.413\n",
      "Updating precision...\n",
      "Evidence 1752.958\n",
      "Updating precision...\n",
      "Evidence 3330.890\n",
      "Updating precision...\n",
      "Evidence 4326.842\n",
      "Updating precision...\n",
      "Evidence 4627.212\n",
      "Updating precision...\n",
      "Evidence 4660.381\n",
      "Updating precision...\n",
      "Evidence 4663.414\n",
      "Pass count  1\n"
     ]
    },
    {
     "name": "stderr",
     "output_type": "stream",
     "text": [
      "100%|███████████████████████████████████████| 646/646 [00:00<00:00, 2357.45it/s]\n"
     ]
    },
    {
     "name": "stdout",
     "output_type": "stream",
     "text": [
      "Picked experiment 1 out of 10, sample 34336\n"
     ]
    },
    {
     "name": "stderr",
     "output_type": "stream",
     "text": [
      "100%|███████████████████████████████████████| 646/646 [00:00<00:00, 3260.08it/s]\n"
     ]
    },
    {
     "name": "stdout",
     "output_type": "stream",
     "text": [
      "Picked experiment 2 out of 10, sample 92308\n"
     ]
    },
    {
     "name": "stderr",
     "output_type": "stream",
     "text": [
      "100%|███████████████████████████████████████| 646/646 [00:00<00:00, 3439.78it/s]\n"
     ]
    },
    {
     "name": "stdout",
     "output_type": "stream",
     "text": [
      "Picked experiment 3 out of 10, sample 95710\n"
     ]
    },
    {
     "name": "stderr",
     "output_type": "stream",
     "text": [
      "100%|███████████████████████████████████████| 646/646 [00:00<00:00, 3454.90it/s]\n"
     ]
    },
    {
     "name": "stdout",
     "output_type": "stream",
     "text": [
      "Picked experiment 4 out of 10, sample 95774\n"
     ]
    },
    {
     "name": "stderr",
     "output_type": "stream",
     "text": [
      "100%|███████████████████████████████████████| 646/646 [00:00<00:00, 3503.78it/s]\n"
     ]
    },
    {
     "name": "stdout",
     "output_type": "stream",
     "text": [
      "Picked experiment 5 out of 10, sample 34337\n"
     ]
    },
    {
     "name": "stderr",
     "output_type": "stream",
     "text": [
      "100%|███████████████████████████████████████| 646/646 [00:00<00:00, 3489.84it/s]\n"
     ]
    },
    {
     "name": "stdout",
     "output_type": "stream",
     "text": [
      "Picked experiment 6 out of 10, sample 77590\n"
     ]
    },
    {
     "name": "stderr",
     "output_type": "stream",
     "text": [
      "100%|███████████████████████████████████████| 646/646 [00:00<00:00, 3507.17it/s]\n"
     ]
    },
    {
     "name": "stdout",
     "output_type": "stream",
     "text": [
      "Picked experiment 7 out of 10, sample 96147\n"
     ]
    },
    {
     "name": "stderr",
     "output_type": "stream",
     "text": [
      "100%|███████████████████████████████████████| 646/646 [00:00<00:00, 3358.98it/s]\n"
     ]
    },
    {
     "name": "stdout",
     "output_type": "stream",
     "text": [
      "Picked experiment 8 out of 10, sample 78009\n"
     ]
    },
    {
     "name": "stderr",
     "output_type": "stream",
     "text": [
      "100%|███████████████████████████████████████| 646/646 [00:00<00:00, 3470.46it/s]\n"
     ]
    },
    {
     "name": "stdout",
     "output_type": "stream",
     "text": [
      "Picked experiment 9 out of 10, sample 95711\n"
     ]
    },
    {
     "name": "stderr",
     "output_type": "stream",
     "text": [
      "100%|███████████████████████████████████████| 646/646 [00:00<00:00, 3404.64it/s]\n"
     ]
    },
    {
     "name": "stdout",
     "output_type": "stream",
     "text": [
      "Picked experiment 10 out of 10, sample 34272\n",
      "DTL progress [0.22017725, 0.22017725, 0.23723325, 0.23723325, 0.26654503, 0.26654503]\n"
     ]
    }
   ],
   "source": [
    "# init dataframe to keep track of optimization status\n",
    "df_results = pd.DataFrame()\n",
    "\n",
    "# repeat process several times\n",
    "for trial in np.arange(n_trials):\n",
    "\n",
    "    # init with randomly selected set of conditions \n",
    "    randinds = randinds_list[trial]\n",
    "    X_train, Y_train = X[randinds], Y[randinds]\n",
    "\n",
    "    # init objectives\n",
    "    # populate matrix of input combinations \n",
    "    n_cond = comb(n_init, 2)\n",
    "    init_objectives = []\n",
    "    for k, (i, j) in tqdm(enumerate(itertools.combinations(range(n_init), 2)), total=comb(n_init, 2)):\n",
    "        init_objectives.append(measured_obj(Y_train[i], Y_train[j]))\n",
    "\n",
    "    # initialize list of best found objectives\n",
    "    best_objective = [np.nanmax(init_objectives)]\n",
    "    print(\"Starting with best value\", best_objective[-1])\n",
    "\n",
    "    # loop through rounds of design, test, learn\n",
    "    for _ in np.arange(n_rounds):\n",
    "        \n",
    "        # init model \n",
    "        n_inputs = len(features)\n",
    "        n_hidden = 8\n",
    "        n_outputs = len(response)\n",
    "        ffnn = FFNN(n_inputs, n_hidden, n_outputs)\n",
    "\n",
    "        # fit NN\n",
    "        ffnn.fit(X_train, Y_train)\n",
    "\n",
    "        # design new experiment \n",
    "        optimized_samples = search_Thompson(ffnn, D, n_design)\n",
    "        \n",
    "        # collect new data and evaluate performance of selected samples \n",
    "        sampled_objectives = []\n",
    "        X_new = []\n",
    "        Y_new = []\n",
    "        for k in optimized_samples:\n",
    "            i, j = data_dict[k]\n",
    "            X_new.append(X[i])\n",
    "            X_new.append(X[j])\n",
    "            Y_new.append(Y[i])\n",
    "            Y_new.append(Y[j])\n",
    "            y1 = Y[i]\n",
    "            y2 = Y[j]\n",
    "            sampled_objectives.append(measured_obj(y1, y2))\n",
    "        best_objective.append(np.max([np.max(best_objective), np.nanmax(np.array(sampled_objectives))]))\n",
    "        print(\"DTL progress\", best_objective)\n",
    "\n",
    "        # append new data to train data\n",
    "        X_new = np.stack(X_new)\n",
    "        Y_new = np.stack(Y_new)\n",
    "        X_train = np.concatenate((X_train, X_new))\n",
    "        Y_train = np.concatenate((Y_train, Y_new))\n",
    "\n",
    "    # save results\n",
    "    df_results[trial] = best_objective"
   ]
  },
  {
   "cell_type": "code",
   "execution_count": 14,
   "id": "69e09e2a",
   "metadata": {},
   "outputs": [],
   "source": [
    "df_results.to_csv(\"simulation/nn_optimization.csv\", index=False)"
   ]
  },
  {
   "cell_type": "code",
   "execution_count": 15,
   "id": "bbb27d9a",
   "metadata": {},
   "outputs": [],
   "source": [
    "# Compare to random sampling \n",
    "df_random = pd.DataFrame()\n",
    "\n",
    "# repeat process several times\n",
    "for trial in range(n_trials):\n",
    "    \n",
    "    # randomly selected set of conditions \n",
    "    randinds = randinds_list[trial]\n",
    "    X_train, Y_train = X[randinds], Y[randinds]\n",
    "\n",
    "    # init objectives\n",
    "    # populate matrix of input combinations \n",
    "    sampled_objectives = []\n",
    "    for k, (i, j) in enumerate(itertools.combinations(range(n_init), 2)):\n",
    "        sampled_objectives.append(measured_obj(Y_train[i], Y_train[j]))\n",
    "    best_objective = [np.max(sampled_objectives)]\n",
    "\n",
    "    for n_round in range(n_rounds):\n",
    "        \n",
    "        # random set of light pairs\n",
    "        randinds = np.random.choice(np.arange(len(D)), n_design*(n_round + 1), replace=False)\n",
    "\n",
    "        # init objectives\n",
    "        # populate matrix of input combinations \n",
    "        sampled_objectives = []\n",
    "        for k in randinds:\n",
    "            i, j = data_dict[k]\n",
    "            sampled_objectives.append(measured_obj(Y[i], Y[j]))\n",
    "\n",
    "        # append to list of best found objectives\n",
    "        best_objective.append(np.max([np.max(best_objective), np.max(sampled_objectives)]))\n",
    "        \n",
    "    # save results\n",
    "    df_random[trial] = best_objective"
   ]
  },
  {
   "cell_type": "code",
   "execution_count": 16,
   "id": "110a6338",
   "metadata": {},
   "outputs": [],
   "source": [
    "df_random.to_csv(\"simulation/random_optimization.csv\", index=False)"
   ]
  },
  {
   "cell_type": "code",
   "execution_count": 18,
   "id": "7dbd1257",
   "metadata": {},
   "outputs": [
    {
     "data": {
      "image/png": "[encoded data removed]",
      "text/plain": [
       "<Figure size 640x480 with 1 Axes>"
      ]
     },
     "metadata": {},
     "output_type": "display_data"
    }
   ],
   "source": [
    "q25, q50, q75 = np.quantile(df_random.values, [.25, .5, .75], 1)\n",
    "plt.plot(np.arange(df_results.shape[0]), q50, c='C1', label=\"Random\", zorder=0)\n",
    "plt.scatter(np.arange(df_results.shape[0]), q50, c='C1', edgecolor='k', zorder=1)\n",
    "plt.fill_between(np.arange(df_results.shape[0]), q25, q75, color='C1', alpha=.5, zorder=0)\n",
    "\n",
    "q25, q50, q75 = np.quantile(df_results.values, [.25, .5, .75], 1)\n",
    "plt.plot(np.arange(df_results.shape[0]), q50, c='C0', label=\"Designed\", zorder=2)\n",
    "plt.scatter(np.arange(df_results.shape[0]), q50, c='C0', edgecolor='k', zorder=3)\n",
    "plt.fill_between(np.arange(df_results.shape[0]), q25, q75, color='C0', alpha=.5, zorder=2)\n",
    "\n",
    "plt.axhline(y=np.max(objectives), c='k', linestyle='--', label='Best possible')\n",
    "\n",
    "plt.legend(fontsize=14, loc='lower right')\n",
    "plt.xlabel(\"Experiment rounds\", fontsize=14)\n",
    "plt.ylabel(\"Switching objective\", fontsize=14)\n",
    "plt.xticks(fontsize=14)\n",
    "plt.yticks(fontsize=14)\n",
    "\n",
    "plt.tight_layout()\n",
    "plt.savefig(\"figures/optimization_simulation.png\", dpi=300)\n",
    "plt.show()"
   ]
  }
 ],
 "metadata": {
  "kernelspec": {
   "display_name": "Python 3 (ipykernel)",
   "language": "python",
   "name": "python3"
  },
  "language_info": {
   "codemirror_mode": {
    "name": "ipython",
    "version": 3
   },
   "file_extension": ".py",
   "mimetype": "text/x-python",
   "name": "python",
   "nbconvert_exporter": "python",
   "pygments_lexer": "ipython3",
   "version": "3.11.3"
  }
 },
 "nbformat": 4,
 "nbformat_minor": 5
}
